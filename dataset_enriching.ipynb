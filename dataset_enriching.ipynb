{
 "cells": [
  {
   "cell_type": "code",
   "execution_count": 1,
   "metadata": {},
   "outputs": [],
   "source": [
    "import pandas as pd\n",
    "pd.set_option('display.max_rows',500)\n",
    "import numpy as np\n",
    "import os\n",
    "import gzip\n",
    "import re"
   ]
  },
  {
   "cell_type": "code",
   "execution_count": 2,
   "metadata": {},
   "outputs": [],
   "source": [
    "from selenium import webdriver\n",
    "from selenium.webdriver.common.keys import Keys\n",
    "from webdriver_manager.chrome import ChromeDriverManager\n",
    "from selenium.webdriver.support import expected_conditions as ec\n",
    "from selenium.webdriver.support.ui import WebDriverWait\n",
    "from selenium.webdriver.support.ui import Select\n",
    "from selenium.webdriver.common.action_chains import ActionChains\n",
    "from selenium.webdriver.common.by import By"
   ]
  },
  {
   "cell_type": "code",
   "execution_count": 3,
   "metadata": {},
   "outputs": [],
   "source": [
    "def preparing_data(path, platform):\n",
    "    df = pd.read_csv(path)\n",
    "    df['platform'] = platform\n",
    "    return df"
   ]
  },
  {
   "cell_type": "code",
   "execution_count": 62,
   "metadata": {},
   "outputs": [],
   "source": [
    "def get_nulls(df):\n",
    "    return df[df['imdb_rating'].isnull()].shape\n",
    "    "
   ]
  },
  {
   "cell_type": "code",
   "execution_count": 5,
   "metadata": {},
   "outputs": [],
   "source": [
    "netflix = preparing_data('data\\\\kaggle_data\\\\netflix_titles.csv', 'netflix')"
   ]
  },
  {
   "cell_type": "code",
   "execution_count": 6,
   "metadata": {},
   "outputs": [],
   "source": [
    "amazon = preparing_data('data\\\\kaggle_data\\\\amazon_prime_titles.csv', 'amazon')"
   ]
  },
  {
   "cell_type": "code",
   "execution_count": 7,
   "metadata": {},
   "outputs": [],
   "source": [
    "disney = preparing_data('data\\\\kaggle_data\\\\disney_plus_titles.csv', 'disney')"
   ]
  },
  {
   "cell_type": "code",
   "execution_count": 8,
   "metadata": {},
   "outputs": [],
   "source": [
    "data = pd.concat([netflix, amazon, disney])"
   ]
  },
  {
   "cell_type": "code",
   "execution_count": 3,
   "metadata": {},
   "outputs": [],
   "source": [
    "amazon = pd.read_csv('data\\\\notebook_df\\\\amazon.csv')\n"
   ]
  },
  {
   "cell_type": "markdown",
   "metadata": {},
   "source": [
    "### Selenium extraction"
   ]
  },
  {
   "cell_type": "code",
   "execution_count": 4,
   "metadata": {},
   "outputs": [],
   "source": [
    "def get_rating(value):\n",
    "    \n",
    "    try:\n",
    "    \n",
    "        os.environ['WDM_LOG_LEVEL'] = '0'\n",
    "        browser = webdriver.Chrome(ChromeDriverManager().install())\n",
    "        wait = WebDriverWait(browser, 10)\n",
    "        browser.maximize_window()\n",
    "        browser.get(\"https://www.imdb.com/\")\n",
    "        browser.implicitly_wait(10)\n",
    "\n",
    "        search = wait.until(ec.element_to_be_clickable((By.XPATH, '//*[@id=\"suggestion-search\"]')))\n",
    "        search.send_keys(value)\n",
    "        browser.implicitly_wait(7)\n",
    "\n",
    "        search_button = browser.find_element_by_id('suggestion-search-button')\n",
    "        search_button.click()\n",
    "\n",
    "        #data_year = str(l.release_year[l.title == value].item())\n",
    "        data_year = str(data.release_year[data.title == value].to_list()[0])\n",
    "\n",
    "        try:\n",
    "\n",
    "            results_table = browser.find_element_by_class_name('findList')\n",
    "            rows = results_table.find_elements(By.TAG_NAME, \"tr\")\n",
    "            col = [row.find_elements(By.TAG_NAME, \"td\")[1].text for row in rows]\n",
    "            for rg in range(0, len(col)):\n",
    "                try:\n",
    "                    imdb_year = re.findall('\\(\\d{4}\\)',col[rg])[0].replace('(','').replace(')','')\n",
    "                    if imdb_year == data_year:\n",
    "                        search_result = wait.until(ec.element_to_be_clickable((By.XPATH, f'/html/body/div[3]/div/div[2]/div[3]/div[1]/div/div[2]/table/tbody/tr[{rg+1}]/td[2]/a')))\n",
    "                        search_result.click()\n",
    "                        rating = browser.find_element_by_class_name('AggregateRatingButton__RatingScore-sc-1ll29m0-1.iTLWoV').text\n",
    "                        browser.close()\n",
    "                        return rating\n",
    "                    else:\n",
    "                        pass\n",
    "\n",
    "                except: \n",
    "                    pass\n",
    "        except:\n",
    "            pass\n",
    "    except:\n",
    "        pass"
   ]
  },
  {
   "cell_type": "code",
   "execution_count": 7,
   "metadata": {},
   "outputs": [],
   "source": [
    "amazon_null = amazon[amazon.imdb_rating.isnull()]"
   ]
  },
  {
   "cell_type": "code",
   "execution_count": 11,
   "metadata": {},
   "outputs": [],
   "source": [
    "pd.set_option('display.max_rows',5000)"
   ]
  },
  {
   "cell_type": "code",
   "execution_count": 22,
   "metadata": {},
   "outputs": [],
   "source": [
    "amazon_dir = amazon_null[~amazon_null.director.isnull()]"
   ]
  },
  {
   "cell_type": "code",
   "execution_count": 23,
   "metadata": {},
   "outputs": [
    {
     "data": {
      "text/plain": [
       "(3398, 14)"
      ]
     },
     "execution_count": 23,
     "metadata": {},
     "output_type": "execute_result"
    }
   ],
   "source": [
    "amazon_dir.shape"
   ]
  },
  {
   "cell_type": "code",
   "execution_count": 5,
   "metadata": {},
   "outputs": [],
   "source": [
    "def rating_2(value):\n",
    "    \n",
    "    try:\n",
    "        os.environ['WDM_LOG_LEVEL'] = '0'\n",
    "        browser = webdriver.Chrome(ChromeDriverManager().install())\n",
    "        wait = WebDriverWait(browser, 10)\n",
    "        browser.maximize_window()\n",
    "        browser.get(\"https://www.imdb.com/\")\n",
    "        browser.implicitly_wait(10)\n",
    "\n",
    "        search = wait.until(ec.element_to_be_clickable((By.XPATH, '//*[@id=\"suggestion-search\"]')))\n",
    "        search.send_keys(value)\n",
    "        browser.implicitly_wait(7)\n",
    "\n",
    "        search_button = browser.find_element_by_id('suggestion-search-button')\n",
    "        search_button.click()\n",
    "        search_result = wait.until(ec.element_to_be_clickable((By.XPATH, f'/html/body/div[3]/div/div[2]/div[3]/div[1]/div/div[2]/table/tbody/tr[1]/td[2]/a')))\n",
    "        search_result.click()\n",
    "        rating = browser.find_element_by_class_name('AggregateRatingButton__RatingScore-sc-1ll29m0-1.iTLWoV').text\n",
    "        browser.close()\n",
    "        return rating\n",
    "    except:\n",
    "        pass"
   ]
  },
  {
   "cell_type": "code",
   "execution_count": 16,
   "metadata": {},
   "outputs": [],
   "source": [
    "amazon_null.to_csv(r'C:\\Users\\juanp\\proyectos_varios\\streaming_platforms\\data\\notebook_df\\amazon_null.csv' , index = False)"
   ]
  },
  {
   "cell_type": "code",
   "execution_count": null,
   "metadata": {},
   "outputs": [],
   "source": []
  }
 ],
 "metadata": {
  "kernelspec": {
   "display_name": "Python 3",
   "language": "python",
   "name": "python3"
  },
  "language_info": {
   "codemirror_mode": {
    "name": "ipython",
    "version": 3
   },
   "file_extension": ".py",
   "mimetype": "text/x-python",
   "name": "python",
   "nbconvert_exporter": "python",
   "pygments_lexer": "ipython3",
   "version": "3.9.1"
  }
 },
 "nbformat": 4,
 "nbformat_minor": 4
}

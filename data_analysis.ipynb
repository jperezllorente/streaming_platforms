{
 "cells": [
  {
   "cell_type": "code",
   "execution_count": 1,
   "metadata": {},
   "outputs": [],
   "source": [
    "import pandas as pd\n",
    "import numpy as np\n",
    "import seaborn as sns\n",
    "import matplotlib.pyplot as plt\n",
    "import ipywidgets as widgets"
   ]
  },
  {
   "cell_type": "code",
   "execution_count": 2,
   "metadata": {},
   "outputs": [],
   "source": [
    "from IPython.display import display_html\n",
    "from itertools import chain,cycle\n",
    "def display_side_by_side(*args,titles=cycle([''])):\n",
    "    html_str=''\n",
    "    for df,title in zip(args, chain(titles,cycle(['</br>'])) ):\n",
    "        html_str+='<th style=\"text-align:center\"><td style=\"vertical-align:top\">'\n",
    "        html_str+=f'<h2>{title}</h2>'\n",
    "        html_str+=df.to_html().replace('table','table style=\"display:inline\"')\n",
    "        html_str+='</td></th>'\n",
    "    display_html(html_str,raw=True)\n",
    "# https://stackoverflow.com/questions/38783027/jupyter-notebook-display-two-pandas-tables-side-by-side"
   ]
  },
  {
   "cell_type": "code",
   "execution_count": 3,
   "metadata": {},
   "outputs": [],
   "source": [
    "pd.set_option('display.max_rows',1000)"
   ]
  },
  {
   "cell_type": "markdown",
   "metadata": {},
   "source": [
    "### General functions"
   ]
  },
  {
   "cell_type": "code",
   "execution_count": 4,
   "metadata": {},
   "outputs": [],
   "source": [
    "def df_frag(column, value):\n",
    "    return data[data[column] == value]"
   ]
  },
  {
   "cell_type": "code",
   "execution_count": 5,
   "metadata": {},
   "outputs": [],
   "source": [
    "def get_nulls(df):\n",
    "    return df[df['imdb_rating'].isnull()].shape"
   ]
  },
  {
   "cell_type": "code",
   "execution_count": 6,
   "metadata": {},
   "outputs": [],
   "source": [
    "def drop_column(df,column):\n",
    "    return df.drop(column, axis=1, inplcae = True)"
   ]
  },
  {
   "cell_type": "markdown",
   "metadata": {},
   "source": [
    "### General Analysis"
   ]
  },
  {
   "cell_type": "code",
   "execution_count": 28,
   "metadata": {},
   "outputs": [],
   "source": [
    "#data = pd.read_csv('data\\\\notebook_df\\\\final_data.csv')"
   ]
  },
  {
   "cell_type": "code",
   "execution_count": 25,
   "metadata": {},
   "outputs": [],
   "source": [
    "data = pd.read_csv('data\\\\notebook_df\\\\streaming_platforms_data.csv')"
   ]
  },
  {
   "cell_type": "code",
   "execution_count": 26,
   "metadata": {},
   "outputs": [],
   "source": [
    "data = data[~data.imdb_rating.isnull()]"
   ]
  },
  {
   "cell_type": "code",
   "execution_count": 27,
   "metadata": {},
   "outputs": [
    {
     "data": {
      "text/plain": [
       "(15754, 14)"
      ]
     },
     "execution_count": 27,
     "metadata": {},
     "output_type": "execute_result"
    }
   ],
   "source": [
    "data.shape"
   ]
  },
  {
   "cell_type": "code",
   "execution_count": 28,
   "metadata": {},
   "outputs": [
    {
     "data": {
      "text/plain": [
       "show_id          object\n",
       "type             object\n",
       "title            object\n",
       "director         object\n",
       "cast             object\n",
       "country          object\n",
       "date_added       object\n",
       "release_year      int64\n",
       "rating           object\n",
       "duration         object\n",
       "listed_in        object\n",
       "description      object\n",
       "platform         object\n",
       "imdb_rating     float64\n",
       "dtype: object"
      ]
     },
     "execution_count": 28,
     "metadata": {},
     "output_type": "execute_result"
    }
   ],
   "source": [
    "data.dtypes"
   ]
  },
  {
   "cell_type": "markdown",
   "metadata": {},
   "source": [
    "#### I want to change the name of two columns to a more easy to understand one"
   ]
  },
  {
   "cell_type": "code",
   "execution_count": 39,
   "metadata": {},
   "outputs": [],
   "source": [
    "data.rename(columns={'rating':'PG',\n",
    "                     'title':'name',\n",
    "                     'listed_in':'genres'}, inplace = True)"
   ]
  },
  {
   "cell_type": "code",
   "execution_count": 40,
   "metadata": {},
   "outputs": [
    {
     "data": {
      "text/plain": [
       "Index(['type', 'name', 'country', 'date_added', 'release_year', 'PG',\n",
       "       'duration', 'genres', 'platform', 'imdb_rating'],\n",
       "      dtype='object')"
      ]
     },
     "execution_count": 40,
     "metadata": {},
     "output_type": "execute_result"
    }
   ],
   "source": [
    "data.columns"
   ]
  },
  {
   "cell_type": "markdown",
   "metadata": {},
   "source": [
    "We need to change the format of imdb_rating to float"
   ]
  },
  {
   "cell_type": "code",
   "execution_count": 81,
   "metadata": {},
   "outputs": [],
   "source": [
    "# The rating extrcated from IMdb came wiht a \",\", so before changing its type to float we need to replace it by \".\"\n",
    "data.imdb_rating = data.imdb_rating.replace(',','.',regex = True)\n",
    "data = data.astype({'imdb_rating':'float64'})"
   ]
  },
  {
   "cell_type": "code",
   "execution_count": 82,
   "metadata": {},
   "outputs": [],
   "source": [
    "data = data.astype({'imdb_rating':'float64'})"
   ]
  },
  {
   "cell_type": "code",
   "execution_count": 31,
   "metadata": {},
   "outputs": [],
   "source": [
    "# Lets round the rating to 1 decimal number \n",
    "data = data.round({'imdb_rating':1})"
   ]
  },
  {
   "cell_type": "code",
   "execution_count": 114,
   "metadata": {},
   "outputs": [
    {
     "data": {
      "text/plain": [
       "Index(['show_id', 'type', 'title', 'director', 'cast', 'country', 'date_added',\n",
       "       'release_year', 'rating', 'duration', 'listed_in', 'description',\n",
       "       'platform', 'imdb_rating'],\n",
       "      dtype='object')"
      ]
     },
     "execution_count": 114,
     "metadata": {},
     "output_type": "execute_result"
    }
   ],
   "source": [
    "data.columns"
   ]
  },
  {
   "cell_type": "markdown",
   "metadata": {},
   "source": [
    "### Drop irrelevant columns"
   ]
  },
  {
   "cell_type": "code",
   "execution_count": 36,
   "metadata": {},
   "outputs": [],
   "source": [
    "data = data.drop(['show_id', 'director', 'cast', 'description'], axis = 1)"
   ]
  },
  {
   "cell_type": "code",
   "execution_count": 135,
   "metadata": {},
   "outputs": [],
   "source": [
    "data.to_csv(r'C:\\Users\\juanp\\proyectos_varios\\streaming_platforms\\data\\notebook_df\\platforms_data_22_04.csv' , index = False)"
   ]
  },
  {
   "cell_type": "code",
   "execution_count": 54,
   "metadata": {},
   "outputs": [],
   "source": [
    "data = data[(data.imdb_rating > 1) & (data.imdb_rating < 10)]"
   ]
  },
  {
   "cell_type": "markdown",
   "metadata": {},
   "source": [
    "## Divisions and Analysis"
   ]
  },
  {
   "cell_type": "markdown",
   "metadata": {},
   "source": [
    "### General Analysis"
   ]
  },
  {
   "cell_type": "code",
   "execution_count": 56,
   "metadata": {},
   "outputs": [
    {
     "data": {
      "text/plain": [
       "count    15751.000000\n",
       "mean         6.338652\n",
       "std          1.274798\n",
       "min          1.100000\n",
       "25%          5.600000\n",
       "50%          6.500000\n",
       "75%          7.200000\n",
       "max          9.900000\n",
       "Name: imdb_rating, dtype: float64"
      ]
     },
     "execution_count": 56,
     "metadata": {},
     "output_type": "execute_result"
    }
   ],
   "source": [
    "data.imdb_rating.describe()"
   ]
  },
  {
   "cell_type": "code",
   "execution_count": 57,
   "metadata": {},
   "outputs": [
    {
     "data": {
      "text/html": [
       "<div>\n",
       "<style scoped>\n",
       "    .dataframe tbody tr th:only-of-type {\n",
       "        vertical-align: middle;\n",
       "    }\n",
       "\n",
       "    .dataframe tbody tr th {\n",
       "        vertical-align: top;\n",
       "    }\n",
       "\n",
       "    .dataframe thead th {\n",
       "        text-align: right;\n",
       "    }\n",
       "</style>\n",
       "<table border=\"1\" class=\"dataframe\">\n",
       "  <thead>\n",
       "    <tr style=\"text-align: right;\">\n",
       "      <th></th>\n",
       "      <th>type</th>\n",
       "      <th>name</th>\n",
       "      <th>country</th>\n",
       "      <th>date_added</th>\n",
       "      <th>release_year</th>\n",
       "      <th>PG</th>\n",
       "      <th>duration</th>\n",
       "      <th>genres</th>\n",
       "      <th>platform</th>\n",
       "      <th>imdb_rating</th>\n",
       "    </tr>\n",
       "  </thead>\n",
       "  <tbody>\n",
       "    <tr>\n",
       "      <th>14281</th>\n",
       "      <td>Movie</td>\n",
       "      <td>Yatra (Telugu)</td>\n",
       "      <td>NaN</td>\n",
       "      <td>NaN</td>\n",
       "      <td>2019</td>\n",
       "      <td>ALL</td>\n",
       "      <td>126 min</td>\n",
       "      <td>Drama, International</td>\n",
       "      <td>amazon</td>\n",
       "      <td>9.9</td>\n",
       "    </tr>\n",
       "  </tbody>\n",
       "</table>\n",
       "</div>"
      ],
      "text/plain": [
       "        type            name country date_added  release_year   PG duration  \\\n",
       "14281  Movie  Yatra (Telugu)     NaN        NaN          2019  ALL  126 min   \n",
       "\n",
       "                     genres platform  imdb_rating  \n",
       "14281  Drama, International   amazon          9.9  "
      ]
     },
     "execution_count": 57,
     "metadata": {},
     "output_type": "execute_result"
    }
   ],
   "source": [
    "data[data.imdb_rating == 9.9]"
   ]
  },
  {
   "cell_type": "code",
   "execution_count": 59,
   "metadata": {},
   "outputs": [
    {
     "data": {
      "text/html": [
       "<div>\n",
       "<style scoped>\n",
       "    .dataframe tbody tr th:only-of-type {\n",
       "        vertical-align: middle;\n",
       "    }\n",
       "\n",
       "    .dataframe tbody tr th {\n",
       "        vertical-align: top;\n",
       "    }\n",
       "\n",
       "    .dataframe thead th {\n",
       "        text-align: right;\n",
       "    }\n",
       "</style>\n",
       "<table border=\"1\" class=\"dataframe\">\n",
       "  <thead>\n",
       "    <tr style=\"text-align: right;\">\n",
       "      <th></th>\n",
       "      <th>type</th>\n",
       "      <th>name</th>\n",
       "      <th>country</th>\n",
       "      <th>date_added</th>\n",
       "      <th>release_year</th>\n",
       "      <th>PG</th>\n",
       "      <th>duration</th>\n",
       "      <th>genres</th>\n",
       "      <th>platform</th>\n",
       "      <th>imdb_rating</th>\n",
       "    </tr>\n",
       "  </thead>\n",
       "  <tbody>\n",
       "    <tr>\n",
       "      <th>11079</th>\n",
       "      <td>Movie</td>\n",
       "      <td>Finding Jesus</td>\n",
       "      <td>NaN</td>\n",
       "      <td>NaN</td>\n",
       "      <td>2020</td>\n",
       "      <td>ALL</td>\n",
       "      <td>69 min</td>\n",
       "      <td>Faith and Spirituality, Kids, Special Interest</td>\n",
       "      <td>amazon</td>\n",
       "      <td>1.1</td>\n",
       "    </tr>\n",
       "    <tr>\n",
       "      <th>17777</th>\n",
       "      <td>Movie</td>\n",
       "      <td>Hell At My Heels</td>\n",
       "      <td>NaN</td>\n",
       "      <td>NaN</td>\n",
       "      <td>2012</td>\n",
       "      <td>PG</td>\n",
       "      <td>76 min</td>\n",
       "      <td>Western</td>\n",
       "      <td>amazon</td>\n",
       "      <td>1.1</td>\n",
       "    </tr>\n",
       "  </tbody>\n",
       "</table>\n",
       "</div>"
      ],
      "text/plain": [
       "        type              name country date_added  release_year   PG duration  \\\n",
       "11079  Movie     Finding Jesus     NaN        NaN          2020  ALL   69 min   \n",
       "17777  Movie  Hell At My Heels     NaN        NaN          2012   PG   76 min   \n",
       "\n",
       "                                               genres platform  imdb_rating  \n",
       "11079  Faith and Spirituality, Kids, Special Interest   amazon          1.1  \n",
       "17777                                         Western   amazon          1.1  "
      ]
     },
     "execution_count": 59,
     "metadata": {},
     "output_type": "execute_result"
    }
   ],
   "source": [
    "data[data.imdb_rating == 1.1]"
   ]
  },
  {
   "cell_type": "code",
   "execution_count": 63,
   "metadata": {},
   "outputs": [],
   "source": [
    "good_quality = data[data.imdb_rating > 7.2]"
   ]
  },
  {
   "cell_type": "code",
   "execution_count": 65,
   "metadata": {},
   "outputs": [
    {
     "data": {
      "text/plain": [
       "netflix    1886\n",
       "amazon     1718\n",
       "disney      313\n",
       "Name: platform, dtype: int64"
      ]
     },
     "execution_count": 65,
     "metadata": {},
     "output_type": "execute_result"
    }
   ],
   "source": [
    "good_quality.platform.value_counts()"
   ]
  },
  {
   "cell_type": "code",
   "execution_count": 74,
   "metadata": {},
   "outputs": [
    {
     "data": {
      "text/html": [
       "<div>\n",
       "<style scoped>\n",
       "    .dataframe tbody tr th:only-of-type {\n",
       "        vertical-align: middle;\n",
       "    }\n",
       "\n",
       "    .dataframe tbody tr th {\n",
       "        vertical-align: top;\n",
       "    }\n",
       "\n",
       "    .dataframe thead th {\n",
       "        text-align: right;\n",
       "    }\n",
       "</style>\n",
       "<table border=\"1\" class=\"dataframe\">\n",
       "  <thead>\n",
       "    <tr style=\"text-align: right;\">\n",
       "      <th></th>\n",
       "      <th>imdb_rating</th>\n",
       "    </tr>\n",
       "    <tr>\n",
       "      <th>platform</th>\n",
       "      <th></th>\n",
       "    </tr>\n",
       "  </thead>\n",
       "  <tbody>\n",
       "    <tr>\n",
       "      <th>amazon</th>\n",
       "      <td>7.858382</td>\n",
       "    </tr>\n",
       "    <tr>\n",
       "      <th>disney</th>\n",
       "      <td>7.787540</td>\n",
       "    </tr>\n",
       "    <tr>\n",
       "      <th>netflix</th>\n",
       "      <td>7.789396</td>\n",
       "    </tr>\n",
       "  </tbody>\n",
       "</table>\n",
       "</div>"
      ],
      "text/plain": [
       "          imdb_rating\n",
       "platform             \n",
       "amazon       7.858382\n",
       "disney       7.787540\n",
       "netflix      7.789396"
      ]
     },
     "execution_count": 74,
     "metadata": {},
     "output_type": "execute_result"
    }
   ],
   "source": [
    "good_quality.groupby('platform').agg({'imdb_rating':'mean'})"
   ]
  },
  {
   "cell_type": "code",
   "execution_count": 77,
   "metadata": {},
   "outputs": [],
   "source": [
    "s = good_quality.sort_values(by='imdb_rating', ascending=False)"
   ]
  },
  {
   "cell_type": "code",
   "execution_count": 79,
   "metadata": {},
   "outputs": [],
   "source": [
    "s_ = list(s['name'])"
   ]
  },
  {
   "cell_type": "code",
   "execution_count": 85,
   "metadata": {},
   "outputs": [
    {
     "data": {
      "text/html": [
       "<div>\n",
       "<style scoped>\n",
       "    .dataframe tbody tr th:only-of-type {\n",
       "        vertical-align: middle;\n",
       "    }\n",
       "\n",
       "    .dataframe tbody tr th {\n",
       "        vertical-align: top;\n",
       "    }\n",
       "\n",
       "    .dataframe thead th {\n",
       "        text-align: right;\n",
       "    }\n",
       "</style>\n",
       "<table border=\"1\" class=\"dataframe\">\n",
       "  <thead>\n",
       "    <tr style=\"text-align: right;\">\n",
       "      <th></th>\n",
       "      <th>type</th>\n",
       "      <th>name</th>\n",
       "      <th>country</th>\n",
       "      <th>date_added</th>\n",
       "      <th>release_year</th>\n",
       "      <th>PG</th>\n",
       "      <th>duration</th>\n",
       "      <th>genres</th>\n",
       "      <th>platform</th>\n",
       "      <th>imdb_rating</th>\n",
       "    </tr>\n",
       "  </thead>\n",
       "  <tbody>\n",
       "    <tr>\n",
       "      <th>14281</th>\n",
       "      <td>Movie</td>\n",
       "      <td>Yatra (Telugu)</td>\n",
       "      <td>NaN</td>\n",
       "      <td>NaN</td>\n",
       "      <td>2019</td>\n",
       "      <td>ALL</td>\n",
       "      <td>126 min</td>\n",
       "      <td>Drama, International</td>\n",
       "      <td>amazon</td>\n",
       "      <td>9.9</td>\n",
       "    </tr>\n",
       "    <tr>\n",
       "      <th>12872</th>\n",
       "      <td>TV Show</td>\n",
       "      <td>JARRETTS</td>\n",
       "      <td>NaN</td>\n",
       "      <td>NaN</td>\n",
       "      <td>2021</td>\n",
       "      <td>16+</td>\n",
       "      <td>1 Season</td>\n",
       "      <td>TV Shows</td>\n",
       "      <td>amazon</td>\n",
       "      <td>9.8</td>\n",
       "    </tr>\n",
       "    <tr>\n",
       "      <th>2557</th>\n",
       "      <td>TV Show</td>\n",
       "      <td>Scissor Seven</td>\n",
       "      <td>China</td>\n",
       "      <td>May 7, 2020</td>\n",
       "      <td>2020</td>\n",
       "      <td>TV-MA</td>\n",
       "      <td>2 Seasons</td>\n",
       "      <td>International TV Shows, TV Action &amp; Adventure,...</td>\n",
       "      <td>netflix</td>\n",
       "      <td>9.7</td>\n",
       "    </tr>\n",
       "    <tr>\n",
       "      <th>12032</th>\n",
       "      <td>Movie</td>\n",
       "      <td>Deva Rickshawala</td>\n",
       "      <td>NaN</td>\n",
       "      <td>NaN</td>\n",
       "      <td>2021</td>\n",
       "      <td>16+</td>\n",
       "      <td>127 min</td>\n",
       "      <td>Drama, Romance</td>\n",
       "      <td>amazon</td>\n",
       "      <td>9.7</td>\n",
       "    </tr>\n",
       "    <tr>\n",
       "      <th>18469</th>\n",
       "      <td>Movie</td>\n",
       "      <td>Anaganaga Oka Nenu</td>\n",
       "      <td>NaN</td>\n",
       "      <td>NaN</td>\n",
       "      <td>2021</td>\n",
       "      <td>18+</td>\n",
       "      <td>135 min</td>\n",
       "      <td>Action, Drama, Suspense</td>\n",
       "      <td>amazon</td>\n",
       "      <td>9.7</td>\n",
       "    </tr>\n",
       "    <tr>\n",
       "      <th>11406</th>\n",
       "      <td>Movie</td>\n",
       "      <td>Mitzi... Zings into Spring</td>\n",
       "      <td>NaN</td>\n",
       "      <td>NaN</td>\n",
       "      <td>1977</td>\n",
       "      <td>16+</td>\n",
       "      <td>51 min</td>\n",
       "      <td>Arts, Entertainment, and Culture</td>\n",
       "      <td>amazon</td>\n",
       "      <td>9.6</td>\n",
       "    </tr>\n",
       "    <tr>\n",
       "      <th>18080</th>\n",
       "      <td>TV Show</td>\n",
       "      <td>Act 5 - Series 2</td>\n",
       "      <td>NaN</td>\n",
       "      <td>NaN</td>\n",
       "      <td>2021</td>\n",
       "      <td>ALL</td>\n",
       "      <td>1 Season</td>\n",
       "      <td>TV Shows</td>\n",
       "      <td>amazon</td>\n",
       "      <td>9.6</td>\n",
       "    </tr>\n",
       "    <tr>\n",
       "      <th>18081</th>\n",
       "      <td>TV Show</td>\n",
       "      <td>Act 5 - Series 1</td>\n",
       "      <td>NaN</td>\n",
       "      <td>September 17, 2021</td>\n",
       "      <td>2021</td>\n",
       "      <td>ALL</td>\n",
       "      <td>3 Seasons</td>\n",
       "      <td>Action</td>\n",
       "      <td>amazon</td>\n",
       "      <td>9.6</td>\n",
       "    </tr>\n",
       "    <tr>\n",
       "      <th>7747</th>\n",
       "      <td>TV Show</td>\n",
       "      <td>Planet Earth II</td>\n",
       "      <td>United Kingdom</td>\n",
       "      <td>December 25, 2017</td>\n",
       "      <td>2016</td>\n",
       "      <td>TV-G</td>\n",
       "      <td>1 Season</td>\n",
       "      <td>British TV Shows, Docuseries, Science &amp; Nature TV</td>\n",
       "      <td>netflix</td>\n",
       "      <td>9.5</td>\n",
       "    </tr>\n",
       "    <tr>\n",
       "      <th>16208</th>\n",
       "      <td>Movie</td>\n",
       "      <td>Standing Eight</td>\n",
       "      <td>NaN</td>\n",
       "      <td>NaN</td>\n",
       "      <td>2019</td>\n",
       "      <td>16+</td>\n",
       "      <td>27 min</td>\n",
       "      <td>Drama</td>\n",
       "      <td>amazon</td>\n",
       "      <td>9.5</td>\n",
       "    </tr>\n",
       "    <tr>\n",
       "      <th>13390</th>\n",
       "      <td>TV Show</td>\n",
       "      <td>Couple of Mirrors</td>\n",
       "      <td>NaN</td>\n",
       "      <td>NaN</td>\n",
       "      <td>2021</td>\n",
       "      <td>13+</td>\n",
       "      <td>1 Season</td>\n",
       "      <td>Romance</td>\n",
       "      <td>amazon</td>\n",
       "      <td>9.5</td>\n",
       "    </tr>\n",
       "    <tr>\n",
       "      <th>11910</th>\n",
       "      <td>TV Show</td>\n",
       "      <td>Starting Up</td>\n",
       "      <td>NaN</td>\n",
       "      <td>NaN</td>\n",
       "      <td>2021</td>\n",
       "      <td>16+</td>\n",
       "      <td>1 Season</td>\n",
       "      <td>Drama</td>\n",
       "      <td>amazon</td>\n",
       "      <td>9.5</td>\n",
       "    </tr>\n",
       "    <tr>\n",
       "      <th>1986</th>\n",
       "      <td>TV Show</td>\n",
       "      <td>Hospital Playlist</td>\n",
       "      <td>South Korea</td>\n",
       "      <td>June 18, 2021</td>\n",
       "      <td>2021</td>\n",
       "      <td>TV-14</td>\n",
       "      <td>2 Seasons</td>\n",
       "      <td>International TV Shows, Korean TV Shows, TV Co...</td>\n",
       "      <td>netflix</td>\n",
       "      <td>9.5</td>\n",
       "    </tr>\n",
       "    <tr>\n",
       "      <th>9779</th>\n",
       "      <td>TV Show</td>\n",
       "      <td>Take Us Home: Leeds United</td>\n",
       "      <td>United Kingdom</td>\n",
       "      <td>NaN</td>\n",
       "      <td>2020</td>\n",
       "      <td>16+</td>\n",
       "      <td>2 Seasons</td>\n",
       "      <td>TV Shows</td>\n",
       "      <td>amazon</td>\n",
       "      <td>9.4</td>\n",
       "    </tr>\n",
       "    <tr>\n",
       "      <th>10028</th>\n",
       "      <td>Movie</td>\n",
       "      <td>Prayer Never Fails</td>\n",
       "      <td>NaN</td>\n",
       "      <td>NaN</td>\n",
       "      <td>2017</td>\n",
       "      <td>7+</td>\n",
       "      <td>98 min</td>\n",
       "      <td>Drama, Faith and Spirituality</td>\n",
       "      <td>amazon</td>\n",
       "      <td>9.4</td>\n",
       "    </tr>\n",
       "    <tr>\n",
       "      <th>10111</th>\n",
       "      <td>TV Show</td>\n",
       "      <td>Niko and the Sword of Light</td>\n",
       "      <td>NaN</td>\n",
       "      <td>NaN</td>\n",
       "      <td>2019</td>\n",
       "      <td>ALL</td>\n",
       "      <td>3 Seasons</td>\n",
       "      <td>Kids</td>\n",
       "      <td>amazon</td>\n",
       "      <td>9.4</td>\n",
       "    </tr>\n",
       "    <tr>\n",
       "      <th>14655</th>\n",
       "      <td>TV Show</td>\n",
       "      <td>Subaru Launch Control</td>\n",
       "      <td>NaN</td>\n",
       "      <td>NaN</td>\n",
       "      <td>2021</td>\n",
       "      <td>13+</td>\n",
       "      <td>3 Seasons</td>\n",
       "      <td>Documentary, Special Interest, Sports</td>\n",
       "      <td>amazon</td>\n",
       "      <td>9.4</td>\n",
       "    </tr>\n",
       "    <tr>\n",
       "      <th>12319</th>\n",
       "      <td>Movie</td>\n",
       "      <td>Restoration, Inc.</td>\n",
       "      <td>NaN</td>\n",
       "      <td>NaN</td>\n",
       "      <td>2021</td>\n",
       "      <td>16+</td>\n",
       "      <td>66 min</td>\n",
       "      <td>Action, Drama</td>\n",
       "      <td>amazon</td>\n",
       "      <td>9.3</td>\n",
       "    </tr>\n",
       "    <tr>\n",
       "      <th>9180</th>\n",
       "      <td>Movie</td>\n",
       "      <td>Babe Ruth Story</td>\n",
       "      <td>NaN</td>\n",
       "      <td>NaN</td>\n",
       "      <td>2014</td>\n",
       "      <td>ALL</td>\n",
       "      <td>54 min</td>\n",
       "      <td>Documentary, Sports</td>\n",
       "      <td>amazon</td>\n",
       "      <td>9.3</td>\n",
       "    </tr>\n",
       "    <tr>\n",
       "      <th>8913</th>\n",
       "      <td>Movie</td>\n",
       "      <td>A Promise to My Father</td>\n",
       "      <td>NaN</td>\n",
       "      <td>NaN</td>\n",
       "      <td>2013</td>\n",
       "      <td>13+</td>\n",
       "      <td>56 min</td>\n",
       "      <td>Documentary</td>\n",
       "      <td>amazon</td>\n",
       "      <td>9.3</td>\n",
       "    </tr>\n",
       "    <tr>\n",
       "      <th>14463</th>\n",
       "      <td>Movie</td>\n",
       "      <td>The Prisoner</td>\n",
       "      <td>NaN</td>\n",
       "      <td>NaN</td>\n",
       "      <td>1990</td>\n",
       "      <td>R</td>\n",
       "      <td>97 min</td>\n",
       "      <td>Action, Drama</td>\n",
       "      <td>amazon</td>\n",
       "      <td>9.3</td>\n",
       "    </tr>\n",
       "    <tr>\n",
       "      <th>3938</th>\n",
       "      <td>TV Show</td>\n",
       "      <td>Our Planet</td>\n",
       "      <td>United States, United Kingdom</td>\n",
       "      <td>April 5, 2019</td>\n",
       "      <td>2019</td>\n",
       "      <td>TV-PG</td>\n",
       "      <td>1 Season</td>\n",
       "      <td>Docuseries, Science &amp; Nature TV</td>\n",
       "      <td>netflix</td>\n",
       "      <td>9.3</td>\n",
       "    </tr>\n",
       "    <tr>\n",
       "      <th>11879</th>\n",
       "      <td>Movie</td>\n",
       "      <td>Strictly For The Streets Vol. 1</td>\n",
       "      <td>NaN</td>\n",
       "      <td>NaN</td>\n",
       "      <td>2021</td>\n",
       "      <td>18+</td>\n",
       "      <td>70 min</td>\n",
       "      <td>Comedy, Drama, Romance</td>\n",
       "      <td>amazon</td>\n",
       "      <td>9.3</td>\n",
       "    </tr>\n",
       "    <tr>\n",
       "      <th>11958</th>\n",
       "      <td>Movie</td>\n",
       "      <td>Gho Gho Rani</td>\n",
       "      <td>NaN</td>\n",
       "      <td>NaN</td>\n",
       "      <td>2019</td>\n",
       "      <td>ALL</td>\n",
       "      <td>100 min</td>\n",
       "      <td>Drama, Romance</td>\n",
       "      <td>amazon</td>\n",
       "      <td>9.3</td>\n",
       "    </tr>\n",
       "    <tr>\n",
       "      <th>12146</th>\n",
       "      <td>TV Show</td>\n",
       "      <td>Aham Bhramhasmi</td>\n",
       "      <td>NaN</td>\n",
       "      <td>NaN</td>\n",
       "      <td>2021</td>\n",
       "      <td>13+</td>\n",
       "      <td>1 Season</td>\n",
       "      <td>Action, Drama, Suspense</td>\n",
       "      <td>amazon</td>\n",
       "      <td>9.3</td>\n",
       "    </tr>\n",
       "    <tr>\n",
       "      <th>16191</th>\n",
       "      <td>Movie</td>\n",
       "      <td>Prem Gajra Chilli Chicken</td>\n",
       "      <td>NaN</td>\n",
       "      <td>NaN</td>\n",
       "      <td>2021</td>\n",
       "      <td>18+</td>\n",
       "      <td>19 min</td>\n",
       "      <td>Action, Romance</td>\n",
       "      <td>amazon</td>\n",
       "      <td>9.3</td>\n",
       "    </tr>\n",
       "    <tr>\n",
       "      <th>6341</th>\n",
       "      <td>TV Show</td>\n",
       "      <td>Blue Planet II</td>\n",
       "      <td>United Kingdom</td>\n",
       "      <td>December 3, 2018</td>\n",
       "      <td>2017</td>\n",
       "      <td>TV-G</td>\n",
       "      <td>1 Season</td>\n",
       "      <td>British TV Shows, Docuseries, Science &amp; Nature TV</td>\n",
       "      <td>netflix</td>\n",
       "      <td>9.3</td>\n",
       "    </tr>\n",
       "    <tr>\n",
       "      <th>11884</th>\n",
       "      <td>Movie</td>\n",
       "      <td>Pazhagiya Naatkal</td>\n",
       "      <td>NaN</td>\n",
       "      <td>NaN</td>\n",
       "      <td>2021</td>\n",
       "      <td>13+</td>\n",
       "      <td>120 min</td>\n",
       "      <td>Romance</td>\n",
       "      <td>amazon</td>\n",
       "      <td>9.3</td>\n",
       "    </tr>\n",
       "    <tr>\n",
       "      <th>16077</th>\n",
       "      <td>Movie</td>\n",
       "      <td>The Tell Tale Heart</td>\n",
       "      <td>NaN</td>\n",
       "      <td>NaN</td>\n",
       "      <td>2021</td>\n",
       "      <td>18+</td>\n",
       "      <td>80 min</td>\n",
       "      <td>Horror, Suspense</td>\n",
       "      <td>amazon</td>\n",
       "      <td>9.3</td>\n",
       "    </tr>\n",
       "    <tr>\n",
       "      <th>15764</th>\n",
       "      <td>TV Show</td>\n",
       "      <td>Avatar: The Last Airbender</td>\n",
       "      <td>NaN</td>\n",
       "      <td>NaN</td>\n",
       "      <td>2008</td>\n",
       "      <td>TV-Y7</td>\n",
       "      <td>3 Seasons</td>\n",
       "      <td>Kids</td>\n",
       "      <td>amazon</td>\n",
       "      <td>9.3</td>\n",
       "    </tr>\n",
       "    <tr>\n",
       "      <th>10511</th>\n",
       "      <td>TV Show</td>\n",
       "      <td>Harmony with A R Rahman</td>\n",
       "      <td>NaN</td>\n",
       "      <td>NaN</td>\n",
       "      <td>2018</td>\n",
       "      <td>NR</td>\n",
       "      <td>1 Season</td>\n",
       "      <td>Arts, Entertainment, and Culture, Documentary</td>\n",
       "      <td>amazon</td>\n",
       "      <td>9.2</td>\n",
       "    </tr>\n",
       "    <tr>\n",
       "      <th>15728</th>\n",
       "      <td>Movie</td>\n",
       "      <td>Because I Love You</td>\n",
       "      <td>NaN</td>\n",
       "      <td>NaN</td>\n",
       "      <td>2020</td>\n",
       "      <td>18+</td>\n",
       "      <td>102 min</td>\n",
       "      <td>Action, Drama</td>\n",
       "      <td>amazon</td>\n",
       "      <td>9.2</td>\n",
       "    </tr>\n",
       "    <tr>\n",
       "      <th>9925</th>\n",
       "      <td>TV Show</td>\n",
       "      <td>Scaredy Squirrel</td>\n",
       "      <td>NaN</td>\n",
       "      <td>March 30, 2021</td>\n",
       "      <td>2012</td>\n",
       "      <td>TV-G</td>\n",
       "      <td>4 Seasons</td>\n",
       "      <td>Animation, Kids</td>\n",
       "      <td>amazon</td>\n",
       "      <td>9.2</td>\n",
       "    </tr>\n",
       "    <tr>\n",
       "      <th>9788</th>\n",
       "      <td>TV Show</td>\n",
       "      <td>Surgeons: At the Edge of Life</td>\n",
       "      <td>NaN</td>\n",
       "      <td>NaN</td>\n",
       "      <td>2018</td>\n",
       "      <td>16+</td>\n",
       "      <td>1 Season</td>\n",
       "      <td>Documentary</td>\n",
       "      <td>amazon</td>\n",
       "      <td>9.2</td>\n",
       "    </tr>\n",
       "    <tr>\n",
       "      <th>3047</th>\n",
       "      <td>TV Show</td>\n",
       "      <td>Anne with an E</td>\n",
       "      <td>Canada</td>\n",
       "      <td>January 3, 2020</td>\n",
       "      <td>2019</td>\n",
       "      <td>TV-PG</td>\n",
       "      <td>3 Seasons</td>\n",
       "      <td>International TV Shows, TV Dramas, Teen TV Shows</td>\n",
       "      <td>netflix</td>\n",
       "      <td>9.2</td>\n",
       "    </tr>\n",
       "    <tr>\n",
       "      <th>685</th>\n",
       "      <td>TV Show</td>\n",
       "      <td>The Sinner</td>\n",
       "      <td>United States</td>\n",
       "      <td>February 6, 2021</td>\n",
       "      <td>2020</td>\n",
       "      <td>TV-MA</td>\n",
       "      <td>3 Seasons</td>\n",
       "      <td>Crime TV Shows, TV Dramas, TV Mysteries</td>\n",
       "      <td>netflix</td>\n",
       "      <td>9.2</td>\n",
       "    </tr>\n",
       "    <tr>\n",
       "      <th>3071</th>\n",
       "      <td>TV Show</td>\n",
       "      <td>Reply 1988</td>\n",
       "      <td>South Korea</td>\n",
       "      <td>January 1, 2020</td>\n",
       "      <td>2015</td>\n",
       "      <td>TV-14</td>\n",
       "      <td>1 Season</td>\n",
       "      <td>International TV Shows, Korean TV Shows, Roman...</td>\n",
       "      <td>netflix</td>\n",
       "      <td>9.2</td>\n",
       "    </tr>\n",
       "    <tr>\n",
       "      <th>3246</th>\n",
       "      <td>TV Show</td>\n",
       "      <td>The Dragon Prince</td>\n",
       "      <td>United States, Canada</td>\n",
       "      <td>November 22, 2019</td>\n",
       "      <td>2019</td>\n",
       "      <td>TV-Y7</td>\n",
       "      <td>3 Seasons</td>\n",
       "      <td>Kids' TV, TV Action &amp; Adventure, TV Sci-Fi &amp; F...</td>\n",
       "      <td>netflix</td>\n",
       "      <td>9.2</td>\n",
       "    </tr>\n",
       "    <tr>\n",
       "      <th>5035</th>\n",
       "      <td>TV Show</td>\n",
       "      <td>Dragons: Race to the Edge</td>\n",
       "      <td>United States</td>\n",
       "      <td>February 16, 2018</td>\n",
       "      <td>2018</td>\n",
       "      <td>TV-Y7</td>\n",
       "      <td>6 Seasons</td>\n",
       "      <td>Kids' TV, TV Action &amp; Adventure</td>\n",
       "      <td>netflix</td>\n",
       "      <td>9.2</td>\n",
       "    </tr>\n",
       "    <tr>\n",
       "      <th>1122</th>\n",
       "      <td>Movie</td>\n",
       "      <td>The 12th Man</td>\n",
       "      <td>Norway</td>\n",
       "      <td>October 31, 2020</td>\n",
       "      <td>2018</td>\n",
       "      <td>TV-MA</td>\n",
       "      <td>130 min</td>\n",
       "      <td>Action &amp; Adventure, Dramas, International Movies</td>\n",
       "      <td>netflix</td>\n",
       "      <td>9.2</td>\n",
       "    </tr>\n",
       "    <tr>\n",
       "      <th>7331</th>\n",
       "      <td>TV Show</td>\n",
       "      <td>LoliRock</td>\n",
       "      <td>South Korea, France</td>\n",
       "      <td>May 1, 2018</td>\n",
       "      <td>2016</td>\n",
       "      <td>TV-Y</td>\n",
       "      <td>2 Seasons</td>\n",
       "      <td>Kids' TV</td>\n",
       "      <td>netflix</td>\n",
       "      <td>9.2</td>\n",
       "    </tr>\n",
       "    <tr>\n",
       "      <th>946</th>\n",
       "      <td>TV Show</td>\n",
       "      <td>The Great British Baking Show: Holidays</td>\n",
       "      <td>NaN</td>\n",
       "      <td>December 4, 2020</td>\n",
       "      <td>2020</td>\n",
       "      <td>TV-MA</td>\n",
       "      <td>3 Seasons</td>\n",
       "      <td>British TV Shows, Reality TV</td>\n",
       "      <td>netflix</td>\n",
       "      <td>9.2</td>\n",
       "    </tr>\n",
       "    <tr>\n",
       "      <th>18801</th>\n",
       "      <td>TV Show</td>\n",
       "      <td>Cosmos: Possible Worlds</td>\n",
       "      <td>United States</td>\n",
       "      <td>December 25, 2020</td>\n",
       "      <td>2020</td>\n",
       "      <td>TV-14</td>\n",
       "      <td>1 Season</td>\n",
       "      <td>Action-Adventure, Docuseries, Family</td>\n",
       "      <td>disney</td>\n",
       "      <td>9.2</td>\n",
       "    </tr>\n",
       "    <tr>\n",
       "      <th>12415</th>\n",
       "      <td>Movie</td>\n",
       "      <td>Homeless Henry - Through the Tears</td>\n",
       "      <td>NaN</td>\n",
       "      <td>NaN</td>\n",
       "      <td>2020</td>\n",
       "      <td>13+</td>\n",
       "      <td>50 min</td>\n",
       "      <td>Drama, Kids, Special Interest</td>\n",
       "      <td>amazon</td>\n",
       "      <td>9.2</td>\n",
       "    </tr>\n",
       "    <tr>\n",
       "      <th>11716</th>\n",
       "      <td>Movie</td>\n",
       "      <td>The Last Lullaby</td>\n",
       "      <td>NaN</td>\n",
       "      <td>NaN</td>\n",
       "      <td>2021</td>\n",
       "      <td>16+</td>\n",
       "      <td>93 min</td>\n",
       "      <td>Action, Drama, Suspense</td>\n",
       "      <td>amazon</td>\n",
       "      <td>9.2</td>\n",
       "    </tr>\n",
       "    <tr>\n",
       "      <th>12315</th>\n",
       "      <td>TV Show</td>\n",
       "      <td>The Coleman Show</td>\n",
       "      <td>NaN</td>\n",
       "      <td>NaN</td>\n",
       "      <td>2021</td>\n",
       "      <td>13+</td>\n",
       "      <td>1 Season</td>\n",
       "      <td>Comedy, Drama</td>\n",
       "      <td>amazon</td>\n",
       "      <td>9.2</td>\n",
       "    </tr>\n",
       "    <tr>\n",
       "      <th>1833</th>\n",
       "      <td>TV Show</td>\n",
       "      <td>Shtisel</td>\n",
       "      <td>Israel</td>\n",
       "      <td>July 6, 2021</td>\n",
       "      <td>2021</td>\n",
       "      <td>TV-14</td>\n",
       "      <td>3 Seasons</td>\n",
       "      <td>International TV Shows, TV Dramas</td>\n",
       "      <td>netflix</td>\n",
       "      <td>9.1</td>\n",
       "    </tr>\n",
       "    <tr>\n",
       "      <th>6918</th>\n",
       "      <td>Movie</td>\n",
       "      <td>Hans Zimmer: Live in Prague</td>\n",
       "      <td>United Kingdom</td>\n",
       "      <td>March 1, 2018</td>\n",
       "      <td>2017</td>\n",
       "      <td>TV-G</td>\n",
       "      <td>138 min</td>\n",
       "      <td>International Movies, Music &amp; Musicals</td>\n",
       "      <td>netflix</td>\n",
       "      <td>9.1</td>\n",
       "    </tr>\n",
       "    <tr>\n",
       "      <th>14382</th>\n",
       "      <td>Movie</td>\n",
       "      <td>Toxification</td>\n",
       "      <td>NaN</td>\n",
       "      <td>NaN</td>\n",
       "      <td>2019</td>\n",
       "      <td>13+</td>\n",
       "      <td>65 min</td>\n",
       "      <td>Documentary</td>\n",
       "      <td>amazon</td>\n",
       "      <td>9.1</td>\n",
       "    </tr>\n",
       "    <tr>\n",
       "      <th>8775</th>\n",
       "      <td>TV Show</td>\n",
       "      <td>Yeh Meri Family</td>\n",
       "      <td>India</td>\n",
       "      <td>August 31, 2018</td>\n",
       "      <td>2018</td>\n",
       "      <td>TV-PG</td>\n",
       "      <td>1 Season</td>\n",
       "      <td>International TV Shows, TV Comedies</td>\n",
       "      <td>netflix</td>\n",
       "      <td>9.1</td>\n",
       "    </tr>\n",
       "  </tbody>\n",
       "</table>\n",
       "</div>"
      ],
      "text/plain": [
       "          type                                     name  \\\n",
       "14281    Movie                           Yatra (Telugu)   \n",
       "12872  TV Show                                 JARRETTS   \n",
       "2557   TV Show                            Scissor Seven   \n",
       "12032    Movie                         Deva Rickshawala   \n",
       "18469    Movie                       Anaganaga Oka Nenu   \n",
       "11406    Movie               Mitzi... Zings into Spring   \n",
       "18080  TV Show                         Act 5 - Series 2   \n",
       "18081  TV Show                         Act 5 - Series 1   \n",
       "7747   TV Show                          Planet Earth II   \n",
       "16208    Movie                           Standing Eight   \n",
       "13390  TV Show                        Couple of Mirrors   \n",
       "11910  TV Show                              Starting Up   \n",
       "1986   TV Show                        Hospital Playlist   \n",
       "9779   TV Show               Take Us Home: Leeds United   \n",
       "10028    Movie                       Prayer Never Fails   \n",
       "10111  TV Show              Niko and the Sword of Light   \n",
       "14655  TV Show                    Subaru Launch Control   \n",
       "12319    Movie                        Restoration, Inc.   \n",
       "9180     Movie                          Babe Ruth Story   \n",
       "8913     Movie                   A Promise to My Father   \n",
       "14463    Movie                             The Prisoner   \n",
       "3938   TV Show                               Our Planet   \n",
       "11879    Movie          Strictly For The Streets Vol. 1   \n",
       "11958    Movie                             Gho Gho Rani   \n",
       "12146  TV Show                          Aham Bhramhasmi   \n",
       "16191    Movie                Prem Gajra Chilli Chicken   \n",
       "6341   TV Show                           Blue Planet II   \n",
       "11884    Movie                        Pazhagiya Naatkal   \n",
       "16077    Movie                      The Tell Tale Heart   \n",
       "15764  TV Show               Avatar: The Last Airbender   \n",
       "10511  TV Show                  Harmony with A R Rahman   \n",
       "15728    Movie                       Because I Love You   \n",
       "9925   TV Show                         Scaredy Squirrel   \n",
       "9788   TV Show            Surgeons: At the Edge of Life   \n",
       "3047   TV Show                           Anne with an E   \n",
       "685    TV Show                               The Sinner   \n",
       "3071   TV Show                               Reply 1988   \n",
       "3246   TV Show                        The Dragon Prince   \n",
       "5035   TV Show                Dragons: Race to the Edge   \n",
       "1122     Movie                             The 12th Man   \n",
       "7331   TV Show                                 LoliRock   \n",
       "946    TV Show  The Great British Baking Show: Holidays   \n",
       "18801  TV Show                  Cosmos: Possible Worlds   \n",
       "12415    Movie       Homeless Henry - Through the Tears   \n",
       "11716    Movie                         The Last Lullaby   \n",
       "12315  TV Show                         The Coleman Show   \n",
       "1833   TV Show                                  Shtisel   \n",
       "6918     Movie              Hans Zimmer: Live in Prague   \n",
       "14382    Movie                             Toxification   \n",
       "8775   TV Show                          Yeh Meri Family   \n",
       "\n",
       "                             country          date_added  release_year     PG  \\\n",
       "14281                            NaN                 NaN          2019    ALL   \n",
       "12872                            NaN                 NaN          2021    16+   \n",
       "2557                           China         May 7, 2020          2020  TV-MA   \n",
       "12032                            NaN                 NaN          2021    16+   \n",
       "18469                            NaN                 NaN          2021    18+   \n",
       "11406                            NaN                 NaN          1977    16+   \n",
       "18080                            NaN                 NaN          2021    ALL   \n",
       "18081                            NaN  September 17, 2021          2021    ALL   \n",
       "7747                  United Kingdom   December 25, 2017          2016   TV-G   \n",
       "16208                            NaN                 NaN          2019    16+   \n",
       "13390                            NaN                 NaN          2021    13+   \n",
       "11910                            NaN                 NaN          2021    16+   \n",
       "1986                     South Korea       June 18, 2021          2021  TV-14   \n",
       "9779                  United Kingdom                 NaN          2020    16+   \n",
       "10028                            NaN                 NaN          2017     7+   \n",
       "10111                            NaN                 NaN          2019    ALL   \n",
       "14655                            NaN                 NaN          2021    13+   \n",
       "12319                            NaN                 NaN          2021    16+   \n",
       "9180                             NaN                 NaN          2014    ALL   \n",
       "8913                             NaN                 NaN          2013    13+   \n",
       "14463                            NaN                 NaN          1990      R   \n",
       "3938   United States, United Kingdom       April 5, 2019          2019  TV-PG   \n",
       "11879                            NaN                 NaN          2021    18+   \n",
       "11958                            NaN                 NaN          2019    ALL   \n",
       "12146                            NaN                 NaN          2021    13+   \n",
       "16191                            NaN                 NaN          2021    18+   \n",
       "6341                  United Kingdom    December 3, 2018          2017   TV-G   \n",
       "11884                            NaN                 NaN          2021    13+   \n",
       "16077                            NaN                 NaN          2021    18+   \n",
       "15764                            NaN                 NaN          2008  TV-Y7   \n",
       "10511                            NaN                 NaN          2018     NR   \n",
       "15728                            NaN                 NaN          2020    18+   \n",
       "9925                             NaN      March 30, 2021          2012   TV-G   \n",
       "9788                             NaN                 NaN          2018    16+   \n",
       "3047                          Canada     January 3, 2020          2019  TV-PG   \n",
       "685                    United States    February 6, 2021          2020  TV-MA   \n",
       "3071                     South Korea     January 1, 2020          2015  TV-14   \n",
       "3246           United States, Canada   November 22, 2019          2019  TV-Y7   \n",
       "5035                   United States   February 16, 2018          2018  TV-Y7   \n",
       "1122                          Norway    October 31, 2020          2018  TV-MA   \n",
       "7331             South Korea, France         May 1, 2018          2016   TV-Y   \n",
       "946                              NaN    December 4, 2020          2020  TV-MA   \n",
       "18801                  United States   December 25, 2020          2020  TV-14   \n",
       "12415                            NaN                 NaN          2020    13+   \n",
       "11716                            NaN                 NaN          2021    16+   \n",
       "12315                            NaN                 NaN          2021    13+   \n",
       "1833                          Israel        July 6, 2021          2021  TV-14   \n",
       "6918                  United Kingdom       March 1, 2018          2017   TV-G   \n",
       "14382                            NaN                 NaN          2019    13+   \n",
       "8775                           India     August 31, 2018          2018  TV-PG   \n",
       "\n",
       "        duration                                             genres platform  \\\n",
       "14281    126 min                               Drama, International   amazon   \n",
       "12872   1 Season                                           TV Shows   amazon   \n",
       "2557   2 Seasons  International TV Shows, TV Action & Adventure,...  netflix   \n",
       "12032    127 min                                     Drama, Romance   amazon   \n",
       "18469    135 min                            Action, Drama, Suspense   amazon   \n",
       "11406     51 min                   Arts, Entertainment, and Culture   amazon   \n",
       "18080   1 Season                                           TV Shows   amazon   \n",
       "18081  3 Seasons                                             Action   amazon   \n",
       "7747    1 Season  British TV Shows, Docuseries, Science & Nature TV  netflix   \n",
       "16208     27 min                                              Drama   amazon   \n",
       "13390   1 Season                                            Romance   amazon   \n",
       "11910   1 Season                                              Drama   amazon   \n",
       "1986   2 Seasons  International TV Shows, Korean TV Shows, TV Co...  netflix   \n",
       "9779   2 Seasons                                           TV Shows   amazon   \n",
       "10028     98 min                      Drama, Faith and Spirituality   amazon   \n",
       "10111  3 Seasons                                               Kids   amazon   \n",
       "14655  3 Seasons              Documentary, Special Interest, Sports   amazon   \n",
       "12319     66 min                                      Action, Drama   amazon   \n",
       "9180      54 min                                Documentary, Sports   amazon   \n",
       "8913      56 min                                        Documentary   amazon   \n",
       "14463     97 min                                      Action, Drama   amazon   \n",
       "3938    1 Season                    Docuseries, Science & Nature TV  netflix   \n",
       "11879     70 min                             Comedy, Drama, Romance   amazon   \n",
       "11958    100 min                                     Drama, Romance   amazon   \n",
       "12146   1 Season                            Action, Drama, Suspense   amazon   \n",
       "16191     19 min                                    Action, Romance   amazon   \n",
       "6341    1 Season  British TV Shows, Docuseries, Science & Nature TV  netflix   \n",
       "11884    120 min                                            Romance   amazon   \n",
       "16077     80 min                                   Horror, Suspense   amazon   \n",
       "15764  3 Seasons                                               Kids   amazon   \n",
       "10511   1 Season      Arts, Entertainment, and Culture, Documentary   amazon   \n",
       "15728    102 min                                      Action, Drama   amazon   \n",
       "9925   4 Seasons                                    Animation, Kids   amazon   \n",
       "9788    1 Season                                        Documentary   amazon   \n",
       "3047   3 Seasons   International TV Shows, TV Dramas, Teen TV Shows  netflix   \n",
       "685    3 Seasons            Crime TV Shows, TV Dramas, TV Mysteries  netflix   \n",
       "3071    1 Season  International TV Shows, Korean TV Shows, Roman...  netflix   \n",
       "3246   3 Seasons  Kids' TV, TV Action & Adventure, TV Sci-Fi & F...  netflix   \n",
       "5035   6 Seasons                    Kids' TV, TV Action & Adventure  netflix   \n",
       "1122     130 min   Action & Adventure, Dramas, International Movies  netflix   \n",
       "7331   2 Seasons                                           Kids' TV  netflix   \n",
       "946    3 Seasons                       British TV Shows, Reality TV  netflix   \n",
       "18801   1 Season               Action-Adventure, Docuseries, Family   disney   \n",
       "12415     50 min                      Drama, Kids, Special Interest   amazon   \n",
       "11716     93 min                            Action, Drama, Suspense   amazon   \n",
       "12315   1 Season                                      Comedy, Drama   amazon   \n",
       "1833   3 Seasons                  International TV Shows, TV Dramas  netflix   \n",
       "6918     138 min             International Movies, Music & Musicals  netflix   \n",
       "14382     65 min                                        Documentary   amazon   \n",
       "8775    1 Season                International TV Shows, TV Comedies  netflix   \n",
       "\n",
       "       imdb_rating  \n",
       "14281          9.9  \n",
       "12872          9.8  \n",
       "2557           9.7  \n",
       "12032          9.7  \n",
       "18469          9.7  \n",
       "11406          9.6  \n",
       "18080          9.6  \n",
       "18081          9.6  \n",
       "7747           9.5  \n",
       "16208          9.5  \n",
       "13390          9.5  \n",
       "11910          9.5  \n",
       "1986           9.5  \n",
       "9779           9.4  \n",
       "10028          9.4  \n",
       "10111          9.4  \n",
       "14655          9.4  \n",
       "12319          9.3  \n",
       "9180           9.3  \n",
       "8913           9.3  \n",
       "14463          9.3  \n",
       "3938           9.3  \n",
       "11879          9.3  \n",
       "11958          9.3  \n",
       "12146          9.3  \n",
       "16191          9.3  \n",
       "6341           9.3  \n",
       "11884          9.3  \n",
       "16077          9.3  \n",
       "15764          9.3  \n",
       "10511          9.2  \n",
       "15728          9.2  \n",
       "9925           9.2  \n",
       "9788           9.2  \n",
       "3047           9.2  \n",
       "685            9.2  \n",
       "3071           9.2  \n",
       "3246           9.2  \n",
       "5035           9.2  \n",
       "1122           9.2  \n",
       "7331           9.2  \n",
       "946            9.2  \n",
       "18801          9.2  \n",
       "12415          9.2  \n",
       "11716          9.2  \n",
       "12315          9.2  \n",
       "1833           9.1  \n",
       "6918           9.1  \n",
       "14382          9.1  \n",
       "8775           9.1  "
      ]
     },
     "execution_count": 85,
     "metadata": {},
     "output_type": "execute_result"
    }
   ],
   "source": [
    "s.head(50)"
   ]
  },
  {
   "cell_type": "code",
   "execution_count": 81,
   "metadata": {},
   "outputs": [
    {
     "data": {
      "text/plain": [
       "['Yatra (Telugu)',\n",
       " 'JARRETTS',\n",
       " 'Scissor Seven',\n",
       " 'Deva Rickshawala',\n",
       " 'Anaganaga Oka Nenu',\n",
       " 'Mitzi... Zings into Spring',\n",
       " 'Act 5 - Series 2',\n",
       " 'Act 5 - Series 1',\n",
       " 'Planet Earth II',\n",
       " 'Standing Eight',\n",
       " 'Couple of Mirrors',\n",
       " 'Starting Up',\n",
       " 'Hospital Playlist',\n",
       " 'Take Us Home: Leeds United',\n",
       " 'Prayer Never Fails',\n",
       " 'Niko and the Sword of Light',\n",
       " 'Subaru Launch Control',\n",
       " 'Restoration, Inc.',\n",
       " 'Babe Ruth Story',\n",
       " 'A Promise to My Father',\n",
       " 'The Prisoner',\n",
       " 'Our Planet',\n",
       " 'Strictly For The Streets Vol. 1',\n",
       " 'Gho Gho Rani',\n",
       " 'Aham Bhramhasmi',\n",
       " 'Prem Gajra Chilli Chicken',\n",
       " 'Blue Planet II',\n",
       " 'Pazhagiya Naatkal',\n",
       " 'The Tell Tale Heart',\n",
       " 'Avatar: The Last Airbender',\n",
       " 'Harmony with A R Rahman',\n",
       " 'Because I Love You',\n",
       " 'Scaredy Squirrel',\n",
       " 'Surgeons: At the Edge of Life',\n",
       " 'Anne with an E',\n",
       " 'The Sinner',\n",
       " 'Reply 1988',\n",
       " 'The Dragon Prince',\n",
       " 'Dragons: Race to the Edge',\n",
       " 'The 12th Man',\n",
       " 'LoliRock',\n",
       " 'The Great British Baking Show: Holidays',\n",
       " 'Cosmos: Possible Worlds',\n",
       " 'Homeless Henry - Through the Tears',\n",
       " 'The Last Lullaby',\n",
       " 'The Coleman Show',\n",
       " 'Shtisel',\n",
       " 'Hans Zimmer: Live in Prague',\n",
       " 'Toxification',\n",
       " 'Yeh Meri Family',\n",
       " \"Marvel Studios' The Avengers\",\n",
       " \"Clarkson's Farm\",\n",
       " 'The Beatles: Get Back',\n",
       " 'Raja Rasoi Aur Anya Kahaniyan',\n",
       " 'The Last Dance',\n",
       " 'Criminal: UK',\n",
       " 'My Mister',\n",
       " 'The Vietnam War: A Film by Ken Burns and Lynn Novick',\n",
       " 'My Next Guest with David Letterman and Shah Rukh Khan',\n",
       " 'Halt and Catch Fire',\n",
       " 'Corazon Contento',\n",
       " 'Yellow Water',\n",
       " 'Beyblade Burst Turbo',\n",
       " 'Quota',\n",
       " 'Stretch Armstrong & the Flex Fighters',\n",
       " 'The Adventures of Major Miracle',\n",
       " 'Meditative Music For Yoga',\n",
       " 'Soorarai Pottru (Tamil)',\n",
       " 'The Face of Jesus Christ',\n",
       " 'The Untamed',\n",
       " \"TURN: Washington's Spies\",\n",
       " 'La Reina del Sur',\n",
       " 'Life Story',\n",
       " 'The Umbrella Academy',\n",
       " 'Ken Burns: The Civil War',\n",
       " 'DC Sniper',\n",
       " 'Humsafar',\n",
       " 'Unity: The Latin Tribute to Michael Jackson',\n",
       " 'When Calls the Heart',\n",
       " \"Nature's Great Events (2009)\",\n",
       " 'Frozen Planet',\n",
       " 'David Attenborough: A Life on Our Planet',\n",
       " 'Dust',\n",
       " 'Rolling Stones - No Security San Jose 1999',\n",
       " 'No Longer kids',\n",
       " 'The Imagineering Story',\n",
       " \"Gortimer Gibbon's Life on Normal Street\",\n",
       " 'Skylanders Academy',\n",
       " 'Bondi Rescue',\n",
       " \"The Lion's Kingdom\",\n",
       " 'Comedy Bang! Bang!',\n",
       " 'PISHACHINI',\n",
       " 'She-Ra and the Princesses of Power',\n",
       " 'Attack on Titan',\n",
       " 'The Blue Planet: A Natural History of the Oceans',\n",
       " 'DEATH NOTE',\n",
       " 'The Untamed',\n",
       " '#Home',\n",
       " 'Pulp Fiction',\n",
       " 'When They See Us',\n",
       " 'Orr Iravu',\n",
       " 'Mahabharat',\n",
       " 'Natsamrat - Asa Nat Hone Nahi',\n",
       " 'Fate/Zero',\n",
       " 'The Office',\n",
       " 'The Lord of the Rings: The Return of the King',\n",
       " \"Schindler's List\",\n",
       " 'BuzzFeed Unsolved: True Crime',\n",
       " 'Zindagi Gulzar Hai',\n",
       " 'Voyage of the Continents',\n",
       " 'Mumbai Diaries',\n",
       " \"I Shouldn't Be Alive\",\n",
       " 'Born This Way',\n",
       " 'Africa',\n",
       " 'Elzaz',\n",
       " 'SpongeBob DocuPants',\n",
       " 'Word of Honor',\n",
       " \"The Test: A New Era for Australia's Team\",\n",
       " \"Jim Henson's The Storyteller\",\n",
       " 'Jingle Pols',\n",
       " 'Word of Honor',\n",
       " 'Owlegories',\n",
       " 'Iron Man: Armored Adventures',\n",
       " 'Krish Trish and Baltiboy: Face Your Fears',\n",
       " 'MayDay: Air Disaster Investigations',\n",
       " 'Mr. Sunshine',\n",
       " 'Douluo Continent',\n",
       " 'One Strange Rock',\n",
       " 'Great Canal Journeys',\n",
       " 'One-Punch Man',\n",
       " 'The Family Man',\n",
       " 'A Lion in the House',\n",
       " 'Inception',\n",
       " 'Ken Burns: The Roosevelts: An Intimate History',\n",
       " 'James Martin: Home Comforts',\n",
       " 'Dark',\n",
       " 'Mr. Monkey, Monkey Mechanic',\n",
       " 'One Strange Rock',\n",
       " 'Videola',\n",
       " 'Narcos: Mexico',\n",
       " 'Vientos de agua',\n",
       " 'They Come to America: The Politics of Immigration',\n",
       " 'VINLAND SAGA',\n",
       " 'Victorian Farm',\n",
       " 'Uncle Tom',\n",
       " 'V (Telugu)',\n",
       " 'Stories by Rabindranath Tagore',\n",
       " 'The First 48: Missing Persons',\n",
       " 'Ryan Bingham Live (4K UHD)',\n",
       " 'Just Roll With It: You Decide Live!',\n",
       " 'Ryan Bingham Live',\n",
       " 'Phonics School',\n",
       " 'Panchayat',\n",
       " 'My Greatest Dishes',\n",
       " 'El Reemplazante',\n",
       " 'Into Dust',\n",
       " 'Operation Toussaint',\n",
       " 'Unbroken',\n",
       " 'Navillera',\n",
       " 'College Romance',\n",
       " \"Devil's Snare\",\n",
       " 'Winter Begonia',\n",
       " 'Writer',\n",
       " 'The Mandalorian',\n",
       " 'Twin Peaks',\n",
       " 'Time Well Spent',\n",
       " 'A Series of Unfortunate Events',\n",
       " 'Alien Monkeys',\n",
       " 'Sunny',\n",
       " 'Invincible',\n",
       " 'World War II in Colour',\n",
       " 'Sin',\n",
       " 'WWII in HD',\n",
       " 'Boris and Rufus',\n",
       " 'Norm Macdonald Has a Show',\n",
       " 'Lenox Hill',\n",
       " 'Critter Fixers: Country Vets',\n",
       " 'Gintama',\n",
       " 'The Hatcher Family Dairy',\n",
       " 'BoJack Horseman',\n",
       " 'Secrets of the Whales',\n",
       " 'Float',\n",
       " \"It's Okay to Not Be Okay\",\n",
       " 'Crash Landing on You',\n",
       " \"Best Wishes, Warmest Regards: A Schitt's Creek Farewell\",\n",
       " \"Emily's Wonder Lab\",\n",
       " 'Greatest Events of WWII in Colour',\n",
       " 'Beyblade Burst Evolution',\n",
       " 'Fast & Furious Spy Racers',\n",
       " 'The Grand Tour',\n",
       " \"Pati's Mexican Table\",\n",
       " 'Sarpatta Parampara',\n",
       " 'Martyrs of Marriage',\n",
       " 'Sarpatta Parambarai',\n",
       " 'Victorian Farm: Christmas Special',\n",
       " 'Kartha',\n",
       " 'Fleetwood Mac: The Dance',\n",
       " 'Invincible',\n",
       " \"James May's Cars of the People\",\n",
       " 'Onaatah',\n",
       " 'One Heart: The A.R. Rahman Concert Film',\n",
       " 'A Class Apart',\n",
       " 'Chai Kahani',\n",
       " 'The Matrix',\n",
       " 'Demon Slayer: Kimetsu no Yaiba',\n",
       " 'The Lord of the Rings: The Two Towers',\n",
       " 'Powder',\n",
       " 'The Boys',\n",
       " 'Bandish Bandits',\n",
       " 'Burb Patrol',\n",
       " 'House',\n",
       " 'Bo Burnham: Inside',\n",
       " 'ReWilding Kernwood',\n",
       " 'Downton Abbey',\n",
       " 'Fake or Fortune',\n",
       " \"I Can't Breathe\",\n",
       " \"America's War on Drugs\",\n",
       " 'I Fell In Love With A Sanki',\n",
       " 'Siddhi Seere',\n",
       " 'Behzat Ç.',\n",
       " 'Rewind',\n",
       " 'WWII in HD',\n",
       " 'Star Wars: The Empire Strikes Back (Episode V)',\n",
       " 'Eh Janam Tumhare Lekhe',\n",
       " 'Shershaah',\n",
       " 'Eh Janam Tumhare Lekhe',\n",
       " 'The Carol Burnett Show',\n",
       " 'GoodFellas',\n",
       " 'Eddie Izzard: Dress To Kill',\n",
       " 'Bravo! Common Men, Uncommon Valor',\n",
       " 'Tudor Monastery Farm',\n",
       " 'Where Love Found Me',\n",
       " 'StoryBots Super Songs',\n",
       " 'Wildest Places',\n",
       " 'CLANNAD',\n",
       " 'Mobile Suit Gundam: Iron-Blooded Orphans',\n",
       " 'This is Us',\n",
       " 'Bill Hicks: Relentless',\n",
       " 'Asuran',\n",
       " 'The Incredible Dr. Pol',\n",
       " 'The Sleepless Princess',\n",
       " 'Edwardian Farm',\n",
       " 'BEASTARS',\n",
       " 'Derry Girls',\n",
       " 'Sky Tour: The Movie',\n",
       " 'Remember Pearl Harbor',\n",
       " \"It's A Wonderful Life\",\n",
       " 'Bill Hicks: Revelations',\n",
       " 'Drishyam 2',\n",
       " 'Middleditch & Schwartz',\n",
       " \"Nick Baker's Weird Creatures\",\n",
       " 'Miss Truth',\n",
       " 'The Simpsons',\n",
       " 'Secrets of the Castle',\n",
       " 'Stop Making Sense',\n",
       " 'The Block',\n",
       " 'The Last Narc',\n",
       " 'The Marvelous Mrs. Maisel',\n",
       " 'Ambulance Australia',\n",
       " 'The Secret Life of the Cruise',\n",
       " 'Across the Pacific',\n",
       " 'NOVA: Bird Brain',\n",
       " 'The Rise of Phoenixes',\n",
       " 'Monkey Planet',\n",
       " 'Merlí',\n",
       " 'Daniel Sloss: Live Shows',\n",
       " 'Age of Rebellion',\n",
       " 'Pink Floyd: The Dark Side of the Moon',\n",
       " 'The Bridge',\n",
       " 'A I 1.O',\n",
       " 'Hometown Cha-Cha-Cha',\n",
       " 'Koshish',\n",
       " 'Kaakan',\n",
       " 'Ezel',\n",
       " 'City of God',\n",
       " 'Golmaal',\n",
       " 'Goblin',\n",
       " 'Daughters of Destiny',\n",
       " 'Be Here Now',\n",
       " 'La Niña',\n",
       " 'Seagulls',\n",
       " 'George Carlin: You Are All Diseased',\n",
       " 'Dexter',\n",
       " 'North & South',\n",
       " \"The Best of Mister Rogers' Neighborhood\",\n",
       " 'Cobby: The Other Side of Cute',\n",
       " 'The Haunting of Hill House',\n",
       " 'No Greater Love',\n",
       " \"The World's Most Wanted Animal\",\n",
       " 'Misaeng',\n",
       " \"What's My Line?\",\n",
       " 'Your lie in April',\n",
       " 'Top Gear (UK)',\n",
       " 'Travels by Narrowboat',\n",
       " 'Hyper HardBoiled Gourmet Report',\n",
       " 'Gigglebug',\n",
       " 'The Men Who Built America',\n",
       " 'The Fabulous Allan Carr',\n",
       " 'Court Lady',\n",
       " 'Rishta.com',\n",
       " 'Merku Thodarchi Malai',\n",
       " 'Bill Hicks: Relentless',\n",
       " 'Bill Hicks: Revelations',\n",
       " 'Sankar Guru',\n",
       " 'THE BRANCH',\n",
       " 'Seven',\n",
       " 'Miss Multiverse - Australia',\n",
       " 'Mambo Man',\n",
       " 'Endeavour',\n",
       " 'The Road to Cabazon',\n",
       " 'Thus Spoke Kishibe Rohan',\n",
       " 'Move to Heaven',\n",
       " \"The Queen's Gambit\",\n",
       " 'Mighty Little Bheem: Kite Festival',\n",
       " 'Star Wars: A New Hope (Episode IV)',\n",
       " 'The Intouchables',\n",
       " 'Senna',\n",
       " 'Vikings',\n",
       " 'Ani... Dr. Kashinath Ghanekar',\n",
       " 'Beast (2018)',\n",
       " 'Oththa Seruppu Size 7',\n",
       " 'Interrogation',\n",
       " 'Zana',\n",
       " 'Community',\n",
       " 'Rocky Mountain Animal Rescue',\n",
       " 'Woodwind',\n",
       " 'Young Royals',\n",
       " 'Hostel Daze',\n",
       " 'Tumble Leaf',\n",
       " 'Crime Inc.',\n",
       " 'KD (A) Karuppudurai',\n",
       " 'Dear Zachary: A Letter To A Son About His Father',\n",
       " 'James Acaster: Repertoire',\n",
       " 'Paranormal',\n",
       " 'Aruvi',\n",
       " 'No Direction Home: Bob Dylan',\n",
       " 'Violet Evergarden',\n",
       " 'I Survived . . .',\n",
       " 'Neon Genesis Evangelion',\n",
       " 'Julie and the Phantoms',\n",
       " 'Devarakondalo Vijay Prema Katha',\n",
       " \"The Surgeon's Cut\",\n",
       " 'Street Dogs of South Central',\n",
       " 'Mr. Robot',\n",
       " 'Shock and Awe: The Story of Electricity',\n",
       " 'Paranormal',\n",
       " 'Nature: Parrot Confidential',\n",
       " 'Baikunth',\n",
       " 'Tuhya Dharma Koncha',\n",
       " \"Julie's Greenroom\",\n",
       " 'Time: The Kalief Browder Story',\n",
       " 'Alma Matters',\n",
       " 'Love and Redemption',\n",
       " 'Lovely',\n",
       " 'Folklore: the long pond studio sessions',\n",
       " 'Memories of Nanette',\n",
       " 'Cold Breath',\n",
       " 'Ethos',\n",
       " 'Fortitude',\n",
       " 'Once Upon a Time in the West',\n",
       " \"Heaven's Garden\",\n",
       " 'Headspace Guide to Meditation',\n",
       " 'Erased',\n",
       " 'Delhi Crime',\n",
       " \"George Carlin: It's Bad For Ya!\",\n",
       " 'Project S The Series',\n",
       " 'Pitruroon',\n",
       " 'Emicida: AmarElo - It’s All For Yesterday',\n",
       " 'Protibimbo',\n",
       " 'Fullmetal Alchemist',\n",
       " 'Once a Marine',\n",
       " 'Robotech',\n",
       " 'Incredible! The Story of Dr. Pol',\n",
       " 'Untamed Romania',\n",
       " 'Generation War',\n",
       " 'Vincenzo',\n",
       " 'The Departed',\n",
       " \"Gardeners' World\",\n",
       " 'Naa Katha',\n",
       " 'American History X',\n",
       " 'Abstract: The Art of Design',\n",
       " 'Girl Chill',\n",
       " 'Dave Chappelle: Sticks & Stones',\n",
       " 'The Expanse',\n",
       " 'Tim Minchin And The Heritage Orchestra Live',\n",
       " 'Taylor Swift reputation Stadium Tour',\n",
       " 'Born Behind Bars',\n",
       " 'Black Friday',\n",
       " 'Rammstein: in Amerika - Live from Madison Square Garden',\n",
       " 'Molang',\n",
       " 'So Weird',\n",
       " \"Mitzi... What's Hot, What's Not\",\n",
       " 'The Pianist',\n",
       " 'Alex in Wonderland',\n",
       " 'Springsteen on Broadway',\n",
       " 'Bosch',\n",
       " 'Prison Playbook',\n",
       " \"Garth Marenghi's Darkplace\",\n",
       " 'Into the Unknown: Making Frozen 2',\n",
       " 'Rectify',\n",
       " 'Gol Maal',\n",
       " 'Mandela',\n",
       " 'A Second Chance:  Rivals!',\n",
       " 'Piper',\n",
       " 'Qismat',\n",
       " 'Entanglement',\n",
       " 'Agent Sai Srinivasa Athreya (Kannada)',\n",
       " \"Marvel Studios' Avengers: Endgame\",\n",
       " 'Hombanna',\n",
       " 'Secrets Of The Zoo: Down Under',\n",
       " 'Harishchandrachi Factory',\n",
       " 'The Wild Life of Dr. Ole',\n",
       " 'Spider-Man',\n",
       " 'It All Begins With A Song',\n",
       " 'Thomas Sowell: Common Sense in a Senseless World',\n",
       " 'Rush: Beyond the Lighted Stage',\n",
       " 'The Americans',\n",
       " 'Pablo Escobar, el patrón del mal',\n",
       " 'Louis C.K.: Hilarious',\n",
       " 'The Lives of Others',\n",
       " 'Ken Burns Presents: College Behind Bars: A Film by Lynn Novick and Produced by Sarah Botstein',\n",
       " 'Twogether',\n",
       " 'Mitzi Gaynor Razzle Dazzle! The Special Years',\n",
       " 'Bill Hicks: Sane Man',\n",
       " 'Hardy Bucks',\n",
       " 'American Crime Story: The People v. O.J. Simpson',\n",
       " 'Sadma',\n",
       " 'Wayne',\n",
       " 'Cesar Millan: Better Human Better Dog',\n",
       " 'To Tokyo',\n",
       " 'Ben Platt Live from Radio City Music Hall',\n",
       " \"The Witness Who Didn't See Anything\",\n",
       " 'Back to 1989',\n",
       " 'Ashes of Love',\n",
       " 'Indiana Jones and the Raiders of the Lost Ark',\n",
       " 'The Dick Van Dyke Show',\n",
       " 'Sunset Boulevard',\n",
       " 'Punjab 1984',\n",
       " 'Saint Seiya',\n",
       " 'The Inbetweeners',\n",
       " 'Chinnanjiru Kiliye',\n",
       " 'Fate/stay night: Unlimited Blade Works',\n",
       " 'Love Ni Bhavai',\n",
       " 'Construction Squad of Car City',\n",
       " 'Papanasam',\n",
       " 'Growing Up Animal',\n",
       " 'Ratsasan',\n",
       " 'Cross Minds',\n",
       " \"Winter on Fire: Ukraine's Fight for Freedom\",\n",
       " 'Agent Sai Srinivasa Athreya',\n",
       " 'Inside Edge',\n",
       " 'Bo Burnham: Make Happy',\n",
       " 'Ottaal',\n",
       " 'Transformers: Robots in Disguise',\n",
       " 'The Diamond Arm',\n",
       " 'Queer as Folk',\n",
       " 'Bill Burr: Let It Go',\n",
       " 'Hamilton',\n",
       " 'Masoom',\n",
       " 'Spider-Man: Into the Spider-Verse',\n",
       " 'Aalo Chhaya',\n",
       " 'Rangasthalam',\n",
       " 'Dororo',\n",
       " 'Newsies: The Broadway Musical',\n",
       " 'Used and Borrowed Time',\n",
       " 'Rich Africans',\n",
       " 'Love Ni Bhavai',\n",
       " 'Billions',\n",
       " 'Dangal',\n",
       " 'Meet The Chimps',\n",
       " 'Arthdal Chronicles',\n",
       " \"Rick Stein's Long Weekends\",\n",
       " 'Hostile Planet',\n",
       " '3 Idiots',\n",
       " 'Reading Rainbow',\n",
       " 'Muffin Socks',\n",
       " 'Avengers: Infinity War',\n",
       " \"American Experience: The Poisoner's Handbook\",\n",
       " 'Our Planet - Behind The Scenes',\n",
       " 'Christmas Through the Decades',\n",
       " 'Living With Dinosaurs',\n",
       " 'Outlander',\n",
       " 'MADE IN ABYSS',\n",
       " 'Joker',\n",
       " 'Making Their Mark',\n",
       " 'The Dark Crystal: Age of Resistance',\n",
       " \"Tommy Davidson: Illin' In Philly\",\n",
       " \"Monty Don's Italian Gardens\",\n",
       " \"I'm Glad I Did\",\n",
       " 'Django Unchained',\n",
       " 'Fleabag',\n",
       " 'Super Deluxe',\n",
       " 'Bo Burnham: what.',\n",
       " 'Taare Zameen Par',\n",
       " 'Heartland',\n",
       " 'Bill Hicks: Sane Man',\n",
       " 'Eddie Izzard: Definite Article',\n",
       " \"Iraq's Secret Sex Trade\",\n",
       " 'New England Legends',\n",
       " 'El Chapo',\n",
       " 'Life in the Doghouse',\n",
       " 'Mallesham',\n",
       " 'Gentlemen of Fortune',\n",
       " 'Ash vs. Evil Dead',\n",
       " 'The Promised Neverland',\n",
       " 'LEGO Monkie Kid - US',\n",
       " 'The Muppet Show',\n",
       " \"Rick Stein's Mediterranean Escapes\",\n",
       " 'WALL-E',\n",
       " 'Doorman',\n",
       " 'Little Lunch: The Nightmare Before Graduation',\n",
       " 'Disney Gallery / Star Wars: The Mandalorian',\n",
       " 'India From Above',\n",
       " 'Portrait Artist of The Year',\n",
       " 'Rilakkuma and Kaoru',\n",
       " 'Chupke Chupke',\n",
       " 'Hell on Wheels',\n",
       " 'Samantha!',\n",
       " 'Zahara: The Return',\n",
       " 'American Beauty',\n",
       " \"Bill Burr: I'm Sorry You Feel That Way\",\n",
       " 'Landscape Artist of the Year',\n",
       " 'Mustang Saviors',\n",
       " 'My Country: The New Age',\n",
       " 'Berry and Dolly',\n",
       " 'Kadhalukku Mariyadhai',\n",
       " 'We Need to Talk About Kevin',\n",
       " 'Chicago Typewriter',\n",
       " 'Tales of the City (1993)',\n",
       " 'Unmaad',\n",
       " 'Port Protection Alaska',\n",
       " 'Paperman',\n",
       " 'London Hospital',\n",
       " 'Dhruvangal Pathinaru',\n",
       " 'Chacha Vidhayak Hain Humare',\n",
       " 'Forged in Fire',\n",
       " \"Life on Fire: Wildlife on the Volcano's Edge\",\n",
       " 'Wild Kratts',\n",
       " 'The Eighties',\n",
       " 'Breathe',\n",
       " 'Travel Man: 48 Hours in...',\n",
       " \"Grand Tours of Scotland's Lochs\",\n",
       " 'Design Squad',\n",
       " 'Mathu Vadalara',\n",
       " 'Theeran Adhigaaram Ondru',\n",
       " 'Leave it to Beavers',\n",
       " 'Elizabeth and Margaret: Love and Loyalty',\n",
       " 'Medal of Honor',\n",
       " 'Aparajito',\n",
       " 'Britain by Narrowboat',\n",
       " 'The Mountains of Beyond',\n",
       " 'Paquita Salas',\n",
       " 'Blade of the Immortal',\n",
       " 'Kiss the Ground',\n",
       " 'The Boat',\n",
       " 'Day and Night',\n",
       " 'A Clockwork Orange',\n",
       " '21 Sarfarosh: Saragarhi 1897',\n",
       " 'Puella Magi Madoka Magica',\n",
       " \"Heaven Official's Blessing\",\n",
       " 'Tempt Raja',\n",
       " 'Sons of the Caliphate',\n",
       " \"The Avengers: Earth's Mightiest Heroes\",\n",
       " 'Srugim',\n",
       " 'Earth to Luna!',\n",
       " 'Live',\n",
       " 'The Terror Routes',\n",
       " 'Rimba Racer',\n",
       " 'The Legend of Xiao Chuo',\n",
       " 'The Incredible Dr. Pol: Blue Ribbon Kids',\n",
       " 'How I Met Your Mother',\n",
       " 'Tumbbad',\n",
       " 'Celia Pacquola: All Talk',\n",
       " 'Sairat',\n",
       " 'Just Add Magic',\n",
       " 'A Separation',\n",
       " 'Made In Heaven',\n",
       " 'Disneynature Bears',\n",
       " 'Ultimate Beastmaster México',\n",
       " 'November 13: Attack on Paris',\n",
       " 'Bill Burr: You People Are All the Same',\n",
       " \"Rick Stein's India\",\n",
       " 'Cycle',\n",
       " 'Hasan Minhaj: Homecoming King',\n",
       " 'Music & Murder 2',\n",
       " 'Little Lunch',\n",
       " 'Lady, la vendedora de rosas',\n",
       " 'The Break',\n",
       " 'Five Came Back',\n",
       " 'Qing Luo',\n",
       " \"World's Weirdest Homes\",\n",
       " 'Vikram Vedha',\n",
       " 'Return To Treasure Island',\n",
       " 'Penguin (Tamil)',\n",
       " 'Khelti Hai Zindagi Aankh Micholi',\n",
       " 'Cycle',\n",
       " 'The Sound of Your Heart',\n",
       " 'The Look of Silence',\n",
       " 'Detentionaire',\n",
       " 'Jonas Kaufmann - a global star in private',\n",
       " 'Gleason',\n",
       " 'Interlude',\n",
       " 'Disclosure',\n",
       " 'Life in Color with David Attenborough',\n",
       " 'Last Chance U: Basketball',\n",
       " 'Blossoms of Faith',\n",
       " 'Dear My Friends',\n",
       " 'Saint Seiya: The Lost Canvas',\n",
       " 'Stories We Tell',\n",
       " 'Mother Goose Stories',\n",
       " 'Flo and Joan Alive on Stage (4K UHD)',\n",
       " 'Once Upon a Time in America',\n",
       " 'Nazi Concentration Camps',\n",
       " 'Star Wars: The Clone Wars',\n",
       " 'Itwaar',\n",
       " 'D.P.',\n",
       " 'Godless',\n",
       " 'People Like Us',\n",
       " 'George Carlin: Life Is Worth Losing',\n",
       " 'Cuba and the Cameraman',\n",
       " 'James May: Our Man in Japan',\n",
       " 'Flo and Joan: Alive on Stage',\n",
       " 'Searching for Augusta: The Forgotten Angel of Bastogne',\n",
       " 'Little Did He Know',\n",
       " 'Scrubs',\n",
       " 'John Mulaney: New in Town',\n",
       " 'Star Wars: Return of the Jedi (Episode VI)',\n",
       " 'Zo Zo Zombie: Mini-Series',\n",
       " 'Fullmetal Alchemist: Brotherhood',\n",
       " '9to5: The Story of a Movement',\n",
       " 'Gurren Lagann',\n",
       " 'NOVA: Worlds Fastest Animal',\n",
       " 'Mars and Beyond',\n",
       " 'I Think You Should Leave with Tim Robinson',\n",
       " 'Tales by Light',\n",
       " 'Psych',\n",
       " 'The Space Between Us',\n",
       " 'Poldark',\n",
       " 'The Seventies',\n",
       " 'Loki',\n",
       " 'Khosla Ka Ghosla',\n",
       " 'Wait For Your Laugh',\n",
       " 'Blue Mountain State',\n",
       " 'CUCU',\n",
       " 'Empire of Dreams: The Story of the Star Wars Trilogy',\n",
       " 'The Beverly Hillbillies',\n",
       " 'Mully',\n",
       " 'The Challenge: ETA',\n",
       " 'Junichi',\n",
       " 'Parasyte: The Maxim',\n",
       " 'Inglourious Basterds',\n",
       " 'Eternal Love',\n",
       " 'Cafe Midnight',\n",
       " 'Battle 360',\n",
       " 'BANANA FISH',\n",
       " 'Meerkat Manor',\n",
       " 'Unforgotten',\n",
       " 'Dr. T, Lone Star Vet',\n",
       " 'Dharmakshetra',\n",
       " 'Presto',\n",
       " 'Lincoln@Gettysburg',\n",
       " 'Voltron: Legendary Defender',\n",
       " 'The Forgotten',\n",
       " 'Vazhakku Enn 18/9',\n",
       " 'Toy Story',\n",
       " 'Medal of Honor',\n",
       " 'The Father',\n",
       " \"My Babysitter's a Vampire\",\n",
       " 'The lies we tell but the secrets we keep part 4',\n",
       " \"'Allo 'Allo!\",\n",
       " 'Udaan',\n",
       " 'Big Dreams, Small Spaces',\n",
       " 'Acts of Defiance',\n",
       " 'Seaspiracy',\n",
       " 'Wild Colombia Revealed',\n",
       " 'Catastrophe',\n",
       " 'Eternal Love of Dream',\n",
       " 'Lucy and Desi: A Home Movie',\n",
       " 'Cruising the Cut',\n",
       " 'Laakhon Mein Ek',\n",
       " 'Bad Blood: A Cautionary Tale',\n",
       " 'Action',\n",
       " 'Designated Survivor: 60 Days',\n",
       " 'Get Shorty',\n",
       " 'El testigo',\n",
       " 'Andhadhun',\n",
       " 'Asmaa',\n",
       " 'Brad Williams Fun Size',\n",
       " 'Thithi',\n",
       " 'Hunting Hitler',\n",
       " 'Bottom',\n",
       " 'Toy Story 3',\n",
       " 'One Step Behind the Seraphim',\n",
       " 'Hunting ISIS',\n",
       " 'Monty Python and the Holy Grail',\n",
       " 'Tim Minchin: So F**king Rock',\n",
       " 'In Family We Trust',\n",
       " 'Eerie, Indiana',\n",
       " 'Rookie Historian Goo Hae-Ryung',\n",
       " \"Steve Treviño: 'Til Death\",\n",
       " '13TH',\n",
       " 'Wolf',\n",
       " 'Anohana: The Flower We Saw That Day',\n",
       " 'American Experience: The Circus',\n",
       " 'Animal Kingdom',\n",
       " 'Berlin 1945',\n",
       " 'True: Happy Hearts Day',\n",
       " 'The Boss Baby: Back in Business',\n",
       " 'Victoria',\n",
       " 'La Esclava Blanca',\n",
       " 'Swades',\n",
       " 'Bobby Kennedy for President',\n",
       " 'Before 30',\n",
       " 'Secret of the Nile',\n",
       " 'The Nineties',\n",
       " 'Little Dorrit',\n",
       " \"Disney's The Little Mermaid (Series)\",\n",
       " 'A Long Strange Trip',\n",
       " 'This Evening',\n",
       " 'Virunga',\n",
       " 'A Series of Light',\n",
       " 'Evaru',\n",
       " 'Udaan',\n",
       " 'Drag Heals',\n",
       " 'The Intimidation Game',\n",
       " \"Fantastic Four: World's Greatest Heroes\",\n",
       " 'The Busy Little Engine',\n",
       " 'Ocean to Sky',\n",
       " \"Live from Lincoln Center: Rodgers and Hammerstein's Carousel\",\n",
       " \"Monty Python's Fliegender Zirkus\",\n",
       " 'Up',\n",
       " 'All or Nothing: Manchester City',\n",
       " 'Deiva Thirumagal',\n",
       " 'Cowspiracy: The Sustainability Secret',\n",
       " 'Santa Clarita Diet',\n",
       " 'Brainchild',\n",
       " 'In Family I Trust',\n",
       " 'Goliath',\n",
       " 'The Three Deaths of Marisela Escobedo',\n",
       " 'Karnan',\n",
       " 'EIC vs The World',\n",
       " 'Kipo and the Age of Wonderbeasts',\n",
       " 'Roll With Me',\n",
       " 'Designated Survivor',\n",
       " 'Attention Please',\n",
       " 'Chuck',\n",
       " 'A Silent Voice',\n",
       " 'The Heiress',\n",
       " 'Gajaar: Journey of the Soul',\n",
       " 'Power Rangers Beast Morphers',\n",
       " 'The Sneaker Game',\n",
       " 'Dick Winters: \"Hang Tough\"',\n",
       " 'Ponysitters Club',\n",
       " 'Luciano Mellera: Infantiloide',\n",
       " 'Malik',\n",
       " 'Sandra The Fairy Tale Detective',\n",
       " 'Ramanaa',\n",
       " 'Ouran High School Host Club',\n",
       " 'The G',\n",
       " 'Bastille - ReOrchestrated',\n",
       " \"Kratts' Creatures\",\n",
       " 'Strong Girl Bong-soon',\n",
       " 'Nature: Snow Monkeys',\n",
       " \"Jim Henson's The Storyteller: Greek Myths\",\n",
       " 'Itaewon Class',\n",
       " 'El Cartel',\n",
       " 'Chilling Adventures of Sabrina',\n",
       " 'Paris Is Burning',\n",
       " 'Drishyam',\n",
       " 'Eddie Murphy: Delirious',\n",
       " 'Night on Earth',\n",
       " 'Inventions that Shook the World',\n",
       " 'Peasants Rebellion',\n",
       " 'Thaen',\n",
       " 'Doug Stanhope: No Refunds',\n",
       " 'Beyond Evil',\n",
       " 'Wizards: Tales of Arcadia',\n",
       " 'Phineas and Ferb: Mission Marvel',\n",
       " \"Magic of Disney's Animal Kingdom\",\n",
       " 'LA 92',\n",
       " 'Mala Aai Vhhaychy',\n",
       " \"Pan's Labyrinth\",\n",
       " 'Omaha Beach: Honor and Sacrifice',\n",
       " 'Searching for Sugar Man',\n",
       " 'The Witcher',\n",
       " 'The Rational Life',\n",
       " 'Scooby-Doo!: Mystery Incorporated',\n",
       " 'Lo que la vida me robó',\n",
       " 'Zindagi Na Milegi Dobara',\n",
       " 'Martha Speaks',\n",
       " 'Tim Minchin: So Fing Rock',\n",
       " 'Lock, Stock and Two Smoking Barrels',\n",
       " \"Chewin' the Fat\",\n",
       " 'The Blue Elephant 2',\n",
       " 'Better Call Saul',\n",
       " 'The Silk Road',\n",
       " 'The Secrets of Quantum Physics',\n",
       " \"Dr. K's Exotic Animal ER\",\n",
       " 'Dug Days',\n",
       " 'Mix Master: Final Force',\n",
       " 'Raging Bull',\n",
       " 'Indiana Jones and the Last Crusade',\n",
       " 'Mix Master: King of Cards',\n",
       " 'The First 48 Presents: Homicide Squad Atlanta',\n",
       " 'The Midnight Gospel',\n",
       " 'The King: Eternal Monarch',\n",
       " 'Zac and Mia',\n",
       " 'Match Game',\n",
       " \"Can't Cope, Won't Cope\",\n",
       " 'The Durrells in Corfu',\n",
       " 'Get Shorty',\n",
       " 'Moving Half The Mountain',\n",
       " 'Akbar\\xa0Birbal',\n",
       " 'Hot Girl',\n",
       " 'Lots & Lots of Fire Trucks',\n",
       " 'Forces of Nature',\n",
       " 'Caliphate',\n",
       " '8 Out Of 10 Cats',\n",
       " 'Miracle in Cell No. 7',\n",
       " 'Summer 2019 American Road Trip',\n",
       " 'There Will Be Blood',\n",
       " 'Feast',\n",
       " 'DuckTales',\n",
       " 'Japanese Style Originator',\n",
       " 'Rolling Stones - Sticky Fingers Live At The Fonda Theatre 2015',\n",
       " \"American Masters: Raul Julia: The World's a Stage\",\n",
       " 'Home Fires',\n",
       " 'Rose and Maloney',\n",
       " 'Gallagher: The Bookkeeper',\n",
       " '#WASHED',\n",
       " 'Masameer County',\n",
       " 'Bobby Robson: More Than a Manager',\n",
       " 'Undone',\n",
       " 'Blood & Treasures',\n",
       " \"Queer Eye: We're in Japan!\",\n",
       " 'Tangerines',\n",
       " 'Before the Flood',\n",
       " 'Farscape',\n",
       " 'Maanagaram',\n",
       " 'Hotel Del Luna',\n",
       " 'SAS Rogue Warriors',\n",
       " 'Ran (1985)',\n",
       " 'Burnistoun',\n",
       " 'Before the Flood',\n",
       " 'Butch Bradley: From Las Vegas',\n",
       " 'Have You Ever Seen Fireflies? - Theatre Play',\n",
       " 'SpongeBob SquarePants',\n",
       " 'NOVA: Decoding the Weather Machine',\n",
       " 'Masala Chai',\n",
       " 'Vagabond',\n",
       " 'Babam ve Oğlum',\n",
       " 'Shaun the Sheep',\n",
       " 'Sudani from Nigeria',\n",
       " \"The King's Avatar\",\n",
       " 'Green Eggs and Ham',\n",
       " 'Shutter Island',\n",
       " 'Engineering Giants',\n",
       " 'Die Hard',\n",
       " 'Chris Gethard: Half My Life',\n",
       " 'Klaus',\n",
       " 'Wild Chile',\n",
       " 'Fake Princess',\n",
       " 'Sailor Moon Crystal',\n",
       " 'The Sword and The Brocade',\n",
       " 'Altair: A Record of Battles',\n",
       " 'Patrick Melrose',\n",
       " 'Platoon',\n",
       " 'Something in the Rain',\n",
       " 'Bombay',\n",
       " 'All Or Nothing: New Zealand All Blacks',\n",
       " 'All or Nothing: Tottenham Hotspur',\n",
       " \"Monty Python's Almost the Truth\",\n",
       " 'America Revealed',\n",
       " 'Vendetta',\n",
       " 'The Princess Bride',\n",
       " \"Monty Python's Life of Brian\",\n",
       " 'Parrot Sketch Not Included: Twenty Years of Monty Python',\n",
       " 'Gargoyles',\n",
       " 'Rascal Does Not Dream of Bunny Girl Senpai',\n",
       " 'Chasing Coral',\n",
       " 'Superheroes: A Never-Ending Battle',\n",
       " 'Schoolhouse Rock!',\n",
       " 'Catch Me If You Can',\n",
       " \"Emmet Otter's Jug-Band Christmas\",\n",
       " 'Park Avenue: Money, Power & The American Dream',\n",
       " 'Do, Re & Mi',\n",
       " 'Million Dollar Baby',\n",
       " 'Nobel',\n",
       " 'Micheal Jordan: Come Fly with Me',\n",
       " 'Good Omens',\n",
       " 'Richard Pryor: Live in Concert',\n",
       " 'Andaz Apna Apna',\n",
       " 'Hunters of the South Seas',\n",
       " 'Barfi!',\n",
       " 'Creating Freedom: The Lottery of Birth',\n",
       " 'NOVA: Day the Dinosaurs Died',\n",
       " 'Devineni',\n",
       " 'Valley Uprising',\n",
       " 'Dorohedoro',\n",
       " 'Monsters, Inc.',\n",
       " 'Manhunt',\n",
       " 'Trainspotting',\n",
       " 'Ace In The Hole',\n",
       " 'Remembering Leonard Nimoy',\n",
       " 'Rendez-vous',\n",
       " 'Cobra Kai',\n",
       " 'Moone Boy',\n",
       " 'Tennessee Whiskey: The Dean Dillon Story',\n",
       " 'Ashani Sanket',\n",
       " 'El límite infinito',\n",
       " 'Disney Prop Culture',\n",
       " 'Blade Runner: The Final Cut',\n",
       " 'The Beginning of Life 2: Outside',\n",
       " 'Kill Bill: Vol. 1',\n",
       " 'Samurai Gourmet',\n",
       " 'Section 375',\n",
       " 'Mere Papa Hero Hiralal',\n",
       " 'The Worst Witch',\n",
       " 'Pretend It’s a City',\n",
       " 'Moesha',\n",
       " 'Soul',\n",
       " 'Into the Wild',\n",
       " 'Hideaki Anno: The Final Challenge of Evangelion',\n",
       " 'Esperando la carroza',\n",
       " 'RESET',\n",
       " 'Future is Wild',\n",
       " 'The Keepers',\n",
       " 'My Octopus Teacher',\n",
       " 'Haider',\n",
       " 'V for Vendetta',\n",
       " 'Rang De Basanti',\n",
       " 'The Elephant Man',\n",
       " 'Partly Cloudy',\n",
       " 'Rising Phoenix',\n",
       " 'Problems',\n",
       " 'Khaani',\n",
       " 'Bhai: Vyakti Ki Valli - Uttarardh',\n",
       " 'EVANGELION:3.0+1.01 THRICE UPON A TIME',\n",
       " 'Sneaky Pete',\n",
       " 'Karakuri Circus',\n",
       " 'The Handmaiden',\n",
       " 'Wild Wild Country',\n",
       " 'There Is Many Like Us',\n",
       " 'Stalker',\n",
       " 'Jonathan Strange & Mr Norrell',\n",
       " 'Secrets of Wild India',\n",
       " 'Among Us',\n",
       " 'G.O.R.A',\n",
       " 'The Kings',\n",
       " 'Hannah Gadsby: Nanette',\n",
       " 'Spirited',\n",
       " 'World of Winx',\n",
       " 'Coach Snoop',\n",
       " 'Lynx',\n",
       " 'The Frankenstein Chronicles',\n",
       " 'Finding Nemo',\n",
       " 'Oh My Kadavule',\n",
       " 'Taco Chronicles',\n",
       " 'My Little Pony: Friendship Is Magic',\n",
       " \"Hachi: A Dog's Tale\",\n",
       " 'The Invisible Guest',\n",
       " 'The Royle Family',\n",
       " 'Narappa',\n",
       " 'Inside Out',\n",
       " 'Nayattu',\n",
       " 'Cortez',\n",
       " 'Eddie Izzard: Unrepeatable',\n",
       " 'Dilwale Dulhania Le Jayenge',\n",
       " 'This is Football',\n",
       " 'Counterpart',\n",
       " 'Dil Chahta Hai',\n",
       " 'Arjun Reddy',\n",
       " 'Cold Case Files Classic',\n",
       " 'Brochevaruevarura',\n",
       " 'Deya Neya',\n",
       " \"Tom Clancy's Jack Ryan\",\n",
       " 'Cool Hand Luke',\n",
       " 'Clip: El Anti-Friendzone',\n",
       " 'Tiny Trucks',\n",
       " 'The Last Kids on Earth',\n",
       " 'Because This Is My First Life',\n",
       " 'The Princess Bride (4K UHD)',\n",
       " 'A Korean Odyssey',\n",
       " 'Cheer',\n",
       " 'The Princess Bride',\n",
       " 'The Disastrous Life of Saiki K.',\n",
       " 'Cooked',\n",
       " 'Shonar Pahar',\n",
       " 'Stand By Me',\n",
       " 'Handsome Siblings',\n",
       " 'Atlantis',\n",
       " 'Sillu Karuppatti',\n",
       " 'Law School',\n",
       " 'The 2000s',\n",
       " 'Paava Kadhaigal',\n",
       " 'The PRiMMS',\n",
       " 'Uyare',\n",
       " 'Paper Moon',\n",
       " 'Hyperdrive',\n",
       " 'WPC 56',\n",
       " ...]"
      ]
     },
     "execution_count": 81,
     "metadata": {},
     "output_type": "execute_result"
    }
   ],
   "source": [
    "s_"
   ]
  },
  {
   "cell_type": "markdown",
   "metadata": {},
   "source": [
    "### Division between Series and Movies"
   ]
  },
  {
   "cell_type": "code",
   "execution_count": 43,
   "metadata": {},
   "outputs": [
    {
     "data": {
      "text/plain": [
       "6.338777453345182"
      ]
     },
     "execution_count": 43,
     "metadata": {},
     "output_type": "execute_result"
    }
   ],
   "source": [
    "data.imdb_rating.mean()"
   ]
  },
  {
   "cell_type": "code",
   "execution_count": 32,
   "metadata": {},
   "outputs": [],
   "source": [
    "movies = df_frag('type', 'Movie')"
   ]
  },
  {
   "cell_type": "code",
   "execution_count": 33,
   "metadata": {},
   "outputs": [
    {
     "data": {
      "text/plain": [
       "(12418, 14)"
      ]
     },
     "execution_count": 33,
     "metadata": {},
     "output_type": "execute_result"
    }
   ],
   "source": [
    "movies.shape"
   ]
  },
  {
   "cell_type": "code",
   "execution_count": 34,
   "metadata": {},
   "outputs": [],
   "source": [
    "tv_shows = df_frag('type', 'TV Show')"
   ]
  },
  {
   "cell_type": "code",
   "execution_count": 35,
   "metadata": {},
   "outputs": [
    {
     "data": {
      "text/plain": [
       "(3336, 14)"
      ]
     },
     "execution_count": 35,
     "metadata": {},
     "output_type": "execute_result"
    }
   ],
   "source": [
    "tv_shows.shape"
   ]
  },
  {
   "cell_type": "markdown",
   "metadata": {},
   "source": [
    "### Division bewteen streaming platforms"
   ]
  },
  {
   "cell_type": "markdown",
   "metadata": {},
   "source": [
    "#### Netflix"
   ]
  },
  {
   "cell_type": "code",
   "execution_count": 36,
   "metadata": {},
   "outputs": [],
   "source": [
    "netflix = df_frag('platform', 'netflix')"
   ]
  },
  {
   "cell_type": "code",
   "execution_count": 37,
   "metadata": {},
   "outputs": [
    {
     "data": {
      "text/plain": [
       "(6958, 14)"
      ]
     },
     "execution_count": 37,
     "metadata": {},
     "output_type": "execute_result"
    }
   ],
   "source": [
    "netflix.shape"
   ]
  },
  {
   "cell_type": "markdown",
   "metadata": {},
   "source": [
    "#### Amazon"
   ]
  },
  {
   "cell_type": "code",
   "execution_count": 38,
   "metadata": {},
   "outputs": [],
   "source": [
    "amazon = df_frag('platform', 'amazon')"
   ]
  },
  {
   "cell_type": "code",
   "execution_count": 39,
   "metadata": {},
   "outputs": [
    {
     "data": {
      "text/plain": [
       "(7685, 14)"
      ]
     },
     "execution_count": 39,
     "metadata": {},
     "output_type": "execute_result"
    }
   ],
   "source": [
    "amazon.shape"
   ]
  },
  {
   "cell_type": "code",
   "execution_count": 40,
   "metadata": {},
   "outputs": [],
   "source": [
    "amazon_nulls = pd.read_csv('data\\\\notebook_df\\\\amazon_null.csv')"
   ]
  },
  {
   "cell_type": "code",
   "execution_count": 41,
   "metadata": {},
   "outputs": [],
   "source": [
    "amazon_f = pd.concat([amazon, amazon_nulls])"
   ]
  },
  {
   "cell_type": "code",
   "execution_count": 42,
   "metadata": {},
   "outputs": [],
   "source": [
    "amazon = amazon_f.drop_duplicates(subset='title', keep='last')"
   ]
  },
  {
   "cell_type": "markdown",
   "metadata": {},
   "source": [
    "#### Disney"
   ]
  },
  {
   "cell_type": "code",
   "execution_count": 43,
   "metadata": {},
   "outputs": [],
   "source": [
    "disney = df_frag('platform', 'disney')"
   ]
  },
  {
   "cell_type": "code",
   "execution_count": 44,
   "metadata": {},
   "outputs": [
    {
     "data": {
      "text/plain": [
       "(1111, 14)"
      ]
     },
     "execution_count": 44,
     "metadata": {},
     "output_type": "execute_result"
    }
   ],
   "source": [
    "disney.shape"
   ]
  },
  {
   "cell_type": "code",
   "execution_count": 45,
   "metadata": {},
   "outputs": [
    {
     "data": {
      "text/plain": [
       "(0, 14)"
      ]
     },
     "execution_count": 45,
     "metadata": {},
     "output_type": "execute_result"
    }
   ],
   "source": [
    "get_nulls(disney)"
   ]
  },
  {
   "cell_type": "markdown",
   "metadata": {},
   "source": [
    "### Further differentiation"
   ]
  },
  {
   "cell_type": "code",
   "execution_count": 46,
   "metadata": {},
   "outputs": [],
   "source": [
    "data = pd.read_csv('data\\\\notebook_df\\\\platforms_data_22_04.csv')"
   ]
  },
  {
   "cell_type": "code",
   "execution_count": 47,
   "metadata": {},
   "outputs": [],
   "source": [
    "data.rename(columns = {},inplace=True)"
   ]
  },
  {
   "cell_type": "code",
   "execution_count": 48,
   "metadata": {},
   "outputs": [],
   "source": [
    "data.genres = data.genres.replace(to_replace = 'TV', value = '', regex=True)"
   ]
  },
  {
   "cell_type": "code",
   "execution_count": 49,
   "metadata": {},
   "outputs": [],
   "source": [
    "data.genres = data.genres.replace(to_replace = 'Movies', value = '', regex=True)"
   ]
  },
  {
   "cell_type": "code",
   "execution_count": 50,
   "metadata": {},
   "outputs": [],
   "source": [
    "data.genres = data.genres.replace(to_replace = 'Shows', value = '', regex=True)"
   ]
  },
  {
   "cell_type": "code",
   "execution_count": 51,
   "metadata": {},
   "outputs": [],
   "source": [
    "data.genres = data.genres.replace(to_replace = 'Series', value = '', regex=True)"
   ]
  },
  {
   "cell_type": "code",
   "execution_count": 52,
   "metadata": {},
   "outputs": [],
   "source": [
    "data.genres = data.genres.replace(to_replace = 'Features', value = '', regex=True)"
   ]
  },
  {
   "cell_type": "markdown",
   "metadata": {},
   "source": [
    "#### Year"
   ]
  },
  {
   "cell_type": "code",
   "execution_count": 51,
   "metadata": {},
   "outputs": [],
   "source": [
    "year_list = list(data.release_year.unique())"
   ]
  },
  {
   "cell_type": "markdown",
   "metadata": {},
   "source": [
    "#### I want to separate all unique values of listed_in and countries"
   ]
  },
  {
   "cell_type": "code",
   "execution_count": 218,
   "metadata": {},
   "outputs": [],
   "source": [
    "def extract_uniques(lista):\n",
    "\n",
    "    unique_values = []\n",
    "\n",
    "    for number in range(0,len(lista)):\n",
    "        try:\n",
    "            words = lista[number].split(',')\n",
    "        except:\n",
    "            pass\n",
    "        for word in words:\n",
    "            if word.strip() not in unique_values:\n",
    "                unique_values.append(word.strip())\n",
    "    return unique_values"
   ]
  },
  {
   "cell_type": "code",
   "execution_count": 249,
   "metadata": {},
   "outputs": [],
   "source": [
    "def complete_list(lista):\n",
    "\n",
    "    total_values = []\n",
    "    \n",
    "    for number in range(0,len(lista)):\n",
    "        try:\n",
    "            words = lista[number].split(',')\n",
    "        except:\n",
    "            pass\n",
    "        for word in words:\n",
    "            total_values.append(word.strip())\n",
    "    return total_values        "
   ]
  },
  {
   "cell_type": "code",
   "execution_count": 402,
   "metadata": {},
   "outputs": [],
   "source": [
    "x = list(zip(data.genres, data.imdb_rating))"
   ]
  },
  {
   "cell_type": "code",
   "execution_count": 436,
   "metadata": {},
   "outputs": [],
   "source": [
    "x_2 =  x[0:100]"
   ]
  },
  {
   "cell_type": "code",
   "execution_count": 456,
   "metadata": {},
   "outputs": [],
   "source": [
    "lista_1 = []\n",
    "lista_2 = []\n",
    "\n",
    "\n",
    "for number in range(0,len(x_2)):\n",
    "    try:\n",
    "        words = x_2[number][0].split(',')\n",
    "    except:\n",
    "        pass\n",
    "\n",
    "    for word in words:\n",
    "\n",
    "        lista_1.append(word.strip())\n",
    "        lista_2.append(x_2[number][1])\n",
    "\n",
    "        result = pd.DataFrame()\n",
    "        result[1] = lista_1\n",
    "        result[2]= lista_2"
   ]
  },
  {
   "cell_type": "code",
   "execution_count": 455,
   "metadata": {},
   "outputs": [
    {
     "data": {
      "text/plain": [
       "['International', 'Dramas', ' Teen']"
      ]
     },
     "execution_count": 455,
     "metadata": {},
     "output_type": "execute_result"
    }
   ],
   "source": [
    "x_2[0][0].split(',')"
   ]
  },
  {
   "cell_type": "code",
   "execution_count": 458,
   "metadata": {},
   "outputs": [],
   "source": [
    "def columns_rating(column_1, column_2):\n",
    "    \n",
    "    df = list(zip(column_1, column_2))\n",
    "\n",
    "    lista_1 = []\n",
    "    lista_2 = []\n",
    "\n",
    "\n",
    "    for number in range(0,len(df)):\n",
    "        try:\n",
    "            words = df[number][0].split(',')\n",
    "        except:\n",
    "            pass\n",
    "        \n",
    "        for word in words:\n",
    "            \n",
    "            lista_1.append(word.strip())\n",
    "            lista_2.append(df[number][1])\n",
    "            \n",
    "            result = pd.DataFrame()\n",
    "            result[1] = lista_1\n",
    "            result[2]= lista_2\n",
    "            \n",
    "    return result\n"
   ]
  },
  {
   "cell_type": "markdown",
   "metadata": {},
   "source": [
    "#### Genres"
   ]
  },
  {
   "cell_type": "code",
   "execution_count": 459,
   "metadata": {},
   "outputs": [],
   "source": [
    "complete_genres = columns_rating(data.genres, data.imdb_rating)"
   ]
  },
  {
   "cell_type": "code",
   "execution_count": 461,
   "metadata": {},
   "outputs": [
    {
     "data": {
      "text/plain": [
       "33135"
      ]
     },
     "execution_count": 461,
     "metadata": {},
     "output_type": "execute_result"
    }
   ],
   "source": [
    "len(complete_genres)"
   ]
  },
  {
   "cell_type": "code",
   "execution_count": 462,
   "metadata": {},
   "outputs": [],
   "source": [
    "complete_genres.rename(columns = {1:'genre',2:'rating'}, inplace=True)"
   ]
  },
  {
   "cell_type": "markdown",
   "metadata": {},
   "source": [
    "#### Modifications to have better data "
   ]
  },
  {
   "cell_type": "code",
   "execution_count": 505,
   "metadata": {},
   "outputs": [],
   "source": [
    "complete_genres['genre'] = complete_genres['genre'].replace('Action-Adventure', 'Action & Adventure', regex=True)"
   ]
  },
  {
   "cell_type": "code",
   "execution_count": 507,
   "metadata": {},
   "outputs": [],
   "source": [
    "complete_genres['genre'] = complete_genres['genre'].replace('Classic', 'Classic & Cult', regex=True)"
   ]
  },
  {
   "cell_type": "code",
   "execution_count": 509,
   "metadata": {},
   "outputs": [],
   "source": [
    "complete_genres['genre'] = complete_genres['genre'].replace('Documentaries', 'Documentary', regex=True)"
   ]
  },
  {
   "cell_type": "code",
   "execution_count": 510,
   "metadata": {},
   "outputs": [],
   "source": [
    "complete_genres['genre'] = complete_genres['genre'].replace('Dramas', 'Drama', regex=True)"
   ]
  },
  {
   "cell_type": "code",
   "execution_count": 512,
   "metadata": {},
   "outputs": [],
   "source": [
    "complete_genres['genre'] = complete_genres['genre'].replace('Faith and Spirituality', 'Faith & Spirituality', regex=True)"
   ]
  },
  {
   "cell_type": "code",
   "execution_count": 518,
   "metadata": {},
   "outputs": [],
   "source": [
    "complete_genres['genre'] = complete_genres['genre'].replace(\"Kids'\", 'Kids', regex=True)"
   ]
  },
  {
   "cell_type": "code",
   "execution_count": 520,
   "metadata": {},
   "outputs": [],
   "source": [
    "complete_genres['genre'] = complete_genres['genre'].replace('Dance', 'Music & Musicals', regex=True)"
   ]
  },
  {
   "cell_type": "code",
   "execution_count": 521,
   "metadata": {},
   "outputs": [],
   "source": [
    "complete_genres['genre'] = complete_genres['genre'].replace('Concert Film', 'Music & Musicals', regex=True)"
   ]
  },
  {
   "cell_type": "code",
   "execution_count": 522,
   "metadata": {},
   "outputs": [],
   "source": [
    "complete_genres['genre'] = complete_genres['genre'].replace('Musical', 'Music & Musicals', regex=True)"
   ]
  },
  {
   "cell_type": "code",
   "execution_count": 532,
   "metadata": {},
   "outputs": [],
   "source": [
    "complete_genres['genre'] = complete_genres['genre'].replace('Mysteries', 'Mystery', regex=True)"
   ]
  },
  {
   "cell_type": "code",
   "execution_count": 534,
   "metadata": {},
   "outputs": [],
   "source": [
    "complete_genres['genre'] = complete_genres['genre'].replace('Romantic', 'Romance', regex=True)"
   ]
  },
  {
   "cell_type": "code",
   "execution_count": 538,
   "metadata": {},
   "outputs": [],
   "source": [
    "complete_genres['genre'] = complete_genres['genre'].replace('Science Fiction', 'Sci-Fi & Fantasy', regex=True)"
   ]
  },
  {
   "cell_type": "code",
   "execution_count": 540,
   "metadata": {},
   "outputs": [],
   "source": [
    "complete_genres['genre'] = complete_genres['genre'].replace('Spy/Espionage', 'Espionage', regex=True)"
   ]
  },
  {
   "cell_type": "code",
   "execution_count": 542,
   "metadata": {},
   "outputs": [],
   "source": [
    "complete_genres['genre'] = complete_genres['genre'].replace('Stand-Up Comedy & Talk', 'Stand-Up Comedy', regex=True)"
   ]
  },
  {
   "cell_type": "code",
   "execution_count": 555,
   "metadata": {},
   "outputs": [],
   "source": [
    "complete_genres['genre'] = complete_genres['genre'].replace('Talk Show and Talk Show and Variety',\n",
    "                                                            'Talk Show and Variety', regex=True)"
   ]
  },
  {
   "cell_type": "code",
   "execution_count": 550,
   "metadata": {},
   "outputs": [],
   "source": [
    "complete_genres['genre'] = complete_genres['genre'].replace('Variety', 'Talk Show and Variety', regex=True)"
   ]
  },
  {
   "cell_type": "code",
   "execution_count": 548,
   "metadata": {},
   "outputs": [],
   "source": [
    "complete_genres['genre'] = complete_genres['genre'].replace('Thrillers', 'Thriller', regex=True)"
   ]
  },
  {
   "cell_type": "code",
   "execution_count": 552,
   "metadata": {},
   "outputs": [],
   "source": [
    "complete_genres['genre'] = complete_genres['genre'].replace('Soap Opera / Melodrama', 'Soap Opera', regex=True)"
   ]
  },
  {
   "cell_type": "markdown",
   "metadata": {},
   "source": [
    "There are a series of genres that are not really genres and we can delete. These are: Young Adult Audience, and Culture, Korean Spanish Language. I'm going to keep the international genre becuase it can refer to movies than involve global issues, but if this is not the case, I will drop it too."
   ]
  },
  {
   "cell_type": "code",
   "execution_count": 594,
   "metadata": {},
   "outputs": [],
   "source": [
    "complete_genres_clean = complete_genres[(complete_genres['genre'] != 'and Culture') & (complete_genres['genre'] != 'Young Adult Audience') &\n",
    "                   (complete_genres['genre'] != 'Korean') & (complete_genres['genre'] != 'Spanish-Language') & \n",
    "                   (complete_genres['genre'] != '')]"
   ]
  },
  {
   "cell_type": "code",
   "execution_count": 618,
   "metadata": {},
   "outputs": [],
   "source": [
    "top_genres = complete_genres_clean.groupby('genre').agg({\n",
    "    'rating':'mean'}).sort_values(by='rating', ascending=False).head(10)"
   ]
  },
  {
   "cell_type": "code",
   "execution_count": 619,
   "metadata": {},
   "outputs": [],
   "source": [
    "bottom_genres = complete_genres_clean.groupby('genre').agg({\n",
    "    'rating':'mean'}).sort_values(by='rating', ascending=False).tail(10)"
   ]
  },
  {
   "cell_type": "code",
   "execution_count": 621,
   "metadata": {},
   "outputs": [
    {
     "data": {
      "text/html": [
       "<th style=\"text-align:center\"><td style=\"vertical-align:top\"><h2>top_10_genres</h2><table style=\"display:inline\" border=\"1\" class=\"dataframe\">\n",
       "  <thead>\n",
       "    <tr style=\"text-align: right;\">\n",
       "      <th></th>\n",
       "      <th>rating</th>\n",
       "    </tr>\n",
       "    <tr>\n",
       "      <th>genre</th>\n",
       "      <th></th>\n",
       "    </tr>\n",
       "  </thead>\n",
       "  <tbody>\n",
       "    <tr>\n",
       "      <th>Medical</th>\n",
       "      <td>7.933333</td>\n",
       "    </tr>\n",
       "    <tr>\n",
       "      <th>Fitness</th>\n",
       "      <td>7.650000</td>\n",
       "    </tr>\n",
       "    <tr>\n",
       "      <th>Survival</th>\n",
       "      <td>7.642857</td>\n",
       "    </tr>\n",
       "    <tr>\n",
       "      <th>Travel</th>\n",
       "      <td>7.600000</td>\n",
       "    </tr>\n",
       "    <tr>\n",
       "      <th>Classic &amp; Cult &amp; Cult</th>\n",
       "      <td>7.533333</td>\n",
       "    </tr>\n",
       "    <tr>\n",
       "      <th>Classic &amp; Cult</th>\n",
       "      <td>7.390566</td>\n",
       "    </tr>\n",
       "    <tr>\n",
       "      <th>Docuseries</th>\n",
       "      <td>7.364691</td>\n",
       "    </tr>\n",
       "    <tr>\n",
       "      <th>Teen</th>\n",
       "      <td>7.304348</td>\n",
       "    </tr>\n",
       "    <tr>\n",
       "      <th>Science &amp; Nature</th>\n",
       "      <td>7.301471</td>\n",
       "    </tr>\n",
       "    <tr>\n",
       "      <th>Soap Opera</th>\n",
       "      <td>7.300000</td>\n",
       "    </tr>\n",
       "  </tbody>\n",
       "</table style=\"display:inline\"></td></th><th style=\"text-align:center\"><td style=\"vertical-align:top\"><h2>bottom_10_genres</h2><table style=\"display:inline\" border=\"1\" class=\"dataframe\">\n",
       "  <thead>\n",
       "    <tr style=\"text-align: right;\">\n",
       "      <th></th>\n",
       "      <th>rating</th>\n",
       "    </tr>\n",
       "    <tr>\n",
       "      <th>genre</th>\n",
       "      <th></th>\n",
       "    </tr>\n",
       "  </thead>\n",
       "  <tbody>\n",
       "    <tr>\n",
       "      <th>Children &amp; Family</th>\n",
       "      <td>6.013043</td>\n",
       "    </tr>\n",
       "    <tr>\n",
       "      <th>Thriller</th>\n",
       "      <td>5.982491</td>\n",
       "    </tr>\n",
       "    <tr>\n",
       "      <th>Western</th>\n",
       "      <td>5.941176</td>\n",
       "    </tr>\n",
       "    <tr>\n",
       "      <th>Sci-Fi &amp; Fantasy</th>\n",
       "      <td>5.850535</td>\n",
       "    </tr>\n",
       "    <tr>\n",
       "      <th>Adventure</th>\n",
       "      <td>5.804803</td>\n",
       "    </tr>\n",
       "    <tr>\n",
       "      <th>Romance Comedy</th>\n",
       "      <td>5.800000</td>\n",
       "    </tr>\n",
       "    <tr>\n",
       "      <th>Suspense</th>\n",
       "      <td>5.758072</td>\n",
       "    </tr>\n",
       "    <tr>\n",
       "      <th>Action</th>\n",
       "      <td>5.747202</td>\n",
       "    </tr>\n",
       "    <tr>\n",
       "      <th>Espionage</th>\n",
       "      <td>5.600000</td>\n",
       "    </tr>\n",
       "    <tr>\n",
       "      <th>Horror</th>\n",
       "      <td>5.206864</td>\n",
       "    </tr>\n",
       "  </tbody>\n",
       "</table style=\"display:inline\"></td></th>"
      ]
     },
     "metadata": {},
     "output_type": "display_data"
    }
   ],
   "source": [
    "display_side_by_side(top_genres,bottom_genres, titles=['top_10_genres', 'bottom_10_genres'])"
   ]
  },
  {
   "cell_type": "markdown",
   "metadata": {},
   "source": [
    "#### Countries"
   ]
  },
  {
   "cell_type": "code",
   "execution_count": 733,
   "metadata": {},
   "outputs": [],
   "source": [
    "countries_com = data[data.country.isin(v.index[v.gt(1)])]"
   ]
  },
  {
   "cell_type": "code",
   "execution_count": 734,
   "metadata": {},
   "outputs": [],
   "source": [
    "countries_com = countries_com[~countries_com.country.isnull()]"
   ]
  },
  {
   "cell_type": "code",
   "execution_count": 735,
   "metadata": {},
   "outputs": [],
   "source": [
    "countries_com = countries_com[~countries_com.country.str.contains(',')]"
   ]
  },
  {
   "cell_type": "code",
   "execution_count": 736,
   "metadata": {},
   "outputs": [],
   "source": [
    "countries_list = list(countries_com.country.unique())\n",
    "# Apart from individual countries there are titlesthat have a combination of countries "
   ]
  },
  {
   "cell_type": "code",
   "execution_count": 746,
   "metadata": {},
   "outputs": [],
   "source": [
    "complete_countries = columns_rating(countries_com.country, countries_com.imdb_rating)"
   ]
  },
  {
   "cell_type": "code",
   "execution_count": 747,
   "metadata": {},
   "outputs": [
    {
     "data": {
      "text/plain": [
       "6797"
      ]
     },
     "execution_count": 747,
     "metadata": {},
     "output_type": "execute_result"
    }
   ],
   "source": [
    "len(complete_countries)"
   ]
  },
  {
   "cell_type": "code",
   "execution_count": 748,
   "metadata": {},
   "outputs": [],
   "source": [
    "complete_countries.rename(columns={1:'country', 2:'rating'},inplace=True)"
   ]
  },
  {
   "cell_type": "code",
   "execution_count": 749,
   "metadata": {},
   "outputs": [],
   "source": [
    "complete_countries = complete_countries[complete_countries != '']"
   ]
  },
  {
   "cell_type": "code",
   "execution_count": 750,
   "metadata": {},
   "outputs": [],
   "source": [
    "top_countries = complete_countries.groupby('country').agg({\n",
    "    'rating':'mean'}).sort_values(by='rating', ascending=False).head(10)"
   ]
  },
  {
   "cell_type": "code",
   "execution_count": 751,
   "metadata": {},
   "outputs": [],
   "source": [
    "bottom_countries = complete_countries.groupby('country').agg({\n",
    "    'rating':'mean'}).sort_values(by='rating', ascending=False).tail(10)"
   ]
  },
  {
   "cell_type": "code",
   "execution_count": 752,
   "metadata": {},
   "outputs": [
    {
     "data": {
      "text/html": [
       "<th style=\"text-align:center\"><td style=\"vertical-align:top\"><h2>top_10_countries</h2><table style=\"display:inline\" border=\"1\" class=\"dataframe\">\n",
       "  <thead>\n",
       "    <tr style=\"text-align: right;\">\n",
       "      <th></th>\n",
       "      <th>rating</th>\n",
       "    </tr>\n",
       "    <tr>\n",
       "      <th>country</th>\n",
       "      <th></th>\n",
       "    </tr>\n",
       "  </thead>\n",
       "  <tbody>\n",
       "    <tr>\n",
       "      <th>South Korea</th>\n",
       "      <td>7.216463</td>\n",
       "    </tr>\n",
       "    <tr>\n",
       "      <th>Israel</th>\n",
       "      <td>7.188889</td>\n",
       "    </tr>\n",
       "    <tr>\n",
       "      <th>Japan</th>\n",
       "      <td>7.127638</td>\n",
       "    </tr>\n",
       "    <tr>\n",
       "      <th>Belgium</th>\n",
       "      <td>7.042857</td>\n",
       "    </tr>\n",
       "    <tr>\n",
       "      <th>Iceland</th>\n",
       "      <td>7.040000</td>\n",
       "    </tr>\n",
       "    <tr>\n",
       "      <th>Denmark</th>\n",
       "      <td>7.037500</td>\n",
       "    </tr>\n",
       "    <tr>\n",
       "      <th>China</th>\n",
       "      <td>6.954237</td>\n",
       "    </tr>\n",
       "    <tr>\n",
       "      <th>Pakistan</th>\n",
       "      <td>6.940000</td>\n",
       "    </tr>\n",
       "    <tr>\n",
       "      <th>Lebanon</th>\n",
       "      <td>6.921429</td>\n",
       "    </tr>\n",
       "    <tr>\n",
       "      <th>Hungary</th>\n",
       "      <td>6.900000</td>\n",
       "    </tr>\n",
       "  </tbody>\n",
       "</table style=\"display:inline\"></td></th><th style=\"text-align:center\"><td style=\"vertical-align:top\"><h2>bottom_10_countries</h2><table style=\"display:inline\" border=\"1\" class=\"dataframe\">\n",
       "  <thead>\n",
       "    <tr style=\"text-align: right;\">\n",
       "      <th></th>\n",
       "      <th>rating</th>\n",
       "    </tr>\n",
       "    <tr>\n",
       "      <th>country</th>\n",
       "      <th></th>\n",
       "    </tr>\n",
       "  </thead>\n",
       "  <tbody>\n",
       "    <tr>\n",
       "      <th>Poland</th>\n",
       "      <td>5.927778</td>\n",
       "    </tr>\n",
       "    <tr>\n",
       "      <th>Nigeria</th>\n",
       "      <td>5.894737</td>\n",
       "    </tr>\n",
       "    <tr>\n",
       "      <th>Egypt</th>\n",
       "      <td>5.841860</td>\n",
       "    </tr>\n",
       "    <tr>\n",
       "      <th>Chile</th>\n",
       "      <td>5.745455</td>\n",
       "    </tr>\n",
       "    <tr>\n",
       "      <th>Netherlands</th>\n",
       "      <td>5.713333</td>\n",
       "    </tr>\n",
       "    <tr>\n",
       "      <th>South Africa</th>\n",
       "      <td>5.692000</td>\n",
       "    </tr>\n",
       "    <tr>\n",
       "      <th>Romania</th>\n",
       "      <td>5.466667</td>\n",
       "    </tr>\n",
       "    <tr>\n",
       "      <th>Jordan</th>\n",
       "      <td>5.450000</td>\n",
       "    </tr>\n",
       "    <tr>\n",
       "      <th>Ghana</th>\n",
       "      <td>5.366667</td>\n",
       "    </tr>\n",
       "    <tr>\n",
       "      <th>United Arab Emirates</th>\n",
       "      <td>4.563636</td>\n",
       "    </tr>\n",
       "  </tbody>\n",
       "</table style=\"display:inline\"></td></th>"
      ]
     },
     "metadata": {},
     "output_type": "display_data"
    }
   ],
   "source": [
    "display_side_by_side(top_countries,bottom_countries, titles=['top_10_countries', 'bottom_10_countries'])"
   ]
  },
  {
   "cell_type": "markdown",
   "metadata": {},
   "source": [
    "### Analysis"
   ]
  },
  {
   "cell_type": "code",
   "execution_count": 60,
   "metadata": {},
   "outputs": [
    {
     "data": {
      "text/html": [
       "<div>\n",
       "<style scoped>\n",
       "    .dataframe tbody tr th:only-of-type {\n",
       "        vertical-align: middle;\n",
       "    }\n",
       "\n",
       "    .dataframe tbody tr th {\n",
       "        vertical-align: top;\n",
       "    }\n",
       "\n",
       "    .dataframe thead th {\n",
       "        text-align: right;\n",
       "    }\n",
       "</style>\n",
       "<table border=\"1\" class=\"dataframe\">\n",
       "  <thead>\n",
       "    <tr style=\"text-align: right;\">\n",
       "      <th></th>\n",
       "      <th>show_id</th>\n",
       "      <th>type</th>\n",
       "      <th>title</th>\n",
       "      <th>director</th>\n",
       "      <th>cast</th>\n",
       "      <th>country</th>\n",
       "      <th>date_added</th>\n",
       "      <th>release_year</th>\n",
       "      <th>rating</th>\n",
       "      <th>duration</th>\n",
       "      <th>listed_in</th>\n",
       "      <th>description</th>\n",
       "      <th>platform</th>\n",
       "      <th>imdb_rating</th>\n",
       "    </tr>\n",
       "  </thead>\n",
       "  <tbody>\n",
       "    <tr>\n",
       "      <th>2</th>\n",
       "      <td>s278</td>\n",
       "      <td>TV Show</td>\n",
       "      <td>AlRawabi School for Girls</td>\n",
       "      <td>NaN</td>\n",
       "      <td>Andria Tayeh, Rakeen Sa'ad, Noor Taher, Yara M...</td>\n",
       "      <td>Jordan</td>\n",
       "      <td>August 12, 2021</td>\n",
       "      <td>2021</td>\n",
       "      <td>TV-14</td>\n",
       "      <td>1 Season</td>\n",
       "      <td>International TV Shows, TV Dramas, Teen TV Shows</td>\n",
       "      <td>The bullied outcasts at prestigious Al Rawabi ...</td>\n",
       "      <td>netflix</td>\n",
       "      <td>7.4</td>\n",
       "    </tr>\n",
       "    <tr>\n",
       "      <th>3</th>\n",
       "      <td>s279</td>\n",
       "      <td>Movie</td>\n",
       "      <td>Lokillo: Nothing's the Same</td>\n",
       "      <td>Julián Gaviria</td>\n",
       "      <td>Lokillo Florez</td>\n",
       "      <td>Colombia</td>\n",
       "      <td>August 12, 2021</td>\n",
       "      <td>2021</td>\n",
       "      <td>TV-MA</td>\n",
       "      <td>64 min</td>\n",
       "      <td>Stand-Up Comedy</td>\n",
       "      <td>Through songs and puns, comedian Lokillo Flore...</td>\n",
       "      <td>netflix</td>\n",
       "      <td>4.6</td>\n",
       "    </tr>\n",
       "    <tr>\n",
       "      <th>4</th>\n",
       "      <td>s280</td>\n",
       "      <td>Movie</td>\n",
       "      <td>Monster Hunter: Legends of the Guild</td>\n",
       "      <td>Steven Yamamoto</td>\n",
       "      <td>Ben Rausch, Erica Lindbeck, Dante Basco, Brand...</td>\n",
       "      <td>United States, Japan</td>\n",
       "      <td>August 12, 2021</td>\n",
       "      <td>2021</td>\n",
       "      <td>TV-PG</td>\n",
       "      <td>59 min</td>\n",
       "      <td>Action &amp; Adventure, Anime Features, Children &amp;...</td>\n",
       "      <td>In a world where humans and fearsome monsters ...</td>\n",
       "      <td>netflix</td>\n",
       "      <td>5.2</td>\n",
       "    </tr>\n",
       "    <tr>\n",
       "      <th>5</th>\n",
       "      <td>s281</td>\n",
       "      <td>TV Show</td>\n",
       "      <td>Bake Squad</td>\n",
       "      <td>NaN</td>\n",
       "      <td>NaN</td>\n",
       "      <td>United States</td>\n",
       "      <td>August 11, 2021</td>\n",
       "      <td>2021</td>\n",
       "      <td>TV-PG</td>\n",
       "      <td>1 Season</td>\n",
       "      <td>Reality TV</td>\n",
       "      <td>Expert bakers elevate desserts with next-level...</td>\n",
       "      <td>netflix</td>\n",
       "      <td>7.0</td>\n",
       "    </tr>\n",
       "    <tr>\n",
       "      <th>7</th>\n",
       "      <td>s283</td>\n",
       "      <td>Movie</td>\n",
       "      <td>La diosa del asfalto</td>\n",
       "      <td>Julián Hernández</td>\n",
       "      <td>Ximena Romo, Mabel Cadena, Alejandra Herrera, ...</td>\n",
       "      <td>Mexico</td>\n",
       "      <td>August 11, 2021</td>\n",
       "      <td>2020</td>\n",
       "      <td>TV-MA</td>\n",
       "      <td>127 min</td>\n",
       "      <td>Dramas, Independent Movies, International Movies</td>\n",
       "      <td>A woman from a tough neighborhood outside Mexi...</td>\n",
       "      <td>netflix</td>\n",
       "      <td>5.0</td>\n",
       "    </tr>\n",
       "  </tbody>\n",
       "</table>\n",
       "</div>"
      ],
      "text/plain": [
       "  show_id     type                                 title          director  \\\n",
       "2    s278  TV Show             AlRawabi School for Girls               NaN   \n",
       "3    s279    Movie           Lokillo: Nothing's the Same    Julián Gaviria   \n",
       "4    s280    Movie  Monster Hunter: Legends of the Guild   Steven Yamamoto   \n",
       "5    s281  TV Show                            Bake Squad               NaN   \n",
       "7    s283    Movie                  La diosa del asfalto  Julián Hernández   \n",
       "\n",
       "                                                cast               country  \\\n",
       "2  Andria Tayeh, Rakeen Sa'ad, Noor Taher, Yara M...                Jordan   \n",
       "3                                     Lokillo Florez              Colombia   \n",
       "4  Ben Rausch, Erica Lindbeck, Dante Basco, Brand...  United States, Japan   \n",
       "5                                                NaN         United States   \n",
       "7  Ximena Romo, Mabel Cadena, Alejandra Herrera, ...                Mexico   \n",
       "\n",
       "        date_added  release_year rating  duration  \\\n",
       "2  August 12, 2021          2021  TV-14  1 Season   \n",
       "3  August 12, 2021          2021  TV-MA    64 min   \n",
       "4  August 12, 2021          2021  TV-PG    59 min   \n",
       "5  August 11, 2021          2021  TV-PG  1 Season   \n",
       "7  August 11, 2021          2020  TV-MA   127 min   \n",
       "\n",
       "                                           listed_in  \\\n",
       "2   International TV Shows, TV Dramas, Teen TV Shows   \n",
       "3                                    Stand-Up Comedy   \n",
       "4  Action & Adventure, Anime Features, Children &...   \n",
       "5                                         Reality TV   \n",
       "7   Dramas, Independent Movies, International Movies   \n",
       "\n",
       "                                         description platform  imdb_rating  \n",
       "2  The bullied outcasts at prestigious Al Rawabi ...  netflix          7.4  \n",
       "3  Through songs and puns, comedian Lokillo Flore...  netflix          4.6  \n",
       "4  In a world where humans and fearsome monsters ...  netflix          5.2  \n",
       "5  Expert bakers elevate desserts with next-level...  netflix          7.0  \n",
       "7  A woman from a tough neighborhood outside Mexi...  netflix          5.0  "
      ]
     },
     "execution_count": 60,
     "metadata": {},
     "output_type": "execute_result"
    }
   ],
   "source": [
    "data.head()"
   ]
  },
  {
   "cell_type": "code",
   "execution_count": 48,
   "metadata": {},
   "outputs": [
    {
     "data": {
      "text/plain": [
       "show_id          object\n",
       "type             object\n",
       "title            object\n",
       "director         object\n",
       "cast             object\n",
       "country          object\n",
       "date_added       object\n",
       "release_year      int64\n",
       "rating           object\n",
       "duration         object\n",
       "listed_in        object\n",
       "description      object\n",
       "platform         object\n",
       "imdb_rating     float64\n",
       "dtype: object"
      ]
     },
     "execution_count": 48,
     "metadata": {},
     "output_type": "execute_result"
    }
   ],
   "source": [
    "data.dtypes"
   ]
  },
  {
   "cell_type": "markdown",
   "metadata": {},
   "source": [
    "#### Data count"
   ]
  },
  {
   "cell_type": "code",
   "execution_count": 49,
   "metadata": {},
   "outputs": [
    {
     "data": {
      "text/plain": [
       "Movie      12418\n",
       "TV Show     3336\n",
       "Name: type, dtype: int64"
      ]
     },
     "execution_count": 49,
     "metadata": {},
     "output_type": "execute_result"
    }
   ],
   "source": [
    "data.type.value_counts()"
   ]
  },
  {
   "cell_type": "markdown",
   "metadata": {},
   "source": [
    "### Platform quality"
   ]
  },
  {
   "cell_type": "code",
   "execution_count": 52,
   "metadata": {},
   "outputs": [
    {
     "data": {
      "text/html": [
       "<div>\n",
       "<style scoped>\n",
       "    .dataframe tbody tr th:only-of-type {\n",
       "        vertical-align: middle;\n",
       "    }\n",
       "\n",
       "    .dataframe tbody tr th {\n",
       "        vertical-align: top;\n",
       "    }\n",
       "\n",
       "    .dataframe thead th {\n",
       "        text-align: right;\n",
       "    }\n",
       "</style>\n",
       "<table border=\"1\" class=\"dataframe\">\n",
       "  <thead>\n",
       "    <tr style=\"text-align: right;\">\n",
       "      <th></th>\n",
       "      <th>imdb_rating</th>\n",
       "    </tr>\n",
       "    <tr>\n",
       "      <th>platform</th>\n",
       "      <th></th>\n",
       "    </tr>\n",
       "  </thead>\n",
       "  <tbody>\n",
       "    <tr>\n",
       "      <th>disney</th>\n",
       "      <td>6.641494</td>\n",
       "    </tr>\n",
       "    <tr>\n",
       "      <th>netflix</th>\n",
       "      <td>6.465536</td>\n",
       "    </tr>\n",
       "    <tr>\n",
       "      <th>amazon</th>\n",
       "      <td>6.180247</td>\n",
       "    </tr>\n",
       "  </tbody>\n",
       "</table>\n",
       "</div>"
      ],
      "text/plain": [
       "          imdb_rating\n",
       "platform             \n",
       "disney       6.641494\n",
       "netflix      6.465536\n",
       "amazon       6.180247"
      ]
     },
     "execution_count": 52,
     "metadata": {},
     "output_type": "execute_result"
    }
   ],
   "source": [
    "data.groupby('platform').agg({'imdb_rating':\n",
    "                                    'mean'}).sort_values('imdb_rating', ascending = False)"
   ]
  },
  {
   "cell_type": "markdown",
   "metadata": {},
   "source": [
    "### Platform quality "
   ]
  },
  {
   "cell_type": "code",
   "execution_count": 53,
   "metadata": {},
   "outputs": [
    {
     "data": {
      "text/html": [
       "<div>\n",
       "<style scoped>\n",
       "    .dataframe tbody tr th:only-of-type {\n",
       "        vertical-align: middle;\n",
       "    }\n",
       "\n",
       "    .dataframe tbody tr th {\n",
       "        vertical-align: top;\n",
       "    }\n",
       "\n",
       "    .dataframe thead th {\n",
       "        text-align: right;\n",
       "    }\n",
       "</style>\n",
       "<table border=\"1\" class=\"dataframe\">\n",
       "  <thead>\n",
       "    <tr style=\"text-align: right;\">\n",
       "      <th></th>\n",
       "      <th>imdb_rating</th>\n",
       "    </tr>\n",
       "    <tr>\n",
       "      <th>platform</th>\n",
       "      <th></th>\n",
       "    </tr>\n",
       "  </thead>\n",
       "  <tbody>\n",
       "    <tr>\n",
       "      <th>disney</th>\n",
       "      <td>7.073504</td>\n",
       "    </tr>\n",
       "    <tr>\n",
       "      <th>amazon</th>\n",
       "      <td>7.058696</td>\n",
       "    </tr>\n",
       "    <tr>\n",
       "      <th>netflix</th>\n",
       "      <td>7.057549</td>\n",
       "    </tr>\n",
       "  </tbody>\n",
       "</table>\n",
       "</div>"
      ],
      "text/plain": [
       "          imdb_rating\n",
       "platform             \n",
       "disney       7.073504\n",
       "amazon       7.058696\n",
       "netflix      7.057549"
      ]
     },
     "execution_count": 53,
     "metadata": {},
     "output_type": "execute_result"
    }
   ],
   "source": [
    "data[data.type=='TV Show'].groupby('platform').agg({'imdb_rating':\n",
    "                                                                'mean'}).sort_values('imdb_rating', ascending = False)"
   ]
  },
  {
   "cell_type": "code",
   "execution_count": 54,
   "metadata": {},
   "outputs": [
    {
     "data": {
      "text/html": [
       "<div>\n",
       "<style scoped>\n",
       "    .dataframe tbody tr th:only-of-type {\n",
       "        vertical-align: middle;\n",
       "    }\n",
       "\n",
       "    .dataframe tbody tr th {\n",
       "        vertical-align: top;\n",
       "    }\n",
       "\n",
       "    .dataframe thead th {\n",
       "        text-align: right;\n",
       "    }\n",
       "</style>\n",
       "<table border=\"1\" class=\"dataframe\">\n",
       "  <thead>\n",
       "    <tr style=\"text-align: right;\">\n",
       "      <th></th>\n",
       "      <th>imdb_rating</th>\n",
       "    </tr>\n",
       "    <tr>\n",
       "      <th>platform</th>\n",
       "      <th></th>\n",
       "    </tr>\n",
       "  </thead>\n",
       "  <tbody>\n",
       "    <tr>\n",
       "      <th>disney</th>\n",
       "      <td>6.526226</td>\n",
       "    </tr>\n",
       "    <tr>\n",
       "      <th>netflix</th>\n",
       "      <td>6.270837</td>\n",
       "    </tr>\n",
       "    <tr>\n",
       "      <th>amazon</th>\n",
       "      <td>5.987978</td>\n",
       "    </tr>\n",
       "  </tbody>\n",
       "</table>\n",
       "</div>"
      ],
      "text/plain": [
       "          imdb_rating\n",
       "platform             \n",
       "disney       6.526226\n",
       "netflix      6.270837\n",
       "amazon       5.987978"
      ]
     },
     "execution_count": 54,
     "metadata": {},
     "output_type": "execute_result"
    }
   ],
   "source": [
    "data[data.type=='Movie'].groupby('platform').agg({'imdb_rating':\n",
    "                                                              'mean'}).sort_values('imdb_rating', ascending = False)"
   ]
  },
  {
   "cell_type": "markdown",
   "metadata": {},
   "source": [
    "### What platform has the best title"
   ]
  },
  {
   "cell_type": "code",
   "execution_count": 55,
   "metadata": {},
   "outputs": [],
   "source": [
    "top_100_movies = data[data.type == 'Movie'].sort_values('imdb_rating', ascending = False).head(100)"
   ]
  },
  {
   "cell_type": "code",
   "execution_count": 254,
   "metadata": {},
   "outputs": [
    {
     "data": {
      "text/plain": [
       "19634"
      ]
     },
     "execution_count": 254,
     "metadata": {},
     "output_type": "execute_result"
    }
   ],
   "source": [
    "len(complete_countries)"
   ]
  },
  {
   "cell_type": "code",
   "execution_count": 56,
   "metadata": {},
   "outputs": [],
   "source": [
    "top_100_shows = data[data.type == 'TV Show'].sort_values('imdb_rating', ascending = False).head(100)"
   ]
  },
  {
   "cell_type": "code",
   "execution_count": 57,
   "metadata": {},
   "outputs": [
    {
     "data": {
      "text/html": [
       "<div>\n",
       "<style scoped>\n",
       "    .dataframe tbody tr th:only-of-type {\n",
       "        vertical-align: middle;\n",
       "    }\n",
       "\n",
       "    .dataframe tbody tr th {\n",
       "        vertical-align: top;\n",
       "    }\n",
       "\n",
       "    .dataframe thead th {\n",
       "        text-align: right;\n",
       "    }\n",
       "</style>\n",
       "<table border=\"1\" class=\"dataframe\">\n",
       "  <thead>\n",
       "    <tr style=\"text-align: right;\">\n",
       "      <th></th>\n",
       "      <th>title</th>\n",
       "      <th>imdb_rating</th>\n",
       "    </tr>\n",
       "    <tr>\n",
       "      <th>platform</th>\n",
       "      <th></th>\n",
       "      <th></th>\n",
       "    </tr>\n",
       "  </thead>\n",
       "  <tbody>\n",
       "    <tr>\n",
       "      <th>amazon</th>\n",
       "      <td>71</td>\n",
       "      <td>8.969014</td>\n",
       "    </tr>\n",
       "    <tr>\n",
       "      <th>disney</th>\n",
       "      <td>6</td>\n",
       "      <td>8.816667</td>\n",
       "    </tr>\n",
       "    <tr>\n",
       "      <th>netflix</th>\n",
       "      <td>23</td>\n",
       "      <td>8.839130</td>\n",
       "    </tr>\n",
       "  </tbody>\n",
       "</table>\n",
       "</div>"
      ],
      "text/plain": [
       "          title  imdb_rating\n",
       "platform                    \n",
       "amazon       71     8.969014\n",
       "disney        6     8.816667\n",
       "netflix      23     8.839130"
      ]
     },
     "execution_count": 57,
     "metadata": {},
     "output_type": "execute_result"
    }
   ],
   "source": [
    "top_100_movies.groupby('platform').agg({'title':'count', 'imdb_rating':'mean'})"
   ]
  },
  {
   "cell_type": "code",
   "execution_count": 58,
   "metadata": {},
   "outputs": [
    {
     "data": {
      "text/html": [
       "<div>\n",
       "<style scoped>\n",
       "    .dataframe tbody tr th:only-of-type {\n",
       "        vertical-align: middle;\n",
       "    }\n",
       "\n",
       "    .dataframe tbody tr th {\n",
       "        vertical-align: top;\n",
       "    }\n",
       "\n",
       "    .dataframe thead th {\n",
       "        text-align: right;\n",
       "    }\n",
       "</style>\n",
       "<table border=\"1\" class=\"dataframe\">\n",
       "  <thead>\n",
       "    <tr style=\"text-align: right;\">\n",
       "      <th></th>\n",
       "      <th>title</th>\n",
       "      <th>imdb_rating</th>\n",
       "    </tr>\n",
       "    <tr>\n",
       "      <th>platform</th>\n",
       "      <th></th>\n",
       "      <th></th>\n",
       "    </tr>\n",
       "  </thead>\n",
       "  <tbody>\n",
       "    <tr>\n",
       "      <th>amazon</th>\n",
       "      <td>42</td>\n",
       "      <td>9.085714</td>\n",
       "    </tr>\n",
       "    <tr>\n",
       "      <th>disney</th>\n",
       "      <td>5</td>\n",
       "      <td>8.980000</td>\n",
       "    </tr>\n",
       "    <tr>\n",
       "      <th>netflix</th>\n",
       "      <td>53</td>\n",
       "      <td>9.047170</td>\n",
       "    </tr>\n",
       "  </tbody>\n",
       "</table>\n",
       "</div>"
      ],
      "text/plain": [
       "          title  imdb_rating\n",
       "platform                    \n",
       "amazon       42     9.085714\n",
       "disney        5     8.980000\n",
       "netflix      53     9.047170"
      ]
     },
     "execution_count": 58,
     "metadata": {},
     "output_type": "execute_result"
    }
   ],
   "source": [
    "top_100_shows.groupby('platform').agg({'title':'count', 'imdb_rating':'mean'})"
   ]
  },
  {
   "cell_type": "markdown",
   "metadata": {},
   "source": [
    "### Differentiation for analysis"
   ]
  },
  {
   "cell_type": "code",
   "execution_count": 59,
   "metadata": {},
   "outputs": [],
   "source": [
    "amazon_t = data[(data.platform == 'amazon')]"
   ]
  },
  {
   "cell_type": "code",
   "execution_count": 60,
   "metadata": {},
   "outputs": [],
   "source": [
    "amazon_movie_len = len(amazon_t[amazon_t.type == 'Movie'])"
   ]
  },
  {
   "cell_type": "code",
   "execution_count": 61,
   "metadata": {},
   "outputs": [],
   "source": [
    "amazon_show_len = len(amazon_t[amazon_t.type == 'TV Show'])"
   ]
  },
  {
   "cell_type": "code",
   "execution_count": 62,
   "metadata": {},
   "outputs": [],
   "source": [
    "netflix_t = data[(data.platform == 'netflix')]"
   ]
  },
  {
   "cell_type": "code",
   "execution_count": 63,
   "metadata": {},
   "outputs": [],
   "source": [
    "netflix_movie_len = len(netflix_t[netflix_t.type == 'Movie'])"
   ]
  },
  {
   "cell_type": "code",
   "execution_count": 64,
   "metadata": {},
   "outputs": [],
   "source": [
    "netflix_show_len = len(netflix_t[netflix_t.type == 'TV Show'])"
   ]
  },
  {
   "cell_type": "code",
   "execution_count": 65,
   "metadata": {},
   "outputs": [],
   "source": [
    "disney_t = data[(data.platform == 'disney')]"
   ]
  },
  {
   "cell_type": "code",
   "execution_count": 66,
   "metadata": {},
   "outputs": [],
   "source": [
    "disney_movie_len = len(disney_t[disney_t.type == 'Movie'])"
   ]
  },
  {
   "cell_type": "code",
   "execution_count": 67,
   "metadata": {},
   "outputs": [],
   "source": [
    "disney_show_len = len(disney_t[disney_t.type == 'TV Show'])"
   ]
  },
  {
   "cell_type": "markdown",
   "metadata": {},
   "source": [
    "### Function for creating the final table"
   ]
  },
  {
   "cell_type": "code",
   "execution_count": 68,
   "metadata": {},
   "outputs": [],
   "source": [
    "def quantile_results(df, title_type, len_df):\n",
    "    movies_1q = df[(df.type == title_type) & (df.imdb_rating >= 7.5)].groupby('platform').agg({\n",
    "    'title':lambda series: (series).count()/len_df * 100})\n",
    "    movies_2q = df[(df.type == title_type) & (df.imdb_rating < 7.5) \n",
    "                       & (df.imdb_rating >= 5.0)].groupby('platform').agg({'title':lambda series: (series).count()/len_df * 100})\n",
    "    movies_3q = df[(df.type == title_type) & (df.imdb_rating < 5.0)].groupby('platform').agg({\n",
    "        'title':lambda series: (series).count()/len_df * 100})\n",
    "    '''movies_4q = df[(df.type == title_type) & (df.imdb_rating <= 2.5)].groupby('platform').agg({\n",
    "    'title':lambda series: (series).count()/len_df * 100})\n",
    "    '''\n",
    "    \n",
    "    movies_q_complete = movies_1q.join(movies_2q, lsuffix='_1q', rsuffix='_2q').join(\n",
    "    movies_3q, lsuffix= '_2q',rsuffix='_3q')\n",
    "    \n",
    "    return movies_q_complete\n",
    "    "
   ]
  },
  {
   "cell_type": "code",
   "execution_count": 32,
   "metadata": {},
   "outputs": [
    {
     "ename": "NameError",
     "evalue": "name 'quantile_results' is not defined",
     "output_type": "error",
     "traceback": [
      "\u001b[1;31m---------------------------------------------------------------------------\u001b[0m",
      "\u001b[1;31mNameError\u001b[0m                                 Traceback (most recent call last)",
      "\u001b[1;32m<ipython-input-32-ab16dd0073d5>\u001b[0m in \u001b[0;36m<module>\u001b[1;34m\u001b[0m\n\u001b[1;32m----> 1\u001b[1;33m \u001b[0mamazon_movie_q\u001b[0m  \u001b[1;33m=\u001b[0m \u001b[0mquantile_results\u001b[0m\u001b[1;33m(\u001b[0m\u001b[0mamazon_t\u001b[0m\u001b[1;33m,\u001b[0m \u001b[1;34m'Movie'\u001b[0m\u001b[1;33m,\u001b[0m \u001b[0mamazon_movie_len\u001b[0m\u001b[1;33m)\u001b[0m\u001b[1;33m\u001b[0m\u001b[1;33m\u001b[0m\u001b[0m\n\u001b[0m\u001b[0;32m      2\u001b[0m \u001b[0mnetflix_movie_q\u001b[0m \u001b[1;33m=\u001b[0m \u001b[0mquantile_results\u001b[0m\u001b[1;33m(\u001b[0m\u001b[0mnetflix_t\u001b[0m\u001b[1;33m,\u001b[0m \u001b[1;34m'Movie'\u001b[0m\u001b[1;33m,\u001b[0m \u001b[0mnetflix_movie_len\u001b[0m\u001b[1;33m)\u001b[0m\u001b[1;33m\u001b[0m\u001b[1;33m\u001b[0m\u001b[0m\n\u001b[0;32m      3\u001b[0m \u001b[0mdisney_movie_q\u001b[0m \u001b[1;33m=\u001b[0m \u001b[0mquantile_results\u001b[0m\u001b[1;33m(\u001b[0m\u001b[0mdisney_t\u001b[0m\u001b[1;33m,\u001b[0m \u001b[1;34m'Movie'\u001b[0m\u001b[1;33m,\u001b[0m \u001b[0mdisney_movie_len\u001b[0m\u001b[1;33m)\u001b[0m\u001b[1;33m\u001b[0m\u001b[1;33m\u001b[0m\u001b[0m\n\u001b[0;32m      4\u001b[0m \u001b[0mdata_movie_1\u001b[0m \u001b[1;33m=\u001b[0m \u001b[0mquantle_results\u001b[0m\u001b[1;33m(\u001b[0m\u001b[0mdata\u001b[0m\u001b[1;33m[\u001b[0m\u001b[0mdata\u001b[0m\u001b[1;33m.\u001b[0m\u001b[0mtype\u001b[0m \u001b[1;33m==\u001b[0m \u001b[1;34m'Movie'\u001b[0m\u001b[1;33m]\u001b[0m\u001b[1;33m,\u001b[0m \u001b[0mlen\u001b[0m\u001b[1;33m(\u001b[0m\u001b[0mdata\u001b[0m\u001b[1;33m[\u001b[0m\u001b[0mdata\u001b[0m\u001b[1;33m.\u001b[0m\u001b[0mtype\u001b[0m\u001b[1;33m==\u001b[0m\u001b[1;34m'Movie'\u001b[0m\u001b[1;33m]\u001b[0m\u001b[1;33m)\u001b[0m\u001b[1;33m)\u001b[0m\u001b[1;33m\u001b[0m\u001b[1;33m\u001b[0m\u001b[0m\n",
      "\u001b[1;31mNameError\u001b[0m: name 'quantile_results' is not defined"
     ]
    }
   ],
   "source": [
    "amazon_movie_q  = quantile_results(amazon_t, 'Movie', amazon_movie_len)\n",
    "netflix_movie_q = quantile_results(netflix_t, 'Movie', netflix_movie_len)\n",
    "disney_movie_q = quantile_results(disney_t, 'Movie', disney_movie_len)\n",
    "data_movie_1 = quantle_results(data[data.type == 'Movie'], len(data[data.type=='Movie']))"
   ]
  },
  {
   "cell_type": "code",
   "execution_count": 70,
   "metadata": {},
   "outputs": [],
   "source": [
    "amazon_show_q  = quantile_results(amazon_t, 'TV Show', amazon_show_len)\n",
    "netflix_show_q = quantile_results(netflix_t, 'TV Show', netflix_show_len)\n",
    "disney_show_q = quantile_results(disney_t, 'TV Show', disney_show_len)"
   ]
  },
  {
   "cell_type": "code",
   "execution_count": 71,
   "metadata": {},
   "outputs": [],
   "source": [
    "movies_q = pd.concat([amazon_movie_q, netflix_movie_q, disney_movie_q]).round(decimals=2).rename(columns = {\n",
    "    'title_1q':'1Q','title_2q':'2Q','title':'3Q'})"
   ]
  },
  {
   "cell_type": "code",
   "execution_count": 39,
   "metadata": {},
   "outputs": [
    {
     "data": {
      "text/html": [
       "<div>\n",
       "<style scoped>\n",
       "    .dataframe tbody tr th:only-of-type {\n",
       "        vertical-align: middle;\n",
       "    }\n",
       "\n",
       "    .dataframe tbody tr th {\n",
       "        vertical-align: top;\n",
       "    }\n",
       "\n",
       "    .dataframe thead th {\n",
       "        text-align: right;\n",
       "    }\n",
       "</style>\n",
       "<table border=\"1\" class=\"dataframe\">\n",
       "  <thead>\n",
       "    <tr style=\"text-align: right;\">\n",
       "      <th></th>\n",
       "      <th>1Q</th>\n",
       "      <th>2Q</th>\n",
       "      <th>3Q</th>\n",
       "    </tr>\n",
       "    <tr>\n",
       "      <th>platform</th>\n",
       "      <th></th>\n",
       "      <th></th>\n",
       "      <th></th>\n",
       "    </tr>\n",
       "  </thead>\n",
       "  <tbody>\n",
       "    <tr>\n",
       "      <th>amazon</th>\n",
       "      <td>12.16</td>\n",
       "      <td>67.79</td>\n",
       "      <td>20.05</td>\n",
       "    </tr>\n",
       "    <tr>\n",
       "      <th>netflix</th>\n",
       "      <td>14.04</td>\n",
       "      <td>73.28</td>\n",
       "      <td>12.68</td>\n",
       "    </tr>\n",
       "    <tr>\n",
       "      <th>disney</th>\n",
       "      <td>15.17</td>\n",
       "      <td>78.68</td>\n",
       "      <td>6.16</td>\n",
       "    </tr>\n",
       "  </tbody>\n",
       "</table>\n",
       "</div>"
      ],
      "text/plain": [
       "             1Q     2Q     3Q\n",
       "platform                     \n",
       "amazon    12.16  67.79  20.05\n",
       "netflix   14.04  73.28  12.68\n",
       "disney    15.17  78.68   6.16"
      ]
     },
     "execution_count": 39,
     "metadata": {},
     "output_type": "execute_result"
    }
   ],
   "source": [
    "movies_q #último resultado -> no borrar hasta que no asegurar que obtenemos lo mismo"
   ]
  },
  {
   "cell_type": "code",
   "execution_count": 73,
   "metadata": {},
   "outputs": [],
   "source": [
    "shows_q = pd.concat([amazon_show_q, netflix_show_q, disney_show_q]).round(decimals=2).rename(columns = {\n",
    "    'title_1q':'1Q','title_2q':'2Q','title':'3Q'})"
   ]
  },
  {
   "cell_type": "code",
   "execution_count": 74,
   "metadata": {},
   "outputs": [
    {
     "data": {
      "text/html": [
       "<div>\n",
       "<style scoped>\n",
       "    .dataframe tbody tr th:only-of-type {\n",
       "        vertical-align: middle;\n",
       "    }\n",
       "\n",
       "    .dataframe tbody tr th {\n",
       "        vertical-align: top;\n",
       "    }\n",
       "\n",
       "    .dataframe thead th {\n",
       "        text-align: right;\n",
       "    }\n",
       "</style>\n",
       "<table border=\"1\" class=\"dataframe\">\n",
       "  <thead>\n",
       "    <tr style=\"text-align: right;\">\n",
       "      <th></th>\n",
       "      <th>1Q</th>\n",
       "      <th>2Q</th>\n",
       "      <th>3Q</th>\n",
       "    </tr>\n",
       "    <tr>\n",
       "      <th>platform</th>\n",
       "      <th></th>\n",
       "      <th></th>\n",
       "      <th></th>\n",
       "    </tr>\n",
       "  </thead>\n",
       "  <tbody>\n",
       "    <tr>\n",
       "      <th>amazon</th>\n",
       "      <td>40.29</td>\n",
       "      <td>53.99</td>\n",
       "      <td>5.72</td>\n",
       "    </tr>\n",
       "    <tr>\n",
       "      <th>netflix</th>\n",
       "      <td>38.04</td>\n",
       "      <td>58.07</td>\n",
       "      <td>3.89</td>\n",
       "    </tr>\n",
       "    <tr>\n",
       "      <th>disney</th>\n",
       "      <td>41.88</td>\n",
       "      <td>54.70</td>\n",
       "      <td>3.42</td>\n",
       "    </tr>\n",
       "  </tbody>\n",
       "</table>\n",
       "</div>"
      ],
      "text/plain": [
       "             1Q     2Q    3Q\n",
       "platform                    \n",
       "amazon    40.29  53.99  5.72\n",
       "netflix   38.04  58.07  3.89\n",
       "disney    41.88  54.70  3.42"
      ]
     },
     "execution_count": 74,
     "metadata": {},
     "output_type": "execute_result"
    }
   ],
   "source": [
    "shows_q"
   ]
  },
  {
   "cell_type": "markdown",
   "metadata": {},
   "source": [
    "### Yearly Analysis - Evolution of each platform"
   ]
  },
  {
   "cell_type": "code",
   "execution_count": 83,
   "metadata": {},
   "outputs": [
    {
     "data": {
      "text/plain": [
       "show_id          object\n",
       "type             object\n",
       "title            object\n",
       "director         object\n",
       "cast             object\n",
       "country          object\n",
       "date_added       object\n",
       "release_year      int64\n",
       "rating           object\n",
       "duration         object\n",
       "listed_in        object\n",
       "description      object\n",
       "platform         object\n",
       "imdb_rating     float64\n",
       "dtype: object"
      ]
     },
     "execution_count": 83,
     "metadata": {},
     "output_type": "execute_result"
    }
   ],
   "source": [
    "data.dtypes"
   ]
  },
  {
   "cell_type": "code",
   "execution_count": 84,
   "metadata": {},
   "outputs": [],
   "source": [
    "ama_list = list(amazon.release_year.unique())"
   ]
  },
  {
   "cell_type": "code",
   "execution_count": 85,
   "metadata": {},
   "outputs": [],
   "source": [
    "net_list = list(netflix.release_year.unique())"
   ]
  },
  {
   "cell_type": "code",
   "execution_count": 86,
   "metadata": {},
   "outputs": [],
   "source": [
    "dis_list = list(disney.release_year.unique())"
   ]
  },
  {
   "cell_type": "code",
   "execution_count": 92,
   "metadata": {},
   "outputs": [],
   "source": [
    "amazon_annual = amazon_t.groupby('release_year').agg({'imdb_rating':'mean'})\n",
    "amazon_annual['platform'] = 'amazon'"
   ]
  },
  {
   "cell_type": "code",
   "execution_count": 93,
   "metadata": {},
   "outputs": [],
   "source": [
    "netflix_annual = netflix_t.groupby('release_year').agg({'imdb_rating':'mean'})\n",
    "netflix_annual['platform'] = 'netflix'"
   ]
  },
  {
   "cell_type": "code",
   "execution_count": 94,
   "metadata": {},
   "outputs": [],
   "source": [
    "disney_annual = disney_t.groupby('release_year').agg({'imdb_rating':'mean'})\n",
    "disney_annual['platform'] = 'disney'"
   ]
  },
  {
   "cell_type": "code",
   "execution_count": 95,
   "metadata": {},
   "outputs": [],
   "source": [
    "annual_data = pd.concat([amazon_annual, netflix_annual, disney_annual])"
   ]
  },
  {
   "cell_type": "code",
   "execution_count": 96,
   "metadata": {},
   "outputs": [],
   "source": [
    "annual_data_pvt = annual_data.pivot_table(annual_data, 'release_year', 'platform')"
   ]
  },
  {
   "cell_type": "code",
   "execution_count": 97,
   "metadata": {},
   "outputs": [],
   "source": [
    "annual_data_pvt.fillna(annual_data_pvt.mean(), inplace = True)"
   ]
  },
  {
   "cell_type": "code",
   "execution_count": 98,
   "metadata": {},
   "outputs": [],
   "source": [
    "plotting_data = annual_data_pvt.imdb_rating"
   ]
  },
  {
   "cell_type": "code",
   "execution_count": 99,
   "metadata": {},
   "outputs": [],
   "source": [
    "plotting_data.reset_index(level=0, inplace=True)"
   ]
  },
  {
   "cell_type": "code",
   "execution_count": 101,
   "metadata": {},
   "outputs": [
    {
     "data": {
      "text/plain": [
       "[<matplotlib.lines.Line2D at 0x28f49c509d0>]"
      ]
     },
     "execution_count": 101,
     "metadata": {},
     "output_type": "execute_result"
    },
    {
     "data": {
      "image/png": "[encoded data removed]",
      "text/plain": [
       "<Figure size 432x288 with 1 Axes>"
      ]
     },
     "metadata": {
      "needs_background": "light"
     },
     "output_type": "display_data"
    }
   ],
   "source": [
    "plt.plot(plotting_data.release_year, plotting_data.amazon, label = 'amazon', linestyle = ':')\n",
    "plt.plot(plotting_data.release_year, plotting_data.disney, label = 'disney', linestyle='--')\n",
    "plt.plot(plotting_data.release_year, plotting_data.netflix, label = 'netflix', linestyle = 'dashdot')"
   ]
  }
 ],
 "metadata": {
  "kernelspec": {
   "display_name": "Python 3",
   "language": "python",
   "name": "python3"
  },
  "language_info": {
   "codemirror_mode": {
    "name": "ipython",
    "version": 3
   },
   "file_extension": ".py",
   "mimetype": "text/x-python",
   "name": "python",
   "nbconvert_exporter": "python",
   "pygments_lexer": "ipython3",
   "version": "3.9.1"
  }
 },
 "nbformat": 4,
 "nbformat_minor": 4
}

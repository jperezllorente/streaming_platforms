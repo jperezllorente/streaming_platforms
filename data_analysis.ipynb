{
 "cells": [
  {
   "cell_type": "code",
   "execution_count": 2,
   "metadata": {},
   "outputs": [],
   "source": [
    "import pandas as pd\n",
    "import numpy as np\n",
    "import seaborn as sns\n",
    "import matplotlib.pyplot as plt"
   ]
  },
  {
   "cell_type": "code",
   "execution_count": 3,
   "metadata": {},
   "outputs": [],
   "source": [
    "pd.set_option('display.max_rows',500)"
   ]
  },
  {
   "cell_type": "markdown",
   "metadata": {},
   "source": [
    "### General functions"
   ]
  },
  {
   "cell_type": "code",
   "execution_count": 4,
   "metadata": {},
   "outputs": [],
   "source": [
    "def df_frag(column, value):\n",
    "    return data[data[column] == value]"
   ]
  },
  {
   "cell_type": "code",
   "execution_count": 5,
   "metadata": {},
   "outputs": [],
   "source": [
    "def get_nulls(df):\n",
    "    return df[df['imdb_rating'].isnull()].shape"
   ]
  },
  {
   "cell_type": "code",
   "execution_count": 150,
   "metadata": {},
   "outputs": [],
   "source": [
    "def drop_column(df,column):\n",
    "    return df.drop(column, axis=1, inplcae = True)"
   ]
  },
  {
   "cell_type": "markdown",
   "metadata": {},
   "source": [
    "### General Analysis"
   ]
  },
  {
   "cell_type": "code",
   "execution_count": 6,
   "metadata": {},
   "outputs": [],
   "source": [
    "data = pd.read_csv('data\\\\notebook_df\\\\final_df.csv')"
   ]
  },
  {
   "cell_type": "code",
   "execution_count": null,
   "metadata": {},
   "outputs": [],
   "source": []
  },
  {
   "cell_type": "markdown",
   "metadata": {},
   "source": [
    "### Division between Series and Movies"
   ]
  },
  {
   "cell_type": "code",
   "execution_count": 11,
   "metadata": {},
   "outputs": [],
   "source": [
    "movies = df_frag('type', 'Movie')"
   ]
  },
  {
   "cell_type": "code",
   "execution_count": 12,
   "metadata": {},
   "outputs": [
    {
     "data": {
      "text/plain": [
       "(14997, 14)"
      ]
     },
     "execution_count": 12,
     "metadata": {},
     "output_type": "execute_result"
    }
   ],
   "source": [
    "movies.shape"
   ]
  },
  {
   "cell_type": "code",
   "execution_count": 13,
   "metadata": {},
   "outputs": [],
   "source": [
    "tv_shows = df_frag('type', 'TV Show')"
   ]
  },
  {
   "cell_type": "code",
   "execution_count": 126,
   "metadata": {},
   "outputs": [
    {
     "data": {
      "text/plain": [
       "(4928, 14)"
      ]
     },
     "execution_count": 126,
     "metadata": {},
     "output_type": "execute_result"
    }
   ],
   "source": [
    "tv_shows.shape"
   ]
  },
  {
   "cell_type": "markdown",
   "metadata": {},
   "source": [
    "### Division bewteen streaming platforms"
   ]
  },
  {
   "cell_type": "markdown",
   "metadata": {},
   "source": [
    "#### Netflix"
   ]
  },
  {
   "cell_type": "code",
   "execution_count": 8,
   "metadata": {},
   "outputs": [],
   "source": [
    "netflix = df_frag('platform', 'netflix')"
   ]
  },
  {
   "cell_type": "code",
   "execution_count": 128,
   "metadata": {},
   "outputs": [
    {
     "data": {
      "text/plain": [
       "(8807, 14)"
      ]
     },
     "execution_count": 128,
     "metadata": {},
     "output_type": "execute_result"
    }
   ],
   "source": [
    "netflix.shape"
   ]
  },
  {
   "cell_type": "code",
   "execution_count": 132,
   "metadata": {},
   "outputs": [],
   "source": [
    "netflix_len = len(netflix)"
   ]
  },
  {
   "cell_type": "code",
   "execution_count": 129,
   "metadata": {},
   "outputs": [
    {
     "data": {
      "text/plain": [
       "(1849, 14)"
      ]
     },
     "execution_count": 129,
     "metadata": {},
     "output_type": "execute_result"
    }
   ],
   "source": [
    "get_nulls(netflix)"
   ]
  },
  {
   "cell_type": "markdown",
   "metadata": {},
   "source": [
    "#### Amazon"
   ]
  },
  {
   "cell_type": "code",
   "execution_count": 10,
   "metadata": {},
   "outputs": [],
   "source": [
    "amazon = df_frag('platform', 'amazon')"
   ]
  },
  {
   "cell_type": "code",
   "execution_count": 11,
   "metadata": {},
   "outputs": [
    {
     "data": {
      "text/plain": [
       "(9668, 14)"
      ]
     },
     "execution_count": 11,
     "metadata": {},
     "output_type": "execute_result"
    }
   ],
   "source": [
    "amazon.shape"
   ]
  },
  {
   "cell_type": "code",
   "execution_count": 12,
   "metadata": {},
   "outputs": [],
   "source": [
    "amazon_nulls = pd.read_csv('data\\\\notebook_df\\\\amazon_null.csv')"
   ]
  },
  {
   "cell_type": "code",
   "execution_count": 13,
   "metadata": {},
   "outputs": [],
   "source": [
    "amazon_f = pd.concat([amazon, amazon_nulls])"
   ]
  },
  {
   "cell_type": "code",
   "execution_count": 14,
   "metadata": {},
   "outputs": [],
   "source": [
    "amazon = amazon_f.drop_duplicates(subset='title', keep='last')"
   ]
  },
  {
   "cell_type": "code",
   "execution_count": 15,
   "metadata": {},
   "outputs": [
    {
     "data": {
      "text/plain": [
       "(9668, 14)"
      ]
     },
     "execution_count": 15,
     "metadata": {},
     "output_type": "execute_result"
    }
   ],
   "source": [
    "amazon.shape"
   ]
  },
  {
   "cell_type": "code",
   "execution_count": 16,
   "metadata": {},
   "outputs": [
    {
     "data": {
      "text/plain": [
       "(1983, 14)"
      ]
     },
     "execution_count": 16,
     "metadata": {},
     "output_type": "execute_result"
    }
   ],
   "source": [
    "get_nulls(amazon)"
   ]
  },
  {
   "cell_type": "markdown",
   "metadata": {},
   "source": [
    "#### Disney"
   ]
  },
  {
   "cell_type": "code",
   "execution_count": 17,
   "metadata": {},
   "outputs": [],
   "source": [
    "disney = df_frag('platform', 'disney')"
   ]
  },
  {
   "cell_type": "code",
   "execution_count": 18,
   "metadata": {},
   "outputs": [
    {
     "data": {
      "text/plain": [
       "(1450, 14)"
      ]
     },
     "execution_count": 18,
     "metadata": {},
     "output_type": "execute_result"
    }
   ],
   "source": [
    "disney.shape"
   ]
  },
  {
   "cell_type": "code",
   "execution_count": 20,
   "metadata": {},
   "outputs": [
    {
     "data": {
      "text/plain": [
       "(339, 14)"
      ]
     },
     "execution_count": 20,
     "metadata": {},
     "output_type": "execute_result"
    }
   ],
   "source": [
    "get_nulls(disney)"
   ]
  },
  {
   "cell_type": "markdown",
   "metadata": {},
   "source": [
    "#### Final Data "
   ]
  },
  {
   "cell_type": "code",
   "execution_count": 21,
   "metadata": {},
   "outputs": [],
   "source": [
    "final_data = pd.concat([netflix, amazon, disney])"
   ]
  },
  {
   "cell_type": "code",
   "execution_count": 22,
   "metadata": {},
   "outputs": [
    {
     "data": {
      "text/plain": [
       "(4171, 14)"
      ]
     },
     "execution_count": 22,
     "metadata": {},
     "output_type": "execute_result"
    }
   ],
   "source": [
    "get_nulls(final_data)"
   ]
  },
  {
   "cell_type": "markdown",
   "metadata": {},
   "source": [
    "### Analysis"
   ]
  },
  {
   "cell_type": "code",
   "execution_count": 24,
   "metadata": {},
   "outputs": [
    {
     "data": {
      "text/html": [
       "<div>\n",
       "<style scoped>\n",
       "    .dataframe tbody tr th:only-of-type {\n",
       "        vertical-align: middle;\n",
       "    }\n",
       "\n",
       "    .dataframe tbody tr th {\n",
       "        vertical-align: top;\n",
       "    }\n",
       "\n",
       "    .dataframe thead th {\n",
       "        text-align: right;\n",
       "    }\n",
       "</style>\n",
       "<table border=\"1\" class=\"dataframe\">\n",
       "  <thead>\n",
       "    <tr style=\"text-align: right;\">\n",
       "      <th></th>\n",
       "      <th>show_id</th>\n",
       "      <th>type</th>\n",
       "      <th>title</th>\n",
       "      <th>director</th>\n",
       "      <th>cast</th>\n",
       "      <th>country</th>\n",
       "      <th>date_added</th>\n",
       "      <th>release_year</th>\n",
       "      <th>rating</th>\n",
       "      <th>duration</th>\n",
       "      <th>listed_in</th>\n",
       "      <th>description</th>\n",
       "      <th>platform</th>\n",
       "      <th>imdb_rating</th>\n",
       "    </tr>\n",
       "  </thead>\n",
       "  <tbody>\n",
       "    <tr>\n",
       "      <th>0</th>\n",
       "      <td>s276</td>\n",
       "      <td>TV Show</td>\n",
       "      <td>The Kingdom</td>\n",
       "      <td>NaN</td>\n",
       "      <td>Chino Darín, Nancy Dupláa, Joaquín Furriel, Pe...</td>\n",
       "      <td>Argentina</td>\n",
       "      <td>August 13, 2021</td>\n",
       "      <td>2021</td>\n",
       "      <td>TV-MA</td>\n",
       "      <td>1 Season</td>\n",
       "      <td>Crime TV Shows, International TV Shows, Spanis...</td>\n",
       "      <td>After his running mate's murder, a controversi...</td>\n",
       "      <td>netflix</td>\n",
       "      <td>NaN</td>\n",
       "    </tr>\n",
       "    <tr>\n",
       "      <th>1</th>\n",
       "      <td>s277</td>\n",
       "      <td>TV Show</td>\n",
       "      <td>Valeria</td>\n",
       "      <td>Inma Torrente</td>\n",
       "      <td>Diana Gómez, Silma López, Paula Malia, Teresa ...</td>\n",
       "      <td>Spain</td>\n",
       "      <td>August 13, 2021</td>\n",
       "      <td>2021</td>\n",
       "      <td>TV-MA</td>\n",
       "      <td>2 Seasons</td>\n",
       "      <td>International TV Shows, Romantic TV Shows, Spa...</td>\n",
       "      <td>A writer in creative and marital crises finds ...</td>\n",
       "      <td>netflix</td>\n",
       "      <td>NaN</td>\n",
       "    </tr>\n",
       "    <tr>\n",
       "      <th>2</th>\n",
       "      <td>s278</td>\n",
       "      <td>TV Show</td>\n",
       "      <td>AlRawabi School for Girls</td>\n",
       "      <td>NaN</td>\n",
       "      <td>Andria Tayeh, Rakeen Sa'ad, Noor Taher, Yara M...</td>\n",
       "      <td>Jordan</td>\n",
       "      <td>August 12, 2021</td>\n",
       "      <td>2021</td>\n",
       "      <td>TV-14</td>\n",
       "      <td>1 Season</td>\n",
       "      <td>International TV Shows, TV Dramas, Teen TV Shows</td>\n",
       "      <td>The bullied outcasts at prestigious Al Rawabi ...</td>\n",
       "      <td>netflix</td>\n",
       "      <td>7,4</td>\n",
       "    </tr>\n",
       "    <tr>\n",
       "      <th>3</th>\n",
       "      <td>s279</td>\n",
       "      <td>Movie</td>\n",
       "      <td>Lokillo: Nothing's the Same</td>\n",
       "      <td>Julián Gaviria</td>\n",
       "      <td>Lokillo Florez</td>\n",
       "      <td>Colombia</td>\n",
       "      <td>August 12, 2021</td>\n",
       "      <td>2021</td>\n",
       "      <td>TV-MA</td>\n",
       "      <td>64 min</td>\n",
       "      <td>Stand-Up Comedy</td>\n",
       "      <td>Through songs and puns, comedian Lokillo Flore...</td>\n",
       "      <td>netflix</td>\n",
       "      <td>4,6</td>\n",
       "    </tr>\n",
       "    <tr>\n",
       "      <th>4</th>\n",
       "      <td>s280</td>\n",
       "      <td>Movie</td>\n",
       "      <td>Monster Hunter: Legends of the Guild</td>\n",
       "      <td>Steven Yamamoto</td>\n",
       "      <td>Ben Rausch, Erica Lindbeck, Dante Basco, Brand...</td>\n",
       "      <td>United States, Japan</td>\n",
       "      <td>August 12, 2021</td>\n",
       "      <td>2021</td>\n",
       "      <td>TV-PG</td>\n",
       "      <td>59 min</td>\n",
       "      <td>Action &amp; Adventure, Anime Features, Children &amp;...</td>\n",
       "      <td>In a world where humans and fearsome monsters ...</td>\n",
       "      <td>netflix</td>\n",
       "      <td>5,2</td>\n",
       "    </tr>\n",
       "  </tbody>\n",
       "</table>\n",
       "</div>"
      ],
      "text/plain": [
       "  show_id     type                                 title         director  \\\n",
       "0    s276  TV Show                           The Kingdom              NaN   \n",
       "1    s277  TV Show                               Valeria    Inma Torrente   \n",
       "2    s278  TV Show             AlRawabi School for Girls              NaN   \n",
       "3    s279    Movie           Lokillo: Nothing's the Same   Julián Gaviria   \n",
       "4    s280    Movie  Monster Hunter: Legends of the Guild  Steven Yamamoto   \n",
       "\n",
       "                                                cast               country  \\\n",
       "0  Chino Darín, Nancy Dupláa, Joaquín Furriel, Pe...             Argentina   \n",
       "1  Diana Gómez, Silma López, Paula Malia, Teresa ...                 Spain   \n",
       "2  Andria Tayeh, Rakeen Sa'ad, Noor Taher, Yara M...                Jordan   \n",
       "3                                     Lokillo Florez              Colombia   \n",
       "4  Ben Rausch, Erica Lindbeck, Dante Basco, Brand...  United States, Japan   \n",
       "\n",
       "        date_added  release_year rating   duration  \\\n",
       "0  August 13, 2021          2021  TV-MA   1 Season   \n",
       "1  August 13, 2021          2021  TV-MA  2 Seasons   \n",
       "2  August 12, 2021          2021  TV-14   1 Season   \n",
       "3  August 12, 2021          2021  TV-MA     64 min   \n",
       "4  August 12, 2021          2021  TV-PG     59 min   \n",
       "\n",
       "                                           listed_in  \\\n",
       "0  Crime TV Shows, International TV Shows, Spanis...   \n",
       "1  International TV Shows, Romantic TV Shows, Spa...   \n",
       "2   International TV Shows, TV Dramas, Teen TV Shows   \n",
       "3                                    Stand-Up Comedy   \n",
       "4  Action & Adventure, Anime Features, Children &...   \n",
       "\n",
       "                                         description platform imdb_rating  \n",
       "0  After his running mate's murder, a controversi...  netflix         NaN  \n",
       "1  A writer in creative and marital crises finds ...  netflix         NaN  \n",
       "2  The bullied outcasts at prestigious Al Rawabi ...  netflix         7,4  \n",
       "3  Through songs and puns, comedian Lokillo Flore...  netflix         4,6  \n",
       "4  In a world where humans and fearsome monsters ...  netflix         5,2  "
      ]
     },
     "execution_count": 24,
     "metadata": {},
     "output_type": "execute_result"
    }
   ],
   "source": [
    "final_data.head()"
   ]
  },
  {
   "cell_type": "code",
   "execution_count": 25,
   "metadata": {},
   "outputs": [
    {
     "data": {
      "text/plain": [
       "show_id         object\n",
       "type            object\n",
       "title           object\n",
       "director        object\n",
       "cast            object\n",
       "country         object\n",
       "date_added      object\n",
       "release_year     int64\n",
       "rating          object\n",
       "duration        object\n",
       "listed_in       object\n",
       "description     object\n",
       "platform        object\n",
       "imdb_rating     object\n",
       "dtype: object"
      ]
     },
     "execution_count": 25,
     "metadata": {},
     "output_type": "execute_result"
    }
   ],
   "source": [
    "final_data.dtypes"
   ]
  },
  {
   "cell_type": "markdown",
   "metadata": {},
   "source": [
    "#### Data count"
   ]
  },
  {
   "cell_type": "code",
   "execution_count": 28,
   "metadata": {},
   "outputs": [
    {
     "data": {
      "text/plain": [
       "Movie      14997\n",
       "TV Show     4928\n",
       "Name: type, dtype: int64"
      ]
     },
     "execution_count": 28,
     "metadata": {},
     "output_type": "execute_result"
    }
   ],
   "source": [
    "final_data.type.value_counts()"
   ]
  },
  {
   "cell_type": "code",
   "execution_count": 27,
   "metadata": {},
   "outputs": [],
   "source": [
    "countries_list = list(final_data.country.unique())\n",
    "# Apart from individual countries there are title that have a combination of countries "
   ]
  },
  {
   "cell_type": "code",
   "execution_count": 29,
   "metadata": {},
   "outputs": [],
   "source": [
    "year_list = list(final_data.release_year.unique())"
   ]
  },
  {
   "cell_type": "markdown",
   "metadata": {},
   "source": [
    "We need to change the format of imdb_rating to float"
   ]
  },
  {
   "cell_type": "code",
   "execution_count": 32,
   "metadata": {},
   "outputs": [],
   "source": [
    "# The rating extrcated from IMdb came wiht a \",\", so before changing its type to float we need to replace it by \".\"\n",
    "final_data.imdb_rating = final_data.imdb_rating.replace(',','.',regex = True)"
   ]
  },
  {
   "cell_type": "code",
   "execution_count": 33,
   "metadata": {},
   "outputs": [],
   "source": [
    "final_data = final_data.astype({'imdb_rating':'float64'})"
   ]
  },
  {
   "cell_type": "code",
   "execution_count": 34,
   "metadata": {},
   "outputs": [],
   "source": [
    "# Lets round the rating to 1 decimal number \n",
    "final_data = final_data.round({'imdb_rating':1})"
   ]
  },
  {
   "cell_type": "code",
   "execution_count": 43,
   "metadata": {},
   "outputs": [],
   "source": [
    "final_data.to_csv(r'C:\\Users\\juanp\\proyectos_varios\\streaming_platforms\\data\\notebook_df\\streaming_platforms_data.csv' , index = False)"
   ]
  },
  {
   "cell_type": "markdown",
   "metadata": {},
   "source": [
    "### Platform quality "
   ]
  },
  {
   "cell_type": "code",
   "execution_count": 35,
   "metadata": {},
   "outputs": [
    {
     "data": {
      "text/html": [
       "<div>\n",
       "<style scoped>\n",
       "    .dataframe tbody tr th:only-of-type {\n",
       "        vertical-align: middle;\n",
       "    }\n",
       "\n",
       "    .dataframe tbody tr th {\n",
       "        vertical-align: top;\n",
       "    }\n",
       "\n",
       "    .dataframe thead th {\n",
       "        text-align: right;\n",
       "    }\n",
       "</style>\n",
       "<table border=\"1\" class=\"dataframe\">\n",
       "  <thead>\n",
       "    <tr style=\"text-align: right;\">\n",
       "      <th></th>\n",
       "      <th>imdb_rating</th>\n",
       "    </tr>\n",
       "    <tr>\n",
       "      <th>platform</th>\n",
       "      <th></th>\n",
       "    </tr>\n",
       "  </thead>\n",
       "  <tbody>\n",
       "    <tr>\n",
       "      <th>disney</th>\n",
       "      <td>6.641494</td>\n",
       "    </tr>\n",
       "    <tr>\n",
       "      <th>netflix</th>\n",
       "      <td>6.465536</td>\n",
       "    </tr>\n",
       "    <tr>\n",
       "      <th>amazon</th>\n",
       "      <td>6.180247</td>\n",
       "    </tr>\n",
       "  </tbody>\n",
       "</table>\n",
       "</div>"
      ],
      "text/plain": [
       "          imdb_rating\n",
       "platform             \n",
       "disney       6.641494\n",
       "netflix      6.465536\n",
       "amazon       6.180247"
      ]
     },
     "execution_count": 35,
     "metadata": {},
     "output_type": "execute_result"
    }
   ],
   "source": [
    "final_data.groupby('platform').agg({'imdb_rating':\n",
    "                                    'mean'}).sort_values('imdb_rating', ascending = False)"
   ]
  },
  {
   "cell_type": "code",
   "execution_count": 36,
   "metadata": {},
   "outputs": [
    {
     "data": {
      "text/html": [
       "<div>\n",
       "<style scoped>\n",
       "    .dataframe tbody tr th:only-of-type {\n",
       "        vertical-align: middle;\n",
       "    }\n",
       "\n",
       "    .dataframe tbody tr th {\n",
       "        vertical-align: top;\n",
       "    }\n",
       "\n",
       "    .dataframe thead th {\n",
       "        text-align: right;\n",
       "    }\n",
       "</style>\n",
       "<table border=\"1\" class=\"dataframe\">\n",
       "  <thead>\n",
       "    <tr style=\"text-align: right;\">\n",
       "      <th></th>\n",
       "      <th>imdb_rating</th>\n",
       "    </tr>\n",
       "    <tr>\n",
       "      <th>platform</th>\n",
       "      <th></th>\n",
       "    </tr>\n",
       "  </thead>\n",
       "  <tbody>\n",
       "    <tr>\n",
       "      <th>disney</th>\n",
       "      <td>7.073504</td>\n",
       "    </tr>\n",
       "    <tr>\n",
       "      <th>amazon</th>\n",
       "      <td>7.058696</td>\n",
       "    </tr>\n",
       "    <tr>\n",
       "      <th>netflix</th>\n",
       "      <td>7.057549</td>\n",
       "    </tr>\n",
       "  </tbody>\n",
       "</table>\n",
       "</div>"
      ],
      "text/plain": [
       "          imdb_rating\n",
       "platform             \n",
       "disney       7.073504\n",
       "amazon       7.058696\n",
       "netflix      7.057549"
      ]
     },
     "execution_count": 36,
     "metadata": {},
     "output_type": "execute_result"
    }
   ],
   "source": [
    "final_data[final_data.type=='TV Show'].groupby('platform').agg({'imdb_rating':\n",
    "                                                                'mean'}).sort_values('imdb_rating', ascending = False)"
   ]
  },
  {
   "cell_type": "code",
   "execution_count": 37,
   "metadata": {},
   "outputs": [
    {
     "data": {
      "text/html": [
       "<div>\n",
       "<style scoped>\n",
       "    .dataframe tbody tr th:only-of-type {\n",
       "        vertical-align: middle;\n",
       "    }\n",
       "\n",
       "    .dataframe tbody tr th {\n",
       "        vertical-align: top;\n",
       "    }\n",
       "\n",
       "    .dataframe thead th {\n",
       "        text-align: right;\n",
       "    }\n",
       "</style>\n",
       "<table border=\"1\" class=\"dataframe\">\n",
       "  <thead>\n",
       "    <tr style=\"text-align: right;\">\n",
       "      <th></th>\n",
       "      <th>imdb_rating</th>\n",
       "    </tr>\n",
       "    <tr>\n",
       "      <th>platform</th>\n",
       "      <th></th>\n",
       "    </tr>\n",
       "  </thead>\n",
       "  <tbody>\n",
       "    <tr>\n",
       "      <th>disney</th>\n",
       "      <td>6.526226</td>\n",
       "    </tr>\n",
       "    <tr>\n",
       "      <th>netflix</th>\n",
       "      <td>6.270837</td>\n",
       "    </tr>\n",
       "    <tr>\n",
       "      <th>amazon</th>\n",
       "      <td>5.987978</td>\n",
       "    </tr>\n",
       "  </tbody>\n",
       "</table>\n",
       "</div>"
      ],
      "text/plain": [
       "          imdb_rating\n",
       "platform             \n",
       "disney       6.526226\n",
       "netflix      6.270837\n",
       "amazon       5.987978"
      ]
     },
     "execution_count": 37,
     "metadata": {},
     "output_type": "execute_result"
    }
   ],
   "source": [
    "final_data[final_data.type=='Movie'].groupby('platform').agg({'imdb_rating':\n",
    "                                                              'mean'}).sort_values('imdb_rating', ascending = False)"
   ]
  },
  {
   "cell_type": "markdown",
   "metadata": {},
   "source": [
    "### What platform has the best title"
   ]
  },
  {
   "cell_type": "code",
   "execution_count": 38,
   "metadata": {},
   "outputs": [],
   "source": [
    "top_100_movies = final_data[final_data.type == 'Movie'].sort_values('imdb_rating', ascending = False).head(500)"
   ]
  },
  {
   "cell_type": "code",
   "execution_count": 39,
   "metadata": {},
   "outputs": [],
   "source": [
    "top_100_shows = final_data[final_data.type == 'TV Show'].sort_values('imdb_rating', ascending = False).head(500)"
   ]
  },
  {
   "cell_type": "code",
   "execution_count": 40,
   "metadata": {},
   "outputs": [
    {
     "data": {
      "text/html": [
       "<div>\n",
       "<style scoped>\n",
       "    .dataframe tbody tr th:only-of-type {\n",
       "        vertical-align: middle;\n",
       "    }\n",
       "\n",
       "    .dataframe tbody tr th {\n",
       "        vertical-align: top;\n",
       "    }\n",
       "\n",
       "    .dataframe thead th {\n",
       "        text-align: right;\n",
       "    }\n",
       "</style>\n",
       "<table border=\"1\" class=\"dataframe\">\n",
       "  <thead>\n",
       "    <tr style=\"text-align: right;\">\n",
       "      <th></th>\n",
       "      <th>title</th>\n",
       "    </tr>\n",
       "    <tr>\n",
       "      <th>platform</th>\n",
       "      <th></th>\n",
       "    </tr>\n",
       "  </thead>\n",
       "  <tbody>\n",
       "    <tr>\n",
       "      <th>amazon</th>\n",
       "      <td>259</td>\n",
       "    </tr>\n",
       "    <tr>\n",
       "      <th>disney</th>\n",
       "      <td>35</td>\n",
       "    </tr>\n",
       "    <tr>\n",
       "      <th>netflix</th>\n",
       "      <td>206</td>\n",
       "    </tr>\n",
       "  </tbody>\n",
       "</table>\n",
       "</div>"
      ],
      "text/plain": [
       "          title\n",
       "platform       \n",
       "amazon      259\n",
       "disney       35\n",
       "netflix     206"
      ]
     },
     "execution_count": 40,
     "metadata": {},
     "output_type": "execute_result"
    }
   ],
   "source": [
    "top_100_movies.groupby('platform').agg({'title':'count'})"
   ]
  },
  {
   "cell_type": "code",
   "execution_count": 41,
   "metadata": {},
   "outputs": [
    {
     "data": {
      "text/html": [
       "<div>\n",
       "<style scoped>\n",
       "    .dataframe tbody tr th:only-of-type {\n",
       "        vertical-align: middle;\n",
       "    }\n",
       "\n",
       "    .dataframe tbody tr th {\n",
       "        vertical-align: top;\n",
       "    }\n",
       "\n",
       "    .dataframe thead th {\n",
       "        text-align: right;\n",
       "    }\n",
       "</style>\n",
       "<table border=\"1\" class=\"dataframe\">\n",
       "  <thead>\n",
       "    <tr style=\"text-align: right;\">\n",
       "      <th></th>\n",
       "      <th>title</th>\n",
       "    </tr>\n",
       "    <tr>\n",
       "      <th>platform</th>\n",
       "      <th></th>\n",
       "    </tr>\n",
       "  </thead>\n",
       "  <tbody>\n",
       "    <tr>\n",
       "      <th>amazon</th>\n",
       "      <td>225</td>\n",
       "    </tr>\n",
       "    <tr>\n",
       "      <th>disney</th>\n",
       "      <td>36</td>\n",
       "    </tr>\n",
       "    <tr>\n",
       "      <th>netflix</th>\n",
       "      <td>239</td>\n",
       "    </tr>\n",
       "  </tbody>\n",
       "</table>\n",
       "</div>"
      ],
      "text/plain": [
       "          title\n",
       "platform       \n",
       "amazon      225\n",
       "disney       36\n",
       "netflix     239"
      ]
     },
     "execution_count": 41,
     "metadata": {},
     "output_type": "execute_result"
    }
   ],
   "source": [
    "top_100_shows.groupby('platform').agg({'title':'count'})"
   ]
  },
  {
   "cell_type": "markdown",
   "metadata": {},
   "source": [
    "### Differentiation for analysis"
   ]
  },
  {
   "cell_type": "code",
   "execution_count": 242,
   "metadata": {},
   "outputs": [],
   "source": [
    "amazon_t = final_data[(final_data.platform == 'amazon') & (~final_data.imdb_rating.isnull())]"
   ]
  },
  {
   "cell_type": "code",
   "execution_count": 252,
   "metadata": {},
   "outputs": [],
   "source": [
    "amazon_movie_len = len(amazon_t[amazon_t.type == 'Movie'])"
   ]
  },
  {
   "cell_type": "code",
   "execution_count": 253,
   "metadata": {},
   "outputs": [],
   "source": [
    "amazon_show_len = len(amazon_t[amazon_t.type == 'TV Show'])"
   ]
  },
  {
   "cell_type": "code",
   "execution_count": 245,
   "metadata": {},
   "outputs": [],
   "source": [
    "netflix_t = final_data[(final_data.platform == 'netflix') & (~final_data.imdb_rating.isnull())]"
   ]
  },
  {
   "cell_type": "code",
   "execution_count": 256,
   "metadata": {},
   "outputs": [],
   "source": [
    "netflix_movie_len = len(netflix_t[netflix_t.type == 'Movie'])"
   ]
  },
  {
   "cell_type": "code",
   "execution_count": 255,
   "metadata": {},
   "outputs": [],
   "source": [
    "netflix_show_len = len(netflix_t[netflix_t.type == 'TV Show'])"
   ]
  },
  {
   "cell_type": "code",
   "execution_count": 244,
   "metadata": {},
   "outputs": [],
   "source": [
    "disney_t = final_data[(final_data.platform == 'disney') & (~final_data.imdb_rating.isnull())]"
   ]
  },
  {
   "cell_type": "code",
   "execution_count": 258,
   "metadata": {},
   "outputs": [],
   "source": [
    "disney_movie_len = len(disney_t[disney_t.type == 'Movie'])"
   ]
  },
  {
   "cell_type": "code",
   "execution_count": 257,
   "metadata": {},
   "outputs": [],
   "source": [
    "disney_show_len = len(disney_t[disney_t.type == 'TV Show'])"
   ]
  },
  {
   "cell_type": "markdown",
   "metadata": {},
   "source": [
    "### Functions for creating the final table"
   ]
  },
  {
   "cell_type": "code",
   "execution_count": 221,
   "metadata": {},
   "outputs": [],
   "source": [
    "def quantile_results(df, title_type, len_df):\n",
    "    movies_1q = df[(df.type == title_type) & (df.imdb_rating > 7.5)].groupby('platform').agg({\n",
    "    'title':lambda series: (series).count()/len_df * 100})\n",
    "    movies_2q = df[(df.type == title_type) & (df.imdb_rating <= 7.5) \n",
    "                       & (df.imdb_rating > 5.0)].groupby('platform').agg({'title':lambda series: (series).count()/len_df * 100})\n",
    "    movies_3q = df[(df.type == title_type) & (df.imdb_rating <= 5.0) \n",
    "                       & (df.imdb_rating > 2.5)].groupby('platform').agg({'title':lambda series: (series).count()/len_df * 100})\n",
    "    movies_4q = df[(df.type == title_type) & (df.imdb_rating <= 2.5)].groupby('platform').agg({\n",
    "    'title':lambda series: (series).count()/len_df * 100})\n",
    "    \n",
    "    movies_q_complete = movies_1q.join(movies_2q, lsuffix='_1q', rsuffix='_2q').join(\n",
    "    movies_3q, lsuffix= '_2q',rsuffix='_3q').join(movies_4q, lsuffix='_3q', rsuffix='_4q')\n",
    "    \n",
    "    return movies_q_complete\n",
    "    "
   ]
  },
  {
   "cell_type": "code",
   "execution_count": 259,
   "metadata": {},
   "outputs": [],
   "source": [
    "amazon_movie_q  = quantile_results(amazon_t, 'Movie', amazon_movie_len)\n",
    "netflix_movie_q = quantile_results(netflix_t, 'Movie', netflix_movie_len)\n",
    "disney_movie_q = quantile_results(disney_t, 'Movie', disney_movie_len)"
   ]
  },
  {
   "cell_type": "code",
   "execution_count": 260,
   "metadata": {},
   "outputs": [],
   "source": [
    "amazon_show_q  = quantile_results(amazon_t, 'TV Show', amazon_show_len)\n",
    "netflix_show_q = quantile_results(netflix_t, 'TV Show', netflix_show_len)\n",
    "disney_show_q = quantile_results(disney_t, 'TV Show', disney_show_len)"
   ]
  },
  {
   "cell_type": "code",
   "execution_count": 261,
   "metadata": {},
   "outputs": [
    {
     "data": {
      "text/plain": [
       "(          title_1q   title_2q  title_3q  title_4q\n",
       " platform                                         \n",
       " amazon    8.459176  54.632711  16.56002  1.036601,\n",
       "            title_1q   title_2q  title_3q  title_4q\n",
       " platform                                          \n",
       " netflix   11.497326  74.675325  13.42628   0.40107,\n",
       "           title_1q   title_2q  title_3q  title_4q\n",
       " platform                                         \n",
       " disney    12.99886  79.475485  7.411631  0.114025)"
      ]
     },
     "execution_count": 261,
     "metadata": {},
     "output_type": "execute_result"
    }
   ],
   "source": [
    "amazon_movie_q, netflix_movie_q, disney_movie_q"
   ]
  },
  {
   "cell_type": "code",
   "execution_count": 262,
   "metadata": {},
   "outputs": [
    {
     "data": {
      "text/plain": [
       "(           title_1q   title_2q  title_3q  title_4q\n",
       " platform                                          \n",
       " amazon    27.400216  42.448759   4.20712  0.377562,\n",
       "            title_1q   title_2q  title_3q  title_4q\n",
       " platform                                          \n",
       " netflix   33.217189  62.195122  4.297329   0.29036,\n",
       "            title_1q   title_2q  title_3q  title_4q\n",
       " platform                                          \n",
       " disney    38.461538  56.410256  5.128205       NaN)"
      ]
     },
     "execution_count": 262,
     "metadata": {},
     "output_type": "execute_result"
    }
   ],
   "source": [
    "amazon_show_q, netflix_show_q, disney_show_q"
   ]
  },
  {
   "cell_type": "code",
   "execution_count": null,
   "metadata": {},
   "outputs": [],
   "source": []
  }
 ],
 "metadata": {
  "kernelspec": {
   "display_name": "Python 3",
   "language": "python",
   "name": "python3"
  },
  "language_info": {
   "codemirror_mode": {
    "name": "ipython",
    "version": 3
   },
   "file_extension": ".py",
   "mimetype": "text/x-python",
   "name": "python",
   "nbconvert_exporter": "python",
   "pygments_lexer": "ipython3",
   "version": "3.9.1"
  }
 },
 "nbformat": 4,
 "nbformat_minor": 4
}
